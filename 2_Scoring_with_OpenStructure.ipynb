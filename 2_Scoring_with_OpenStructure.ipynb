{
  "nbformat": 4,
  "nbformat_minor": 0,
  "metadata": {
    "colab": {
      "provenance": [],
      "collapsed_sections": [
        "Dsc7lQGACfgY"
      ],
      "include_colab_link": true
    },
    "kernelspec": {
      "name": "python3",
      "display_name": "Python 3"
    },
    "language_info": {
      "name": "python"
    }
  },
  "cells": [
    {
      "cell_type": "markdown",
      "metadata": {
        "id": "view-in-github",
        "colab_type": "text"
      },
      "source": [
        "<a href=\"https://colab.research.google.com/github/xrobin/moving_beyond_memorisation/blob/main/2_Scoring_with_OpenStructure.ipynb\" target=\"_parent\"><img src=\"https://colab.research.google.com/assets/colab-badge.svg\" alt=\"Open In Colab\"/></a>"
      ]
    },
    {
      "cell_type": "markdown",
      "source": [
        "Run this cell, wait for the kernel to restart and then run the next cell:"
      ],
      "metadata": {
        "id": "CNY4UaP64BeO"
      }
    },
    {
      "cell_type": "markdown",
      "source": [
        "# Setup"
      ],
      "metadata": {
        "id": "v804grnK7qNu"
      }
    },
    {
      "cell_type": "code",
      "source": [
        "!pip install -q git+https://github.com/conda-incubator/condacolab.git@0.1.x\n",
        "import condacolab\n",
        "condacolab.install()"
      ],
      "metadata": {
        "id": "SzpxLc-1WBde",
        "colab": {
          "base_uri": "https://localhost:8080/"
        },
        "outputId": "76cc76c9-793c-4834-fd93-bb54878fd211"
      },
      "execution_count": 2,
      "outputs": [
        {
          "output_type": "stream",
          "name": "stdout",
          "text": [
            "  Installing build dependencies ... \u001b[?25l\u001b[?25hdone\n",
            "  Getting requirements to build wheel ... \u001b[?25l\u001b[?25hdone\n",
            "  Preparing metadata (pyproject.toml) ... \u001b[?25l\u001b[?25hdone\n",
            "  Building wheel for condacolab (pyproject.toml) ... \u001b[?25l\u001b[?25hdone\n",
            "⏬ Downloading https://github.com/conda-forge/miniforge/releases/download/23.11.0-0/Mambaforge-23.11.0-0-Linux-x86_64.sh...\n",
            "📦 Installing...\n",
            "📌 Adjusting configuration...\n",
            "🩹 Patching environment...\n",
            "⏲ Done in 0:00:12\n",
            "🔁 Restarting kernel...\n"
          ]
        }
      ]
    },
    {
      "cell_type": "code",
      "source": [
        "!mamba install -q pip scipy networkx conda-forge::boost aivant::openstructure anaconda::py-boost"
      ],
      "metadata": {
        "id": "9FFyheOIjk5x",
        "colab": {
          "base_uri": "https://localhost:8080/"
        },
        "outputId": "fa4e3a3d-d537-447a-a6dc-c4c5b50e27b1"
      },
      "execution_count": 5,
      "outputs": [
        {
          "output_type": "stream",
          "name": "stdout",
          "text": [
            "Preparing transaction: ...working... done\n",
            "Verifying transaction: ...working... done\n",
            "Executing transaction: ...working... done\n"
          ]
        }
      ]
    },
    {
      "cell_type": "code",
      "source": [
        "!ost --version"
      ],
      "metadata": {
        "id": "H29yNNtIGYrt"
      },
      "execution_count": null,
      "outputs": []
    },
    {
      "cell_type": "code",
      "source": [
        "import ost\n",
        "print(ost.__version__)"
      ],
      "metadata": {
        "id": "yTlzmUgzY60M"
      },
      "execution_count": null,
      "outputs": []
    },
    {
      "cell_type": "code",
      "source": [
        "# Check conop\n",
        "from ost import conop\n",
        "print(conop.GetDefaultLib().FindCompound(\"A1LU6\").name)"
      ],
      "metadata": {
        "id": "P-qoUbaNoR50"
      },
      "execution_count": null,
      "outputs": []
    },
    {
      "cell_type": "markdown",
      "source": [
        "# Protein-protein complex scoring"
      ],
      "metadata": {
        "id": "ahad2yEcB3jR"
      }
    },
    {
      "cell_type": "markdown",
      "source": [
        "## Data loading"
      ],
      "metadata": {
        "id": "4ZVzxoEuQohF"
      }
    },
    {
      "cell_type": "code",
      "source": [
        "!mkdir -p T1187/\n",
        "!wget https://raw.githubusercontent.com/xrobin/moving_beyond_memorisation/refs/heads/main/2_Scoring_with_OpenStructure_Data/ppi_scoring/T1187o.pdb -O T1187/T1187o.pdb\n",
        "!wget https://raw.githubusercontent.com/xrobin/moving_beyond_memorisation/refs/heads/main/2_Scoring_with_OpenStructure_Data/ppi_scoring/T1187TS447_1o_superposed.pdb -O T1187/T1187TS447_1o_superposed.pdb\n",
        "!ls T1187/"
      ],
      "metadata": {
        "id": "OVn0KzQsRCk7"
      },
      "execution_count": null,
      "outputs": []
    },
    {
      "cell_type": "code",
      "source": [
        "from ost import io\n",
        "# Target\n",
        "target_structure = io.LoadPDB(\"T1187/T1187o.pdb\")\n",
        "# Model\n",
        "model_structure = io.LoadPDB(\"T1187/T1187TS447_1o_superposed\")"
      ],
      "metadata": {
        "id": "ugmtvkFVQqvi"
      },
      "execution_count": null,
      "outputs": []
    },
    {
      "cell_type": "markdown",
      "source": [
        "## Scoring with Python interactively"
      ],
      "metadata": {
        "id": "6dVkEW7MPJGx"
      }
    },
    {
      "cell_type": "code",
      "source": [
        "\n",
        "\n",
        "from ost.mol.alg import scoring\n",
        "\n",
        "# The Scorer object processes the input structures and performs basic cleanup.\n",
        "scorer = scoring.Scorer(model_structure, target_structure)\n",
        "\n",
        "# HTML documentation available as:\n",
        "# https://openstructure.org/docs/2.8/mol/alg/scoring/#ost.mol.alg.scoring.Scorer\n",
        "# raw doc string can be displayed with:\n",
        "# help(scoring.Scorer)\n",
        "\n",
        "\n",
        "# Here we only scratch the surface and investigate a couple of relevant scores.\n",
        "# All scores are lazily evaluated and available as attributes.\n",
        "\n",
        "# the following scores operate on the full assembly which requires to derive a\n",
        "# one-to-one correspondance between model and reference chains, aka chain\n",
        "# mapping - OpenStructure does this fully automatically\n",
        "print(\"lDDT\", scorer.lddt)\n",
        "print(\"lDDT (backbone only):\", scorer.bb_lddt)\n",
        "print(\"QS-score:\", scorer.qs_global)\n",
        "\n",
        "# here is the used mapping:\n",
        "print(\"mapping (keys: trg chain, values: mdl chain):\",\n",
        "      scorer.mapping.GetFlatMapping())\n",
        "\n",
        "# Pinder strictly operates on dimers which is basically the CAPRI use-case\n",
        "# This is what DockQ and the 3 underlying scores (fnat, irmsd, lrmsd) are\n",
        "# designed for. Let's first check the interfaces in our structure:\n",
        "print(\"Interfaces evaluated by DockQ:\", scorer.dockq_interfaces)\n",
        "help(scoring.Scorer.dockq_interfaces)\n",
        "print(\"With their respective DockQ scores:\", scorer.dockq_scores)\n",
        "print(\"fnat:\", scorer.fnat)\n",
        "print(\"irmsd:\", scorer.irmsd)\n",
        "print(\"lrmsd:\", scorer.lrmsd)"
      ],
      "metadata": {
        "id": "Jc1CRs-2QZph"
      },
      "execution_count": null,
      "outputs": []
    },
    {
      "cell_type": "markdown",
      "source": [
        "## Scoring from the command line\n"
      ],
      "metadata": {
        "id": "HNXNIOpQPO8w"
      }
    },
    {
      "cell_type": "code",
      "source": [
        "!ost compare-structures -m T1187/T1187TS447_1o_superposed -mf pdb -r T1187/T1187o.pdb --lddt --bb-lddt --qs-score --dockq --out my_out.json"
      ],
      "metadata": {
        "id": "4XPwV3ieQhPB"
      },
      "execution_count": null,
      "outputs": []
    },
    {
      "cell_type": "markdown",
      "source": [
        "# Protein-ligand complex scoring"
      ],
      "metadata": {
        "id": "lLAvECm9CJb7"
      }
    },
    {
      "cell_type": "markdown",
      "source": [
        "## Data loading"
      ],
      "metadata": {
        "id": "PUHmiVqYCR_C"
      }
    },
    {
      "cell_type": "code",
      "source": [
        "!mkdir -p 9CE4/\n",
        "!wget https://raw.githubusercontent.com/xrobin/moving_beyond_memorisation/refs/heads/main/2_Scoring_with_OpenStructure_Data/ligand_scoring/9CE4_A.pdb?token=GHSAT0AAAAAACXZFLBPGUJT75QK262ZMAHSZXNOKJQ -O 9CE4/9CE4_A.pdb\n",
        "!wget https://raw.githubusercontent.com/xrobin/moving_beyond_memorisation/refs/heads/main/2_Scoring_with_OpenStructure_Data/ligand_scoring/9CE4_lig.sdf?token=GHSAT0AAAAAACXZFLBOJFQDOZJKFOJTM4J6ZXNOKBA -O 9CE4/9CE4_lig.sdf\n",
        "!wget https://raw.githubusercontent.com/xrobin/moving_beyond_memorisation/refs/heads/main/2_Scoring_with_OpenStructure_Data/ligand_scoring/996_model1.pdb?token=GHSAT0AAAAAACXZFLBPHIDZP3GIB5RJ3AREZXNOI6Q -O 9CE4/996_model1.pdb\n",
        "!wget https://raw.githubusercontent.com/xrobin/moving_beyond_memorisation/refs/heads/main/2_Scoring_with_OpenStructure_Data/ligand_scoring/996_model1_ligand1.sdf?token=GHSAT0AAAAAACXZFLBP5KJ36JXD7NOBDLPSZXNOKPQ -O 9CE4/996_model1_ligand1.sdf\n",
        "!ls 9CE4/"
      ],
      "metadata": {
        "colab": {
          "base_uri": "https://localhost:8080/"
        },
        "id": "8qPW-lEehHby",
        "outputId": "7eb0b37c-7f04-40fc-ddeb-5e87c57244c1"
      },
      "execution_count": 6,
      "outputs": [
        {
          "output_type": "stream",
          "name": "stdout",
          "text": [
            "--2024-09-23 08:41:22--  https://raw.githubusercontent.com/plinder-org/moving_beyond_memorisation/refs/heads/main/2_Scoring_with_OpenStructure_Data/ligand_scoring/9CE4_A.pdb?token=GHSAT0AAAAAACXZFLBPGUJT75QK262ZMAHSZXNOKJQ\n",
            "Resolving raw.githubusercontent.com (raw.githubusercontent.com)... 185.199.108.133, 185.199.109.133, 185.199.110.133, ...\n",
            "Connecting to raw.githubusercontent.com (raw.githubusercontent.com)|185.199.108.133|:443... connected.\n",
            "HTTP request sent, awaiting response... 404 Not Found\n",
            "2024-09-23 08:41:22 ERROR 404: Not Found.\n",
            "\n",
            "--2024-09-23 08:41:22--  https://raw.githubusercontent.com/plinder-org/moving_beyond_memorisation/refs/heads/main/2_Scoring_with_OpenStructure_Data/ligand_scoring/9CE4_lig.sdf?token=GHSAT0AAAAAACXZFLBOJFQDOZJKFOJTM4J6ZXNOKBA\n",
            "Resolving raw.githubusercontent.com (raw.githubusercontent.com)... 185.199.110.133, 185.199.108.133, 185.199.111.133, ...\n",
            "Connecting to raw.githubusercontent.com (raw.githubusercontent.com)|185.199.110.133|:443... connected.\n",
            "HTTP request sent, awaiting response... 404 Not Found\n",
            "2024-09-23 08:41:22 ERROR 404: Not Found.\n",
            "\n",
            "--2024-09-23 08:41:22--  https://raw.githubusercontent.com/plinder-org/moving_beyond_memorisation/refs/heads/main/2_Scoring_with_OpenStructure_Data/ligand_scoring/996_model1.pdb?token=GHSAT0AAAAAACXZFLBPHIDZP3GIB5RJ3AREZXNOI6Q\n",
            "Resolving raw.githubusercontent.com (raw.githubusercontent.com)... 185.199.108.133, 185.199.109.133, 185.199.110.133, ...\n",
            "Connecting to raw.githubusercontent.com (raw.githubusercontent.com)|185.199.108.133|:443... connected.\n",
            "HTTP request sent, awaiting response... 404 Not Found\n",
            "2024-09-23 08:41:22 ERROR 404: Not Found.\n",
            "\n",
            "--2024-09-23 08:41:22--  https://raw.githubusercontent.com/plinder-org/moving_beyond_memorisation/refs/heads/main/2_Scoring_with_OpenStructure_Data/ligand_scoring/996_model1_ligand1.sdf?token=GHSAT0AAAAAACXZFLBP5KJ36JXD7NOBDLPSZXNOKPQ\n",
            "Resolving raw.githubusercontent.com (raw.githubusercontent.com)... 185.199.108.133, 185.199.109.133, 185.199.110.133, ...\n",
            "Connecting to raw.githubusercontent.com (raw.githubusercontent.com)|185.199.108.133|:443... connected.\n",
            "HTTP request sent, awaiting response... 404 Not Found\n",
            "2024-09-23 08:41:22 ERROR 404: Not Found.\n",
            "\n",
            "996_model1_ligand1.sdf\t996_model1.pdb\t9CE4_A.pdb  9CE4_lig.sdf\n"
          ]
        }
      ]
    },
    {
      "cell_type": "code",
      "source": [
        "!ls -l 9CE4/"
      ],
      "metadata": {
        "colab": {
          "base_uri": "https://localhost:8080/"
        },
        "id": "-PQhOQURAnbW",
        "outputId": "76e4a1aa-328c-45e0-ca3f-f2ff35e48efd"
      },
      "execution_count": null,
      "outputs": [
        {
          "output_type": "stream",
          "name": "stdout",
          "text": [
            "total 0\n",
            "-rw-r--r-- 1 root root 0 Sep 20 15:17 996_model1_ligand1.sdf\n",
            "-rw-r--r-- 1 root root 0 Sep 20 15:17 996_model1.pdb\n",
            "-rw-r--r-- 1 root root 0 Sep 20 15:17 9CE4_A.pdb\n",
            "-rw-r--r-- 1 root root 0 Sep 20 15:17 9CE4_lig.sdf\n"
          ]
        }
      ]
    },
    {
      "cell_type": "code",
      "source": [
        "from ost import io\n",
        "# Target\n",
        "target_structure = io.LoadPDB(\"9CE4/9CE4_A.pdb\")\n",
        "target_ligand = io.LoadSDF(\"9CE4/9CE4_lig.sdf\")\n",
        "# Model\n",
        "model_structure = io.LoadPDB(\"9CE4/996_model1.pdb\")\n",
        "model_ligand = io.LoadSDF(\"9CE4/996_model1_ligand1.sdf\")\n"
      ],
      "metadata": {
        "id": "dzM2VEJEGN60",
        "colab": {
          "base_uri": "https://localhost:8080/",
          "height": 350
        },
        "outputId": "db4dcd19-33cd-4ec1-cb37-580abb4c506f"
      },
      "execution_count": null,
      "outputs": [
        {
          "output_type": "error",
          "ename": "OSError",
          "evalue": "File '9CE4/9CE4_A.pdb' doesn't contain any entities",
          "traceback": [
            "\u001b[0;31m---------------------------------------------------------------------------\u001b[0m",
            "\u001b[0;31mOSError\u001b[0m                                   Traceback (most recent call last)",
            "\u001b[0;32m<ipython-input-37-ee6550e3811d>\u001b[0m in \u001b[0;36m<cell line: 3>\u001b[0;34m()\u001b[0m\n\u001b[1;32m      1\u001b[0m \u001b[0;32mfrom\u001b[0m \u001b[0most\u001b[0m \u001b[0;32mimport\u001b[0m \u001b[0mio\u001b[0m\u001b[0;34m\u001b[0m\u001b[0;34m\u001b[0m\u001b[0m\n\u001b[1;32m      2\u001b[0m \u001b[0;31m# Target\u001b[0m\u001b[0;34m\u001b[0m\u001b[0;34m\u001b[0m\u001b[0m\n\u001b[0;32m----> 3\u001b[0;31m \u001b[0mtarget_structure\u001b[0m \u001b[0;34m=\u001b[0m \u001b[0mio\u001b[0m\u001b[0;34m.\u001b[0m\u001b[0mLoadPDB\u001b[0m\u001b[0;34m(\u001b[0m\u001b[0;34m\"9CE4/9CE4_A.pdb\"\u001b[0m\u001b[0;34m)\u001b[0m\u001b[0;34m\u001b[0m\u001b[0;34m\u001b[0m\u001b[0m\n\u001b[0m\u001b[1;32m      4\u001b[0m \u001b[0mtarget_ligand\u001b[0m \u001b[0;34m=\u001b[0m \u001b[0mio\u001b[0m\u001b[0;34m.\u001b[0m\u001b[0mLoadSDF\u001b[0m\u001b[0;34m(\u001b[0m\u001b[0;34m\"9CE4/9CE4_lig.sdf\"\u001b[0m\u001b[0;34m)\u001b[0m\u001b[0;34m\u001b[0m\u001b[0;34m\u001b[0m\u001b[0m\n\u001b[1;32m      5\u001b[0m \u001b[0;31m# Model\u001b[0m\u001b[0;34m\u001b[0m\u001b[0;34m\u001b[0m\u001b[0m\n",
            "\u001b[0;32m/usr/local/lib/python3.10/site-packages/ost/io/__init__.py\u001b[0m in \u001b[0;36mLoadPDB\u001b[0;34m(filename, restrict_chains, no_hetatms, fault_tolerant, load_multi, join_spread_atom_records, calpha_only, profile, remote, remote_repo, dialect, seqres, bond_feasibility_check, read_conect)\u001b[0m\n\u001b[1;32m    247\u001b[0m           \u001b[0mprof\u001b[0m\u001b[0;34m.\u001b[0m\u001b[0mprocessor\u001b[0m\u001b[0;34m.\u001b[0m\u001b[0mProcess\u001b[0m\u001b[0;34m(\u001b[0m\u001b[0ment\u001b[0m\u001b[0;34m)\u001b[0m\u001b[0;34m\u001b[0m\u001b[0;34m\u001b[0m\u001b[0m\n\u001b[1;32m    248\u001b[0m       \u001b[0;32melse\u001b[0m\u001b[0;34m:\u001b[0m\u001b[0;34m\u001b[0m\u001b[0;34m\u001b[0m\u001b[0m\n\u001b[0;32m--> 249\u001b[0;31m         \u001b[0;32mraise\u001b[0m \u001b[0mIOError\u001b[0m\u001b[0;34m(\u001b[0m\u001b[0;34m\"File '%s' doesn't contain any entities\"\u001b[0m \u001b[0;34m%\u001b[0m \u001b[0mfilename\u001b[0m\u001b[0;34m)\u001b[0m\u001b[0;34m\u001b[0m\u001b[0;34m\u001b[0m\u001b[0m\n\u001b[0m\u001b[1;32m    250\u001b[0m       \u001b[0;32mif\u001b[0m \u001b[0mseqres\u001b[0m\u001b[0;34m:\u001b[0m\u001b[0;34m\u001b[0m\u001b[0;34m\u001b[0m\u001b[0m\n\u001b[1;32m    251\u001b[0m         \u001b[0;32mreturn\u001b[0m \u001b[0ment\u001b[0m\u001b[0;34m,\u001b[0m \u001b[0mreader\u001b[0m\u001b[0;34m.\u001b[0m\u001b[0mseqres\u001b[0m\u001b[0;34m\u001b[0m\u001b[0;34m\u001b[0m\u001b[0m\n",
            "\u001b[0;31mOSError\u001b[0m: File '9CE4/9CE4_A.pdb' doesn't contain any entities"
          ]
        }
      ]
    },
    {
      "cell_type": "markdown",
      "source": [
        "## Data cleanup\n",
        "\n"
      ],
      "metadata": {
        "id": "xKI7YNt2CXfH"
      }
    },
    {
      "cell_type": "markdown",
      "source": [
        "For ligand scoring in Python, structures must be cleaned up hydrogen atoms removed before executing the scorer. Protein structures are cleaned with Molck (the Molecular checker), and ligands with a simple selection."
      ],
      "metadata": {
        "id": "shaxW_NqD_Vt"
      }
    },
    {
      "cell_type": "code",
      "source": [
        "# Cleanup a copy of the protein structures\n",
        "from ost import conop\n",
        "from ost.mol.alg import Molck, MolckSettings\n",
        "cleaned_model_structure = model_structure.Copy()\n",
        "cleaned_target_structure = target_structure.Copy()\n",
        "molck_settings = MolckSettings(rm_unk_atoms=True,  # Remove unknown atoms\n",
        "                               rm_non_std=False,  # Keep non standard residues\n",
        "                               rm_hyd_atoms=True,  # Remove Hydrogens\n",
        "                               rm_oxt_atoms=False,  # Keep terminal oxygens\n",
        "                               rm_zero_occ_atoms=False,  # Keep atoms with 0 occupancy\n",
        "                               colored=False,\n",
        "                               map_nonstd_res=False,\n",
        "                               assign_elem=True)\n",
        "Molck(cleaned_model_structure, conop.GetDefaultLib(), molck_settings)\n",
        "Molck(cleaned_target_structure, conop.GetDefaultLib(), molck_settings)"
      ],
      "metadata": {
        "id": "YxmbEtoRnQGf"
      },
      "execution_count": null,
      "outputs": []
    },
    {
      "cell_type": "code",
      "source": [
        "# Cleanup the ligands\n",
        "# Remove hydrogens\n",
        "cleaned_model_ligand = model_ligand.Select(\"ele != H and ele != D\")\n",
        "cleaned_target_ligand = target_ligand.Select(\"ele != H and ele != D\")\n"
      ],
      "metadata": {
        "id": "Kf3JUZS8ne2w"
      },
      "execution_count": null,
      "outputs": []
    },
    {
      "cell_type": "code",
      "source": [
        "from ost.mol.alg.ligand_scoring import LDDTPLIScorer, SCRMSDScorer\n",
        "\n",
        "help(LDDTPLIScorer)\n",
        "help(SCRMSDScorer)"
      ],
      "metadata": {
        "id": "tZL-Xsx3AczX"
      },
      "execution_count": null,
      "outputs": []
    },
    {
      "cell_type": "markdown",
      "source": [
        "## Scoring with Python interactively"
      ],
      "metadata": {
        "id": "8JAWbIo_O2gv"
      }
    },
    {
      "cell_type": "code",
      "source": [
        "# Score with LDDT-PLI\n",
        "scorer = LDDTPLIScorer(\n",
        "    target = cleaned_target_structure,\n",
        "    target_ligands = [cleaned_target_ligand],\n",
        "    model = cleaned_model_structure,\n",
        "    model_ligands = [cleaned_model_ligand],\n",
        "    # Extra arguments\n",
        "    resnum_alignments=True,\n",
        "    )\n",
        "chain_name = cleaned_model_ligand.chains[0].name\n",
        "residue_number = cleaned_model_ligand.residues[0].number\n",
        "print(\"LDDT-PLI: \", scorer.score[chain_name][residue_number])\n",
        "\n",
        "# Score with RMSD\n",
        "scorer = SCRMSDScorer(\n",
        "    target = cleaned_target_structure,\n",
        "    target_ligands = [cleaned_target_ligand],\n",
        "    model = cleaned_model_structure,\n",
        "    model_ligands = [cleaned_model_ligand],\n",
        "    # Extra arguments\n",
        "    resnum_alignments=True,\n",
        "    )\n",
        "print(\"BiSyRMSD: \", scorer.score[chain_name][residue_number])\n",
        "print(\"LDDT-LP: \", scorer.aux[chain_name][residue_number][\"lddt_lp\"])\n"
      ],
      "metadata": {
        "id": "BgrWoTKOkhr3",
        "colab": {
          "base_uri": "https://localhost:8080/"
        },
        "outputId": "a9c62c3c-1cec-4ad4-f6e4-fbd040853f29"
      },
      "execution_count": null,
      "outputs": [
        {
          "output_type": "stream",
          "name": "stdout",
          "text": [
            "LDDT-PLI:  0.7669142\n",
            "BiSyRMSD:  1.943465\n",
            "LDDT-LP:  0.9311297811187265\n"
          ]
        }
      ]
    },
    {
      "cell_type": "markdown",
      "source": [
        "## Scoring from the command line"
      ],
      "metadata": {
        "id": "Dsc7lQGACfgY"
      }
    },
    {
      "cell_type": "code",
      "source": [
        "! ost compare-ligand-structures \\\n",
        "    --reference 9CE4/9CE4_A.pdb \\\n",
        "    --reference-ligands 9CE4/9CE4_lig.sdf \\\n",
        "    --model 9CE4/996_model1.pdb \\\n",
        "    --model-ligands 9CE4/996_model1_ligand1.sdf \\\n",
        "    --output T1186LG350_1.json \\\n",
        "    --lddt-pli \\\n",
        "    --rmsd"
      ],
      "metadata": {
        "id": "5XfKIQZdpmrR"
      },
      "execution_count": null,
      "outputs": []
    }
  ]
}