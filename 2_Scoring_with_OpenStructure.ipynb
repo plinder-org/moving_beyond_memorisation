{
  "nbformat": 4,
  "nbformat_minor": 0,
  "metadata": {
    "colab": {
      "provenance": []
    },
    "kernelspec": {
      "name": "python3",
      "display_name": "Python 3"
    },
    "language_info": {
      "name": "python"
    }
  },
  "cells": [
    {
      "cell_type": "markdown",
      "source": [
        "Run this cell, wait for the kernel to restart and then run the next cell:"
      ],
      "metadata": {
        "id": "CNY4UaP64BeO"
      }
    },
    {
      "cell_type": "code",
      "source": [
        "!pip install -q git+https://github.com/conda-incubator/condacolab.git@0.1.x\n",
        "import condacolab\n",
        "condacolab.install()"
      ],
      "metadata": {
        "id": "SzpxLc-1WBde"
      },
      "execution_count": null,
      "outputs": []
    },
    {
      "cell_type": "code",
      "source": [
        "!mamba install -q pip scipy networkx conda-forge::boost aivant::openstructure anaconda::py-boost"
      ],
      "metadata": {
        "id": "9FFyheOIjk5x"
      },
      "execution_count": null,
      "outputs": []
    },
    {
      "cell_type": "code",
      "source": [
        "!ost --version"
      ],
      "metadata": {
        "id": "H29yNNtIGYrt"
      },
      "execution_count": null,
      "outputs": []
    },
    {
      "cell_type": "code",
      "source": [
        "import ost\n",
        "print(ost.__version__)"
      ],
      "metadata": {
        "id": "yTlzmUgzY60M"
      },
      "execution_count": null,
      "outputs": []
    },
    {
      "cell_type": "code",
      "source": [
        "# Check conop\n",
        "from ost import conop\n",
        "print(conop.GetDefaultLib().FindCompound(\"A1LU6\").name)"
      ],
      "metadata": {
        "id": "P-qoUbaNoR50"
      },
      "execution_count": null,
      "outputs": []
    },
    {
      "cell_type": "code",
      "source": [
        "from ost import io\n",
        "# Target\n",
        "target_structure = io.LoadPDB(\"9CE4/9CE4_A.pdb\")\n",
        "target_ligand = io.LoadSDF(\"9CE4/9CE4_lig.sdf\")\n",
        "# Model\n",
        "model_structure = io.LoadPDB(\"9CE4/996_model1.pdb\")\n",
        "model_ligand = io.LoadSDF(\"9CE4/996_model1_ligand1.sdf\")\n"
      ],
      "metadata": {
        "id": "dzM2VEJEGN60"
      },
      "execution_count": null,
      "outputs": []
    },
    {
      "cell_type": "code",
      "source": [
        "# Cleanup a copy of the protein structures\n",
        "from ost import conop\n",
        "from ost.mol.alg import Molck, MolckSettings\n",
        "cleaned_model_structure = model_structure.Copy()\n",
        "cleaned_target_structure = target_structure.Copy()\n",
        "molck_settings = MolckSettings(rm_unk_atoms=True,  # Remove unknown atoms\n",
        "                               rm_non_std=False,  # Keep non standard residues\n",
        "                               rm_hyd_atoms=True,  # Remove Hydrogens\n",
        "                               rm_oxt_atoms=False,  # Keep terminal oxygens\n",
        "                               rm_zero_occ_atoms=False,  # Keep atoms with 0 occupancy\n",
        "                               colored=False,\n",
        "                               map_nonstd_res=False,\n",
        "                               assign_elem=True)\n",
        "Molck(cleaned_model_structure, conop.GetDefaultLib(), molck_settings)\n",
        "Molck(cleaned_target_structure, conop.GetDefaultLib(), molck_settings)"
      ],
      "metadata": {
        "id": "YxmbEtoRnQGf"
      },
      "execution_count": null,
      "outputs": []
    },
    {
      "cell_type": "code",
      "source": [
        "# Cleanup the ligands\n",
        "# Remove hydrogens\n",
        "cleaned_model_ligand = model_ligand.Select(\"ele != H and ele != D\")\n",
        "cleaned_target_ligand = target_ligand.Select(\"ele != H and ele != D\")\n"
      ],
      "metadata": {
        "id": "Kf3JUZS8ne2w"
      },
      "execution_count": null,
      "outputs": []
    },
    {
      "cell_type": "code",
      "source": [
        "from ost.mol.alg.ligand_scoring import LDDTPLIScorer, SCRMSDScorer\n",
        "\n",
        "# Score with LDDT-PLI\n",
        "scorer = LDDTPLIScorer(\n",
        "    target = cleaned_target_structure,\n",
        "    target_ligands = [cleaned_target_ligand],\n",
        "    model = cleaned_model_structure,\n",
        "    model_ligands = [cleaned_model_ligand],\n",
        "    # Extra arguments\n",
        "    resnum_alignments=True,\n",
        "    )\n",
        "chain_name = cleaned_model_ligand.chains[0].name\n",
        "residue_number = cleaned_model_ligand.residues[0].number\n",
        "print(\"LDDT-PLI: \", scorer.score[chain_name][residue_number])\n",
        "\n",
        "# Score with RMSD\n",
        "scorer = SCRMSDScorer(\n",
        "    target = cleaned_target_structure,\n",
        "    target_ligands = [cleaned_target_ligand],\n",
        "    model = cleaned_model_structure,\n",
        "    model_ligands = [cleaned_model_ligand],\n",
        "    # Extra arguments\n",
        "    resnum_alignments=True,\n",
        "    )\n",
        "print(\"BiSyRMSD: \", scorer.score[chain_name][residue_number])\n",
        "print(\"LDDT-LP: \", scorer.aux[chain_name][residue_number][\"lddt_lp\"])\n"
      ],
      "metadata": {
        "id": "BgrWoTKOkhr3"
      },
      "execution_count": null,
      "outputs": []
    },
    {
      "cell_type": "code",
      "source": [
        "! ost compare-ligand-structures \\\n",
        "    --reference 9CE4/9CE4_A.pdb \\\n",
        "    --reference-ligands 9CE4/9CE4_lig.sdf \\\n",
        "    --model 9CE4/996_model1.pdb \\\n",
        "    --model-ligands 9CE4/996_model1_ligand1.sdf \\\n",
        "    --output T1186LG350_1.json \\\n",
        "    --lddt-pli \\\n",
        "    --rmsd"
      ],
      "metadata": {
        "id": "5XfKIQZdpmrR"
      },
      "execution_count": null,
      "outputs": []
    },
    {
      "cell_type": "code",
      "source": [],
      "metadata": {
        "id": "qsbMrTpmsiBf"
      },
      "execution_count": null,
      "outputs": []
    }
  ]
}