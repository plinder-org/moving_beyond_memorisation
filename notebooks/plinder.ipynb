{
  "cells": [
    {
      "cell_type": "markdown",
      "metadata": {
        "colab_type": "text",
        "id": "view-in-github"
      },
      "source": [
        "<a href=\"https://colab.research.google.com/github/plinder-org/moving_beyond_memorisation/blob/main/notebooks/plinder.ipynb\" target=\"_parent\"><img src=\"https://colab.research.google.com/assets/colab-badge.svg\" alt=\"Open In Colab\"/></a>"
      ]
    },
    {
      "cell_type": "markdown",
      "metadata": {
        "id": "GXKnclVyJCtl"
      },
      "source": [
        "Please run only the first cell, wait for the kernel to restart, and then continue with the second cell"
      ]
    },
    {
      "cell_type": "code",
      "execution_count": null,
      "metadata": {
        "colab": {
          "base_uri": "https://localhost:8080/"
        },
        "id": "FyL4umWkI1Zv",
        "outputId": "c37664b6-3a2e-4350-b7fd-ba378022e46a"
      },
      "outputs": [],
      "source": [
        "!pip install -q git+https://github.com/conda-incubator/condacolab.git@0.1.x\n",
        "import condacolab\n",
        "condacolab.install()"
      ]
    },
    {
      "cell_type": "code",
      "execution_count": null,
      "metadata": {
        "colab": {
          "base_uri": "https://localhost:8080/"
        },
        "id": "rAzYePG7I26a",
        "outputId": "2e6f6538-56f2-44b8-9733-cf4444b82f54"
      },
      "outputs": [],
      "source": [
        "!mamba install -q pip scipy networkx aivant::openstructure plip\n",
        "!pip install -q networkit tabulate\n",
        "!pip install -q pdb-validation@git+https://git.scicore.unibas.ch/schwede/ligand-validation.git\n",
        "!pip install -q mmpdb@git+https://github.com/rdkit/mmpdb.git\n",
        "!pip install -q plinder@git+https://github.com/plinder-org/plinder@revamp_loader\n",
        "!pip install -q py3Dmol"
      ]
    },
    {
      "cell_type": "markdown",
      "metadata": {
        "id": "HUW64V9OIZq6"
      },
      "source": [
        "# Downloading the dataset\n",
        "\n",
        "The default location for the dataset is `~/.local/share/pinder/<PLINDER_RELEASE>/<PLINDER_ITERATION>` where:\n",
        "- `<PLINDER_RELEASE>` is the date of the PDB sync used to generate the dataset (e.g 2024-06)\n",
        "- `<PLINDER_ITERATION>` is the iteration of the source code that generated the dataset (e.g. `v2`)\n",
        "\n",
        "If you want to use a different location, you can do so by setting the `PLINDER_MOUNT` environment variable. For example, in the Google Colab context we could set it to \"/content\" so that we can see the files in the file browser.\n"
      ]
    },
    {
      "cell_type": "code",
      "execution_count": null,
      "metadata": {
        "colab": {
          "base_uri": "https://localhost:8080/"
        },
        "id": "OWIff0kvBT4_",
        "outputId": "b71d32b3-8e78-4fe8-ed02-9ef5c9212163"
      },
      "outputs": [],
      "source": [
        "%env PLINDER_LOG_LEVEL=0\n",
        "%env PLINDER_MOUNT=/content"
      ]
    },
    {
      "cell_type": "markdown",
      "metadata": {
        "id": "l8mz3IiZG6Fz"
      },
      "source": [
        "\n",
        "### Use `plinder_download` to download the complete dataset\n",
        "\n",
        "```bash\n",
        "plinder_download --help\n",
        "usage:\n",
        "    Download the full plinder dataset for the current configuration.\n",
        "    Note that even though this is wrapped in a progress bar, the estimated\n",
        "    completion time can vary wildly as it iterates over larger files vs.\n",
        "    smaller ones.\n",
        "    \n",
        "\n",
        "optional arguments:\n",
        "  -h, --help            show this help message and exit\n",
        "  --release RELEASE     plinder release\n",
        "  --iteration ITERATION\n",
        "                        plinder iteration\n",
        "  -y, --yes             skip confirmation\n",
        "```\n",
        "\n",
        "**NOTE: _This will take around an hour to complete and downloads around 1TB of data_**.\n",
        "\n",
        "But after this is done you can set the `PLINDER_OFFLINE` environment variable to `true` to avoid downloading the data again."
      ]
    },
    {
      "cell_type": "markdown",
      "metadata": {
        "id": "YPuePCd1G_PM"
      },
      "source": [
        "### Use the `plinder` Python package to lazily access the dataset\n",
        "\n",
        "Alternatively, if the `PLINDER_OFFLINE` environment variable is set to `false` (which is the default), the dataset will be downloaded on lazily and on the fly as you access the data. This is preferred for exploration and prototyping as you don't need to download the entire dataset at once and can just work with the assets you need for your use-case."
      ]
    },
    {
      "cell_type": "code",
      "execution_count": null,
      "metadata": {
        "colab": {
          "base_uri": "https://localhost:8080/"
        },
        "id": "_bLvbQb3Id47",
        "outputId": "6f2a393c-c6a6-42dc-85fe-fdf0b4132454"
      },
      "outputs": [],
      "source": [
        "import plinder.core.utils.config\n",
        "\n",
        "cfg = plinder.core.get_config()\n",
        "print(f\"local directory: {cfg.data.plinder_dir}\")\n",
        "print(f\"remote data directory: {cfg.data.plinder_remote}\")"
      ]
    },
    {
      "cell_type": "code",
      "execution_count": null,
      "metadata": {
        "id": "aFB7KIPUId47"
      },
      "outputs": [],
      "source": [
        "import matplotlib.pyplot as plt\n",
        "import numpy as np\n",
        "import py3Dmol\n",
        "\n",
        "import tempfile\n",
        "from biotite.structure.io import pdbx"
      ]
    },
    {
      "cell_type": "markdown",
      "metadata": {
        "id": "M4RXuUstId48"
      },
      "source": [
        "# The PLINDEX\n"
      ]
    },
    {
      "cell_type": "markdown",
      "metadata": {
        "id": "J2yct0qfCRvQ"
      },
      "source": [
        "## Querying and filtering the index\n",
        "\n",
        "Your main entry point to the dataset is the annotations table or the **index**, which is a Parquet file containing all the annotations for each system in the dataset.\n",
        "\n",
        "**NOTE: _The entire file has 745 columns, >1.3M rows, and takes 24G of RAM to load into memory_**\n",
        "\n",
        "We provide a `query_index` function to access the index and filter it based on the columns and criteria you need."
      ]
    },
    {
      "cell_type": "code",
      "execution_count": null,
      "metadata": {
        "id": "cJrA_DNtId48"
      },
      "outputs": [],
      "source": [
        "from plinder.core.scores import query_index"
      ]
    },
    {
      "cell_type": "markdown",
      "metadata": {
        "id": "5j7IHyVdId48"
      },
      "source": [
        "The core of the PLINDER dataset is a collection of Protein-Ligand Interaction (PLI) systems extracted from the Protein Data Bank (PDB). The curation process in a nutshell is as follows:\n",
        "\n",
        "1. For every PDB entry, we generate all available biological assemblies (biounits).\n",
        "2. For each biounit, we identify all ligands and all protein chains within 6 Å of any ligand.\n",
        "3. Ligands within 4 Å of each other are merged into a single PLI system.\n",
        "4. For each system, we provide a range of detailed annotations and files to facilitate in-depth analysis and to enable a variety of use-cases.\n",
        "\n",
        "Thus, a PLI **_system_** is defined as a collection of **_protein_** and **_ligand_** chains that are in close proximity to each other within a given **_biounit_** of a given PDB **_entry_**. The **_pocket_** of a system is defined as the set of protein residues within 6 Å of the ligands in the system.\n",
        "\n",
        "Let's look at all the columns that define a `system`:"
      ]
    },
    {
      "cell_type": "code",
      "execution_count": null,
      "metadata": {
        "colab": {
          "base_uri": "https://localhost:8080/",
          "height": 709,
          "referenced_widgets": [
            "9bff8e8d9fab4a138ce25ff2e78e5679",
            "cc4b6102040a41779cf8fd916fadb66d",
            "db20931741084dbca197878951b98983"
          ]
        },
        "id": "nLW0przyId49",
        "outputId": "e0bdd84d-a5b0-4fe6-cd7f-2ebd526c8921"
      },
      "outputs": [],
      "source": [
        "plindex = query_index(\n",
        "    columns=[\n",
        "        \"system_id\",\n",
        "        \"entry_pdb_id\",\n",
        "        \"system_biounit_id\",\n",
        "        \"system_protein_chains_asym_id\",\n",
        "        \"system_ligand_chains_asym_id\",\n",
        "        \"ligand_instance_chain\",\n",
        "    ]\n",
        ")\n",
        "plindex.head(20)"
      ]
    },
    {
      "cell_type": "markdown",
      "metadata": {
        "id": "Q7N6e8DyId49"
      },
      "source": [
        "Thus, a system is uniquely qualified by its `system_id` which is a combination of\n",
        "- `entry_pdb_id` - the PDB identifier\n",
        "- `system_biounit_id` - the biological assembly identifier\n",
        "- `system_protein_chains_asym_id` - The list of protein chains in the system defined by their `<instance>.<label_asym_id>`\n",
        "- `system_ligand_chains_asym_id` - The list of ligand chains in the system defined by their `<instance>.<label_asym_id>`\n",
        "\n",
        "Systems containing multiple ligands (e.g `4grc__1__1.A__1.C_1.D`) span multiple rows, where each row represents a different ligand in the system (as seen in the `ligand_instance_chain` column)."
      ]
    },
    {
      "cell_type": "code",
      "execution_count": null,
      "metadata": {
        "colab": {
          "base_uri": "https://localhost:8080/"
        },
        "id": "LP61q18FId49",
        "outputId": "795aca2f-71d7-4d55-cc29-e2909f8214e8"
      },
      "outputs": [],
      "source": [
        "print(f\"Number of ligands: {plindex.shape[0]}\")\n",
        "print(f\"Number of systems: {plindex.system_id.nunique()}\")\n",
        "print(\n",
        "    f\"Number of biounits: {plindex[['entry_pdb_id', 'system_biounit_id']].drop_duplicates().shape[0]}\"\n",
        ")\n",
        "print(f\"Number of PDB IDs: {plindex.entry_pdb_id.nunique()}\")"
      ]
    },
    {
      "cell_type": "markdown",
      "metadata": {
        "id": "NgvqiZdpId49"
      },
      "source": [
        "While `query_index` by default loads all the systems in the `train` and `val` splits, not every returned system may be useful for training your model."
      ]
    },
    {
      "cell_type": "code",
      "execution_count": null,
      "metadata": {
        "id": "Ewek3vFeId49"
      },
      "outputs": [],
      "source": [
        "plindex = query_index(\n",
        "    columns=[\n",
        "        \"system_id\",\n",
        "        \"system_num_protein_chains\",\n",
        "        \"system_num_ligand_chains\",\n",
        "        \"system_type\",\n",
        "        \"ligand_is_ion\",\n",
        "        \"ligand_is_artifact\",\n",
        "        \"ligand_is_cofactor\",\n",
        "        \"ligand_is_fragment\",\n",
        "    ]\n",
        ")"
      ]
    },
    {
      "cell_type": "markdown",
      "metadata": {
        "id": "z32nAQ1OId49"
      },
      "source": [
        "You may only be interested in systems with a certain number of protein or ligand chains, or you may want to exclude systems with ions or cofactors:"
      ]
    },
    {
      "cell_type": "code",
      "execution_count": null,
      "metadata": {
        "colab": {
          "base_uri": "https://localhost:8080/",
          "height": 272
        },
        "id": "Sm868v55Id49",
        "outputId": "0a78f851-21bb-4b9e-9b70-f6a1b95d7714"
      },
      "outputs": [],
      "source": [
        "plindex.system_num_protein_chains.value_counts()"
      ]
    },
    {
      "cell_type": "code",
      "execution_count": null,
      "metadata": {
        "colab": {
          "base_uri": "https://localhost:8080/",
          "height": 272
        },
        "id": "-IkxX7njId4-",
        "outputId": "c864eb06-d06b-4d43-bb40-abeb307f0161"
      },
      "outputs": [],
      "source": [
        "plindex.system_num_ligand_chains.value_counts()"
      ]
    },
    {
      "cell_type": "code",
      "execution_count": null,
      "metadata": {
        "colab": {
          "base_uri": "https://localhost:8080/",
          "height": 178
        },
        "id": "9kCf95ioId4-",
        "outputId": "03ffc5c4-8377-4216-d60d-4d7a750a90b7"
      },
      "outputs": [],
      "source": [
        "plindex.ligand_is_ion.value_counts()"
      ]
    },
    {
      "cell_type": "code",
      "execution_count": null,
      "metadata": {
        "colab": {
          "base_uri": "https://localhost:8080/",
          "height": 178
        },
        "id": "RE3eok8xId4-",
        "outputId": "8023d2e5-7461-4c7d-8746-ded22fdacc36"
      },
      "outputs": [],
      "source": [
        "plindex.ligand_is_artifact.value_counts()"
      ]
    },
    {
      "cell_type": "code",
      "execution_count": null,
      "metadata": {
        "colab": {
          "base_uri": "https://localhost:8080/",
          "height": 178
        },
        "id": "JWGjAYCzId4-",
        "outputId": "45b5c452-586c-442b-b9cb-dff5ab5894dc"
      },
      "outputs": [],
      "source": [
        "plindex.ligand_is_fragment.value_counts()"
      ]
    },
    {
      "cell_type": "code",
      "execution_count": null,
      "metadata": {
        "colab": {
          "base_uri": "https://localhost:8080/",
          "height": 178
        },
        "id": "LhKrWmKHId4-",
        "outputId": "8485e2dc-13f2-4a2f-9db3-a6cb5c2239b1"
      },
      "outputs": [],
      "source": [
        "plindex.ligand_is_cofactor.value_counts()"
      ]
    },
    {
      "cell_type": "markdown",
      "metadata": {
        "id": "V6fKNotdId4-"
      },
      "source": [
        "### Single-ligand single-protein predictors\n",
        "\n",
        "As an example, we consider the case of training single-ligand single-protein models. One way to filter training data is as follows:"
      ]
    },
    {
      "cell_type": "code",
      "execution_count": null,
      "metadata": {
        "id": "jfPBgK5EId4-"
      },
      "outputs": [],
      "source": [
        "plindex_single = query_index(\n",
        "    filters=[\n",
        "        (\"system_num_ligand_chains\", \"==\", 1),\n",
        "        (\"system_num_protein_chains\", \"==\", 1),\n",
        "    ],\n",
        "    splits=[\"train\"],\n",
        ")"
      ]
    },
    {
      "cell_type": "code",
      "execution_count": null,
      "metadata": {
        "colab": {
          "base_uri": "https://localhost:8080/"
        },
        "id": "Sl_tuNNtId4-",
        "outputId": "5711dc70-7a6b-48cf-bfe5-a9352abcfe1a"
      },
      "outputs": [],
      "source": [
        "plindex_single.system_id.nunique()"
      ]
    },
    {
      "cell_type": "markdown",
      "metadata": {
        "id": "P4uZu2d5Id4-"
      },
      "source": [
        "However, as PLINDER also considers ions and crystallization artifacts as ligands if they are within 4 Å of a non-ion non-artifact ligand, there are also systems in PLINDER which only have one \"proper\" ligand. So, another strategy would be to only train on the proper ligands and ignore the ions and artifacts in the system."
      ]
    },
    {
      "cell_type": "code",
      "execution_count": null,
      "metadata": {
        "id": "u8a6S8HFId4_"
      },
      "outputs": [],
      "source": [
        "plindex_single_proper = query_index(\n",
        "    filters=[\n",
        "        (\"system_proper_num_ligand_chains\", \"==\", 1),\n",
        "        (\"system_num_protein_chains\", \"==\", 1),\n",
        "        (\"ligand_is_proper\", \"==\", True),  # filters out all other ligands in the system\n",
        "    ],\n",
        "    splits=[\"train\"],\n",
        ")"
      ]
    },
    {
      "cell_type": "code",
      "execution_count": null,
      "metadata": {
        "colab": {
          "base_uri": "https://localhost:8080/"
        },
        "id": "JUMPSk9PId4_",
        "outputId": "ddae276a-88f9-42a1-885c-ff0d7f004b97"
      },
      "outputs": [],
      "source": [
        "plindex_single_proper.system_id.nunique()"
      ]
    },
    {
      "cell_type": "markdown",
      "metadata": {
        "id": "xvWdMyx4Id4_"
      },
      "source": [
        "This can provide up to 20% more data for training, however, the caveat is that some of the interactions made by artifacts or ions may influence the binding pose of the \"proper\" ligand.\n",
        "\n",
        "One could also choose to include multi-ligand systems but only train with one ligand at a time, and the same for multi-protein. These choices are up to the user and we provide the annotations to enable such choices."
      ]
    },
    {
      "cell_type": "markdown",
      "metadata": {
        "id": "W9eWsxyNId4_"
      },
      "source": [
        "## Annotations"
      ]
    },
    {
      "cell_type": "markdown",
      "metadata": {
        "id": "wLatSzjpId4_"
      },
      "source": [
        "There are 745 columns in the full index. Of course, not every one will be useful for your use-case so we'll go through some common categories of them and some  use-cases requiring different annotations. You can get the full list of columns with descriptions as below, and these are also described in the [index docs](https://plinder-org.github.io/plinder/dataset.html#annotation-tables-index)."
      ]
    },
    {
      "cell_type": "code",
      "execution_count": null,
      "metadata": {
        "colab": {
          "base_uri": "https://localhost:8080/",
          "height": 424
        },
        "id": "OKXgEJTmId4_",
        "outputId": "0a76e64c-29a1-4509-ca25-5f9894621a37"
      },
      "outputs": [],
      "source": [
        "from plinder.data.docs import get_all_column_descriptions\n",
        "\n",
        "column_descriptions = get_all_column_descriptions()\n",
        "column_descriptions"
      ]
    },
    {
      "cell_type": "markdown",
      "metadata": {
        "id": "lt3bdOL7Id4_"
      },
      "source": [
        "### Structure quality\n",
        "\n",
        "A core principle of PLINDER is to be able to annotate which systems are of high enough experimental structure quality to be reliably used as the _ground truth_ for measuring model performance. As the quality of experimentally resolved structures [can vary significantly](https://doi.org/10.1107/S2059798322011901) and many crystal structures with ligands contain missing atoms or missing residues in the binding site, comparing prediction results to lower quality structures can incorrectly skew the perception of their performance.\n",
        "\n",
        "![quality](https://www.plinder.sh/blog/figure2.png)\n",
        "\n",
        "\n",
        "You can access all the crystal structure validation information extracted from PDB validation reports as well as crystal contact annotations by looking for columns starting with \"entry_validation\", \"system_pocket_validation\", \"system_ligand_validation\" etc."
      ]
    },
    {
      "cell_type": "code",
      "execution_count": null,
      "metadata": {
        "colab": {
          "base_uri": "https://localhost:8080/",
          "height": 551
        },
        "id": "iIxnC9NCId4_",
        "outputId": "89d3ba2b-49e6-42f1-a05c-4b57989856e9"
      },
      "outputs": [],
      "source": [
        "column_descriptions[column_descriptions[\"Name\"].str.startswith(\"entry_validation\")]"
      ]
    },
    {
      "cell_type": "code",
      "execution_count": null,
      "metadata": {
        "colab": {
          "base_uri": "https://localhost:8080/",
          "height": 677
        },
        "id": "t8hiE9OTId4_",
        "outputId": "c31ede26-c5f7-4b90-ac04-9e74c1d317d0"
      },
      "outputs": [],
      "source": [
        "column_descriptions[\n",
        "    column_descriptions[\"Name\"].str.startswith(\"system_pocket_validation\")\n",
        "]"
      ]
    },
    {
      "cell_type": "markdown",
      "metadata": {
        "id": "q1ErgUWpId4_"
      },
      "source": [
        "For simplicity, we have \"system_pass_validation_criteria\" as a column that can be used to filter systems which pass our quality definitions:\n",
        "\n",
        "```python\n",
        "class QualityCriteria:\n",
        "    max_entry_resolution: float = 3.5\n",
        "    max_entry_r: float = 0.4\n",
        "    max_entry_rfree: float = 0.45\n",
        "    max_entry_r_minus_rfree: float = 0.05\n",
        "    ligand_max_num_unresolved_heavy_atoms: int = 0\n",
        "    ligand_max_alt_count: int = 1  # misnomer: this counts number of total configurations\n",
        "    ligand_min_average_occupancy: float = 0.8\n",
        "    ligand_min_average_rscc: float = 0.8\n",
        "    ligand_max_average_rsr: float = 0.3\n",
        "    ligand_max_percent_outliers_clashes: float = 0\n",
        "    ligand_max_fraction_atoms_with_crystal_contacts: float = 0\n",
        "    pocket_max_num_unresolved_heavy_atoms: int = 0\n",
        "    pocket_max_alt_count: int = 1  # same as above\n",
        "    pocket_min_average_occupancy: float = 0.8\n",
        "    pocket_min_average_rscc: float = 0.8\n",
        "    pocket_max_average_rsr: float = 0.3\n",
        "    pocket_max_percent_outliers_clashes: int = 100\n",
        "```"
      ]
    },
    {
      "cell_type": "code",
      "execution_count": null,
      "metadata": {
        "id": "WWDt5vLyId5A"
      },
      "outputs": [],
      "source": [
        "plindex = query_index(\n",
        "    columns=[\"system_id\", \"system_pass_validation_criteria\"],\n",
        "    splits=[\"train\", \"val\", \"test\"],\n",
        ")"
      ]
    },
    {
      "cell_type": "code",
      "execution_count": null,
      "metadata": {
        "colab": {
          "base_uri": "https://localhost:8080/",
          "height": 294
        },
        "id": "RgVxrnozId5A",
        "outputId": "786acffc-6e14-4e54-846b-73d43e918c2c"
      },
      "outputs": [],
      "source": [
        "data = (\n",
        "    plindex.drop_duplicates(\"system_id\")\n",
        "    .sort_values(by=\"system_pass_validation_criteria\")\n",
        "    .groupby([\"split\", \"system_pass_validation_criteria\"])\n",
        "    .system_id.count()\n",
        "    .unstack()\n",
        ")\n",
        "data_percentage = data.div(data.sum(axis=1), axis=0) * 100\n",
        "ax = data_percentage.plot(\n",
        "    kind=\"bar\", stacked=True, figsize=(5, 3), color=[\"firebrick\", \"darkseagreen\"]\n",
        ")\n",
        "ax.set_xticklabels(\n",
        "    [label.get_text().upper() for label in ax.get_xticklabels()], rotation=0\n",
        ")\n",
        "ax.set_xlabel(\"\")\n",
        "ax.set_ylabel(\"% passing criteria\")\n",
        "ax.get_legend().remove()\n",
        "for container, count_data in zip(ax.containers, data.values.T):\n",
        "    ax.bar_label(container, labels=count_data, label_type=\"edge\")"
      ]
    },
    {
      "cell_type": "markdown",
      "metadata": {
        "id": "lEIohTI7Id5A"
      },
      "source": [
        "### Structure completeness\n",
        "\n",
        "Related to structure quality, one aspect that is important to consider when using these structures in your training is **completeness**. While the inputs for prediction may be a protein sequence and a SMILES string, the protein-ligand complex structure that you get from the PDB may not have all the residues in the protein or all the atoms in the ligand resolved."
      ]
    },
    {
      "cell_type": "code",
      "execution_count": null,
      "metadata": {
        "colab": {
          "base_uri": "https://localhost:8080/",
          "height": 81
        },
        "id": "mqfvAu2sId5A",
        "outputId": "1c2c4e4a-0cfb-4558-addf-be3ef5877ee0"
      },
      "outputs": [],
      "source": [
        "column_descriptions[column_descriptions[\"Name\"] == \"ligand_num_unresolved_heavy_atoms\"]"
      ]
    },
    {
      "cell_type": "code",
      "execution_count": null,
      "metadata": {
        "colab": {
          "base_uri": "https://localhost:8080/",
          "height": 488
        },
        "id": "C72egbx7Id5A",
        "outputId": "dce791b6-9c66-43ac-8f09-4ef6c0cc16ca"
      },
      "outputs": [],
      "source": [
        "column_descriptions[\n",
        "    column_descriptions[\"Name\"].str.contains(\"num_unresolved\")\n",
        "    # & ~column_descriptions[\"Name\"].str.contains(\"validation\")\n",
        "]"
      ]
    },
    {
      "cell_type": "code",
      "execution_count": null,
      "metadata": {
        "id": "tVk5EDITId5A"
      },
      "outputs": [],
      "source": [
        "plindex = query_index(\n",
        "    columns=[\n",
        "        \"system_id\",\n",
        "        \"ligand_num_unresolved_heavy_atoms\",\n",
        "        \"ligand_num_heavy_atoms\",\n",
        "        \"system_protein_chains_num_unresolved_residues\",\n",
        "        \"system_pocket_validation_num_unresolved_heavy_atoms\",\n",
        "        \"system_protein_chains_total_length\",\n",
        "    ],\n",
        "    splits=[\"train\", \"val\", \"test\"],\n",
        ")"
      ]
    },
    {
      "cell_type": "markdown",
      "metadata": {
        "id": "1SIHnTtVId5A"
      },
      "source": [
        "Here we calculate the fraction of unresolved residues in the protein chains and the fraction of unresolved heavy atoms in the ligand, to see their distributions across the splits."
      ]
    },
    {
      "cell_type": "code",
      "execution_count": null,
      "metadata": {
        "id": "4RAmx1XoId5N"
      },
      "outputs": [],
      "source": [
        "plindex[\n",
        "    \"system_protein_chains_total_num_unresolved_residues\"\n",
        "] = plindex.system_protein_chains_num_unresolved_residues.map(sum)\n",
        "plindex[\"system_protein_chains_fraction_unresolved_residues\"] = (\n",
        "    plindex.system_protein_chains_total_num_unresolved_residues\n",
        "    / plindex.system_protein_chains_total_length\n",
        ")\n",
        "plindex[\"ligand_fraction_unresolved_heavy_atoms\"] = (\n",
        "    plindex.ligand_num_unresolved_heavy_atoms / plindex.ligand_num_heavy_atoms\n",
        ")"
      ]
    },
    {
      "cell_type": "code",
      "execution_count": null,
      "metadata": {
        "colab": {
          "base_uri": "https://localhost:8080/",
          "height": 316
        },
        "id": "_btGWw1fId5N",
        "outputId": "266625d4-709f-4b7f-d512-3c42591b2d64"
      },
      "outputs": [],
      "source": [
        "fig, axes = plt.subplots(1, 3, figsize=(10, 3), sharex=True, sharey=True)\n",
        "grouped_data = plindex.drop_duplicates(\"system_id\").groupby(\"split\")\n",
        "split_colors = {\n",
        "    \"train\": \"#ff9999\",\n",
        "    \"test\": \"#66b3ff\",\n",
        "    \"val\": \"#7cc27c\",\n",
        "}\n",
        "for i, (split, data) in enumerate(grouped_data):\n",
        "    data.system_protein_chains_fraction_unresolved_residues.hist(\n",
        "        ax=axes[i], density=True, color=split_colors[split]\n",
        "    )\n",
        "    axes[i].set_title(split.upper())\n",
        "    if i == 0:\n",
        "        axes[i].set_ylabel(\"Density\")\n",
        "fig.suptitle(\n",
        "    \"Fraction of Unresolved Protein Residues (SEQRES length - no. resolved residues)\"\n",
        ")\n",
        "plt.tight_layout()"
      ]
    },
    {
      "cell_type": "code",
      "execution_count": null,
      "metadata": {
        "colab": {
          "base_uri": "https://localhost:8080/"
        },
        "id": "qb7ASlTnId5N",
        "outputId": "7101463b-4210-471b-b6fa-6b733d07ddf4"
      },
      "outputs": [],
      "source": [
        "print(\"Percentage of ligands with no unresolved heavy atoms:\")\n",
        "for split in [\"train\", \"val\", \"test\"]:\n",
        "    print(\n",
        "        f'{split.capitalize()}: {100 * (plindex[plindex[\"split\"] == split].ligand_fraction_unresolved_heavy_atoms == 0).sum() / plindex[plindex[\"split\"] == split].shape[0]:.2f}%'\n",
        "    )"
      ]
    },
    {
      "cell_type": "markdown",
      "metadata": {
        "id": "ZDsYL5zSId5N"
      },
      "source": [
        "### Pocket domains\n",
        "\n",
        "We annotated domains from different databases onto the protein chains of each system and then picked the one spanning the pocket residues of the system as the domain of the system pocket."
      ]
    },
    {
      "cell_type": "code",
      "execution_count": null,
      "metadata": {
        "colab": {
          "base_uri": "https://localhost:8080/",
          "height": 332
        },
        "id": "s9DZF4rHId5N",
        "outputId": "b66dfe2d-6a58-46cf-d03f-77fb3769c7b9"
      },
      "outputs": [],
      "source": [
        "pocket_domain_columns = column_descriptions[\n",
        "    column_descriptions[\"Name\"].str.startswith(\"system_pocket\")\n",
        "    & ~column_descriptions[\"Name\"].str.startswith(\"system_pocket_validation\")\n",
        "]\n",
        "pocket_domain_columns"
      ]
    },
    {
      "cell_type": "code",
      "execution_count": null,
      "metadata": {
        "id": "CRgP4XRJId5N"
      },
      "outputs": [],
      "source": [
        "plindex = query_index(\n",
        "    columns=[\"system_id\"] + list(pocket_domain_columns.Name),\n",
        ")"
      ]
    },
    {
      "cell_type": "code",
      "execution_count": null,
      "metadata": {
        "colab": {
          "base_uri": "https://localhost:8080/",
          "height": 429
        },
        "id": "GFOl7bgzId5O",
        "outputId": "cebe73a0-2e5d-4c56-8815-14bd4b03c02f"
      },
      "outputs": [],
      "source": [
        "plindex.drop_duplicates(\"system_id\").system_pocket_ECOD_t_name.value_counts().head(10)"
      ]
    },
    {
      "cell_type": "code",
      "execution_count": null,
      "metadata": {
        "colab": {
          "base_uri": "https://localhost:8080/",
          "height": 429
        },
        "id": "vHU6oIpYId5O",
        "outputId": "d38eee61-d5f5-4211-f455-144641a6e30b"
      },
      "outputs": [],
      "source": [
        "plindex.drop_duplicates(\"system_id\").system_pocket_kinase_name.value_counts().head(10)"
      ]
    },
    {
      "cell_type": "markdown",
      "metadata": {
        "id": "iG5fd5Q-Id5O"
      },
      "source": [
        "### Ligand properties\n",
        "\n",
        "Molecular properties and annotations are calculated from the ligand SMILES strings"
      ]
    },
    {
      "cell_type": "code",
      "execution_count": null,
      "metadata": {
        "colab": {
          "base_uri": "https://localhost:8080/",
          "height": 363
        },
        "id": "eGX8jproId5O",
        "outputId": "f64266a2-1b68-4c64-b4ad-6fa76f3bd236"
      },
      "outputs": [],
      "source": [
        "properties = [\n",
        "    \"ligand_molecular_weight\",\n",
        "    \"ligand_num_rot_bonds\",\n",
        "    \"ligand_num_rings\",\n",
        "    \"ligand_num_hbd\",\n",
        "    \"ligand_num_hba\",\n",
        "    \"ligand_num_heavy_atoms\",\n",
        "    \"ligand_crippen_clogp\",\n",
        "    \"ligand_qed\",\n",
        "    \"ligand_tpsa\",\n",
        "    \"ligand_is_kinase_inhibitor\",\n",
        "]\n",
        "column_descriptions[column_descriptions[\"Name\"].isin(properties)]"
      ]
    },
    {
      "cell_type": "code",
      "execution_count": null,
      "metadata": {
        "colab": {
          "base_uri": "https://localhost:8080/",
          "height": 697
        },
        "id": "DYLH8NZMId5O",
        "outputId": "0aaf83d3-8002-48ea-ea7a-be370c241bfb"
      },
      "outputs": [],
      "source": [
        "plindex = query_index(\n",
        "    columns=[\"system_id\", \"ligand_instance_chain\", \"ligand_unique_ccd_code\"]\n",
        "    + properties,\n",
        "    splits=[\"train\", \"val\", \"test\"],\n",
        "    filters=[\n",
        "        (\"ligand_is_proper\", \"==\", True)  # focusing on non-ion, non-artifact ligands\n",
        "    ],\n",
        ")\n",
        "plindex.head(20)"
      ]
    },
    {
      "cell_type": "code",
      "execution_count": null,
      "metadata": {
        "colab": {
          "base_uri": "https://localhost:8080/",
          "height": 707
        },
        "id": "b7Vcw0paId5O",
        "outputId": "6c7a837e-3205-4e5b-ade4-9ffdc32bcb52"
      },
      "outputs": [],
      "source": [
        "binwidths = {\n",
        "    \"ligand_molecular_weight\": (\"Molecular weight\", 50),\n",
        "    \"ligand_num_heavy_atoms\": (\"Number of heavy atoms\", 5),\n",
        "    \"ligand_num_rot_bonds\": (\"Number of rotatable bonds\", 2),\n",
        "    \"ligand_num_rings\": (\"Number of rings\", 1),\n",
        "    \"ligand_tpsa\": (\"Topological polar surface area\", 10),\n",
        "    \"ligand_crippen_clogp\": (\"Crippen logP\", 1),\n",
        "}\n",
        "fig, axes = plt.subplots(3, 2, figsize=(10, 7))\n",
        "axes = axes.flatten()\n",
        "for i, prop in enumerate(binwidths):\n",
        "    ax = axes[i]\n",
        "    plindex.groupby(\"split\")[prop].plot(\n",
        "        kind=\"hist\",\n",
        "        density=True,\n",
        "        alpha=0.5,\n",
        "        histtype=\"stepfilled\",\n",
        "        legend=True,\n",
        "        ax=ax,\n",
        "        color=split_colors,\n",
        "        bins=np.arange(\n",
        "            min(plindex[prop]),\n",
        "            max(plindex[prop]) + binwidths[prop][1],\n",
        "            binwidths[prop][1],\n",
        "        ),\n",
        "    )\n",
        "    ax.set_xlabel(binwidths[prop][0])\n",
        "    ax.set_ylabel(\"Density\")\n",
        "plt.tight_layout()\n",
        "plt.show()"
      ]
    },
    {
      "cell_type": "markdown",
      "metadata": {
        "id": "nOjZTiYmId5O"
      },
      "source": [
        "These properties were further used to categorize the ligands into different types."
      ]
    },
    {
      "cell_type": "code",
      "execution_count": null,
      "metadata": {
        "colab": {
          "base_uri": "https://localhost:8080/",
          "height": 269
        },
        "id": "TILVFDYMId5O",
        "outputId": "6ea0ca37-3e5b-4d91-916f-5b86ebbc942a"
      },
      "outputs": [],
      "source": [
        "ligand_types = [\n",
        "    f\"ligand_is_{x}\"\n",
        "    for x in [\n",
        "        \"lipinski\",\n",
        "        \"covalent\",\n",
        "        \"cofactor\",\n",
        "        \"oligo\",\n",
        "        \"ion\",\n",
        "        \"fragment\",\n",
        "        \"artifact\",\n",
        "    ]\n",
        "]\n",
        "column_descriptions[column_descriptions[\"Name\"].isin(ligand_types)]"
      ]
    },
    {
      "cell_type": "markdown",
      "metadata": {
        "id": "5blAP8yIId5P"
      },
      "source": [
        "These categories were also aggregated to the system level for easier filtering:"
      ]
    },
    {
      "cell_type": "code",
      "execution_count": null,
      "metadata": {
        "colab": {
          "base_uri": "https://localhost:8080/",
          "height": 269
        },
        "id": "NgI-TtH3Id5P",
        "outputId": "d607c8e7-a240-4921-e994-870d5126bc6d"
      },
      "outputs": [],
      "source": [
        "column_descriptions[\n",
        "    column_descriptions[\"Name\"].isin(\n",
        "        [n.replace(\"ligand_is\", \"system_ligand_has\") for n in ligand_types]\n",
        "    )\n",
        "]"
      ]
    },
    {
      "cell_type": "code",
      "execution_count": null,
      "metadata": {
        "id": "N2hPDAVfId5P"
      },
      "outputs": [],
      "source": [
        "plindex = query_index(\n",
        "    columns=[\"system_id\", \"ligand_unique_ccd_code\"] + ligand_types,\n",
        "    splits=[\"train\", \"val\", \"test\"],\n",
        ")"
      ]
    },
    {
      "cell_type": "code",
      "execution_count": null,
      "metadata": {
        "colab": {
          "base_uri": "https://localhost:8080/",
          "height": 367
        },
        "id": "7jMrvz8BId5P",
        "outputId": "ff93ae0e-50f7-498e-87cd-abb905b0401b"
      },
      "outputs": [],
      "source": [
        "labels = [c.replace(\"ligand_is_\", \"\").capitalize() for c in ligand_types]\n",
        "bar_colors = plt.cm.Pastel2.colors\n",
        "split_names = [\"train\", \"val\", \"test\"]\n",
        "fig, axes = plt.subplots(1, 3, figsize=(10, 3))\n",
        "for i, split in enumerate(split_names):\n",
        "    ax = axes[i]\n",
        "    split_data = plindex[plindex[\"split\"] == split]\n",
        "    bars = ax.bar(\n",
        "        labels,\n",
        "        split_data[ligand_types].mean().mul(100).to_list(),\n",
        "        width=1,\n",
        "        color=bar_colors,\n",
        "        edgecolor=\"black\",\n",
        "        label=split,\n",
        "        linewidth=1,\n",
        "    )\n",
        "    ax.set_xticks(np.arange(len(labels)), labels, rotation=70)\n",
        "    ax.set_ylim(0, 100)\n",
        "    ax.set_title(split.upper())\n",
        "    counts = split_data[ligand_types].sum().to_list()\n",
        "    for bar, count in zip(bars, counts):\n",
        "        ax.text(\n",
        "            bar.get_x() + bar.get_width() / 2.0,\n",
        "            bar.get_height() + 2,\n",
        "            f\"{count}\",\n",
        "            ha=\"center\",\n",
        "            va=\"bottom\",\n",
        "            rotation=70,\n",
        "            fontsize=10,\n",
        "        )"
      ]
    },
    {
      "cell_type": "markdown",
      "metadata": {
        "id": "L7ykjeY0Id5P"
      },
      "source": [
        "### PLI-specific properties\n",
        "\n",
        "There are also some ligand properties that are specific to the interaction with the particular protein pocket present in the system. These include things like:\n",
        "- The kinds of interactions the ligand may have with the protein, calculated using PLIP\n",
        "- Experimental binding affinity, pulled from BindingDB when available\n",
        "- Potential ligand-protein crystal contacts, defined as ligand-protein contacts below 5 Å which are not in the same asymmetric unit (symmetry mates) and not in the system biounit"
      ]
    },
    {
      "cell_type": "code",
      "execution_count": null,
      "metadata": {
        "colab": {
          "base_uri": "https://localhost:8080/",
          "height": 238
        },
        "id": "x__QHaPHId5P",
        "outputId": "8bbc21da-bbb2-48ee-b1ae-0d38e0ebd54c"
      },
      "outputs": [],
      "source": [
        "pli_specific = [\n",
        "    \"system_fraction_atoms_with_crystal_contacts\",\n",
        "    \"system_num_crystal_contacted_residues\",\n",
        "    \"ligand_binding_affinity\",\n",
        "    \"system_has_binding_affinity\",\n",
        "    \"ligand_interactions\",\n",
        "    \"system_num_interactions\",\n",
        "]\n",
        "column_descriptions[column_descriptions[\"Name\"].isin(pli_specific)]"
      ]
    },
    {
      "cell_type": "code",
      "execution_count": null,
      "metadata": {
        "colab": {
          "base_uri": "https://localhost:8080/",
          "height": 49,
          "referenced_widgets": [
            "1f98accf4ef34bfb8636a40420c8bf0d",
            "f504cc39fb51482db68e41b8ab400396",
            "0c212aa62df24017badc78892e3473da"
          ]
        },
        "id": "lhmF6H-4Id5P",
        "outputId": "ed55c77a-f55d-409d-e0dd-3401b0ad7762"
      },
      "outputs": [],
      "source": [
        "plindex = query_index(\n",
        "    columns=[\"system_id\"] + pli_specific,\n",
        "    splits=[\"train\", \"val\", \"test\"],\n",
        ")"
      ]
    },
    {
      "cell_type": "markdown",
      "metadata": {
        "id": "l2ttxbAdId5P"
      },
      "source": [
        "You could filter out systems with crystal contacts:"
      ]
    },
    {
      "cell_type": "code",
      "execution_count": null,
      "metadata": {
        "colab": {
          "base_uri": "https://localhost:8080/"
        },
        "id": "OkGAdla2Id5Q",
        "outputId": "34ceefad-acd9-4e3d-9797-0219655c25a2"
      },
      "outputs": [],
      "source": [
        "(\n",
        "    plindex.drop_duplicates(\"system_id\").system_fraction_atoms_with_crystal_contacts > 0\n",
        ").sum()"
      ]
    },
    {
      "cell_type": "markdown",
      "metadata": {
        "id": "UDRIsK5VId5Q"
      },
      "source": [
        "If your model has an additional component for predicting binding affinity, you could see how much data is available for training and evaluation:"
      ]
    },
    {
      "cell_type": "code",
      "execution_count": null,
      "metadata": {
        "colab": {
          "base_uri": "https://localhost:8080/",
          "height": 304
        },
        "id": "rzGPr0gtId5Q",
        "outputId": "49979990-2360-4486-cb2d-5523ff0e2731"
      },
      "outputs": [],
      "source": [
        "plindex.drop_duplicates(\"system_id\").groupby(\n",
        "    \"split\"\n",
        ").system_has_binding_affinity.value_counts()"
      ]
    },
    {
      "cell_type": "code",
      "execution_count": null,
      "metadata": {
        "colab": {
          "base_uri": "https://localhost:8080/",
          "height": 470
        },
        "id": "5Rz7p3WtId5Q",
        "outputId": "506e3b9f-5b7a-4c87-e5e5-78263887b242"
      },
      "outputs": [],
      "source": [
        "plindex[\"ligand_binding_affinity\"].hist()\n",
        "plt.xlabel(r\"$pK_i$ or $pK_D$\")\n",
        "plt.ylabel(\"No. of system ligands\")"
      ]
    },
    {
      "cell_type": "markdown",
      "metadata": {
        "id": "UM6AP8JlId5Q"
      },
      "source": [
        "You could even look deeper into the kinds of protein-ligand interactions present in your training data:"
      ]
    },
    {
      "cell_type": "code",
      "execution_count": null,
      "metadata": {
        "colab": {
          "base_uri": "https://localhost:8080/",
          "height": 175
        },
        "id": "rsrA_CpXId5Q",
        "outputId": "96a1592e-d9a9-49e9-dc8d-8f902dd903df"
      },
      "outputs": [],
      "source": [
        "plindex.groupby(\"split\").system_num_interactions.describe()"
      ]
    },
    {
      "cell_type": "code",
      "execution_count": null,
      "metadata": {
        "colab": {
          "base_uri": "https://localhost:8080/"
        },
        "id": "l-fRO_0OId5Q",
        "outputId": "ad45691b-3da5-4bec-f106-d4ad9db90e67"
      },
      "outputs": [],
      "source": [
        "plindex[\"ligand_interactions\"].values[0]"
      ]
    },
    {
      "cell_type": "markdown",
      "metadata": {
        "id": "eF-zGzeJId5Q"
      },
      "source": [
        "## Beyond the split (optional)\n",
        "\n",
        "Here we mainly focused on systems in the train/val/test splits as the train and val splits are the ones that can be used for training models to either participate in the PLINDER leaderboard or compare your models' performance to methods in the leaderboard.\n",
        "\n",
        "However, PLINDER itself contains all PLI systems in the PDB (except those containing only crystallization artifacts), and you may be interested in this dataset as a whole. This can be queried with the `splits=[\"*\"]` option."
      ]
    },
    {
      "cell_type": "code",
      "execution_count": null,
      "metadata": {
        "colab": {
          "base_uri": "https://localhost:8080/"
        },
        "id": "16Ta2nOIId5Q",
        "outputId": "7fe8a0de-83c2-476b-9fcd-fcefa401a099"
      },
      "outputs": [],
      "source": [
        "plindex = query_index(\n",
        "    columns=[\n",
        "        \"system_id\",\n",
        "        \"entry_pdb_id\",\n",
        "        \"system_num_protein_chains\",\n",
        "        \"system_num_ligand_chains\",\n",
        "    ]\n",
        "    + ligand_types,\n",
        "    splits=[\"*\"],\n",
        ")\n",
        "print(\"No. ligands:\", len(plindex))\n",
        "print(\"No. systems:\", plindex.system_id.nunique())\n",
        "print(\"No. PDB entries:\", plindex.entry_pdb_id.nunique())"
      ]
    },
    {
      "cell_type": "code",
      "execution_count": null,
      "metadata": {
        "colab": {
          "base_uri": "https://localhost:8080/",
          "height": 831
        },
        "id": "RvkRuumWId5Q",
        "outputId": "9d4ae783-6fab-49b8-d7c1-97d764661ae3"
      },
      "outputs": [],
      "source": [
        "fig, ax = plt.subplots(figsize=(5, 3))\n",
        "bars = ax.bar(\n",
        "    labels,\n",
        "    plindex[ligand_types].mean().mul(100).to_list(),\n",
        "    width=1,\n",
        "    color=bar_colors,\n",
        "    edgecolor=\"black\",\n",
        "    label=split,\n",
        "    linewidth=1,\n",
        ")\n",
        "ax.set_xticks(np.arange(len(labels)), labels, rotation=70)\n",
        "ax.set_ylim(0, 100)\n",
        "ax.set_title(f\"No. PLINDER ligands: {len(plindex)}\")\n",
        "counts = plindex[ligand_types].sum().to_list()\n",
        "for bar, count in zip(bars, counts):\n",
        "    ax.text(\n",
        "        bar.get_x() + bar.get_width() / 2.0,\n",
        "        bar.get_height() + 2,\n",
        "        f\"{count}\",\n",
        "        ha=\"center\",\n",
        "        va=\"bottom\",\n",
        "        rotation=70,\n",
        "        fontsize=10,\n",
        "    )\n",
        "\n",
        "print(plindex.system_num_protein_chains.value_counts())\n",
        "print(plindex.system_num_ligand_chains.value_counts())"
      ]
    },
    {
      "cell_type": "markdown",
      "metadata": {
        "id": "JNKj4usbId5Q"
      },
      "source": [
        "When looking at distributions across the entire dataset, you'll notice that there are quite a lot of ion systems, as well as systems with more than 5 protein or ligand chains.\n",
        "\n",
        "**NOTE: _While we provide annotations for all systems, those which are not in the train and val splits may not be used for training models to participate in the MLSB PLINDER leaderboard._**"
      ]
    },
    {
      "cell_type": "markdown",
      "metadata": {
        "id": "NdMtR_9OId5R"
      },
      "source": [
        "## Similarity clusters\n",
        "\n",
        "Similarity between two protein-ligand complexes can occur at various levels, including protein sequence, structural features, binding pocket characteristics, or ligand and interaction properties. We calculated a comprehensive set of similarity metrics to cover every combination of these dimensions — from identical systems, where the protein, pocket, interactions and ligand are the same, to systems that differ across all levels.\n",
        "\n",
        "The entire set of similarity metrics is described [here](https://plinder-org.github.io/plinder/dataset.html#clusters-clusters), and they were calculated across all pairs of systems having a Foldseek or MMseqs alignment. We then used graph clustering to group systems into clusters based on their similarity with a specific **_metric_** and **_threshold_**. There are three types of clusters available: strongly connected graph components (**_strong component_**), weakly connected graph components (**_weak component_**), and communities detected using asynchronous label propagation (**_community_**).\n",
        "\n",
        "We can load the similarity clusters assigned to each system for different metrics, thresholds, and clustering types."
      ]
    },
    {
      "cell_type": "code",
      "execution_count": null,
      "metadata": {
        "colab": {
          "base_uri": "https://localhost:8080/",
          "height": 677
        },
        "id": "rC4OB8MyId5R",
        "outputId": "362d8491-2ee4-4fa0-b0c9-73c8918dcb17"
      },
      "outputs": [],
      "source": [
        "column_descriptions[\n",
        "    column_descriptions[\"Name\"].str.startswith(\"pocket_\")\n",
        "    & column_descriptions[\"Name\"].str.contains(\"community\")\n",
        "]"
      ]
    },
    {
      "cell_type": "code",
      "execution_count": null,
      "metadata": {
        "colab": {
          "base_uri": "https://localhost:8080/",
          "height": 551
        },
        "id": "AwFYYPa_Id5R",
        "outputId": "fa3a9551-2184-4c4f-8489-584699c3aad0"
      },
      "outputs": [],
      "source": [
        "column_descriptions[\n",
        "    column_descriptions[\"Name\"].str.startswith(\"pocket_lddt\")\n",
        "    & column_descriptions[\"Name\"].str.contains(\"component\")\n",
        "]"
      ]
    },
    {
      "cell_type": "markdown",
      "metadata": {
        "id": "ksXDp06cId5R"
      },
      "source": [
        "These cluster labels can be used in many ways with the annotations."
      ]
    },
    {
      "cell_type": "markdown",
      "metadata": {
        "id": "Uq3ENp5jH6n9"
      },
      "source": [
        "### Example: ATP-binding pockets (optional)\n",
        "\n",
        "For example, maybe you are interested in seeing how many different kinds of ATP-binding pockets we have. First, let's find all the analogs of ATP. We can do this by finding the 95% ECFP4 tanimoto similarity component of ATP and then getting the CCD codes of all the ligands in the same cluster:"
      ]
    },
    {
      "cell_type": "code",
      "execution_count": null,
      "metadata": {
        "colab": {
          "base_uri": "https://localhost:8080/"
        },
        "id": "dBOqMC2EId5R",
        "outputId": "b66cfe7f-c293-4dad-e060-32cc45c7809a"
      },
      "outputs": [],
      "source": [
        "ligand_cluster_column = \"tanimoto_similarity_max__95__strong__component\"\n",
        "atp_ligand_cluster = query_index(\n",
        "    columns=[\n",
        "        ligand_cluster_column,\n",
        "    ],\n",
        "    filters=[\n",
        "        (\"ligand_unique_ccd_code\", \"==\", \"ATP\"),\n",
        "        (\"system_num_ligand_chains\", \"==\", 1),\n",
        "    ],\n",
        ")[ligand_cluster_column].values[0]\n",
        "\n",
        "atp_analogs = query_index(\n",
        "    columns=[\n",
        "        \"system_id\",\n",
        "        \"entry_pdb_id\",\n",
        "        \"ligand_unique_ccd_code\",\n",
        "        \"ligand_rdkit_canonical_smiles\",\n",
        "    ],\n",
        "    filters=[\n",
        "        (ligand_cluster_column, \"==\", atp_ligand_cluster),\n",
        "        (\"system_num_ligand_chains\", \"==\", 1),\n",
        "    ],\n",
        ").drop_duplicates(\"ligand_unique_ccd_code\")\n",
        "atp_analogs_code_set = set(atp_analogs.ligand_unique_ccd_code.unique())\n",
        "atp_analogs_code_set"
      ]
    },
    {
      "cell_type": "markdown",
      "metadata": {
        "id": "ocH0tydrRT8b"
      },
      "source": [
        "Let's see how they look"
      ]
    },
    {
      "cell_type": "code",
      "execution_count": null,
      "metadata": {
        "colab": {
          "base_uri": "https://localhost:8080/",
          "height": 0,
          "referenced_widgets": [
            "306dde3bc89242be8a5e4dc75379e8ac",
            "124e1e0316524ef3afb6ffe11907e0ea"
          ]
        },
        "id": "lE4ldlBQPmMK",
        "outputId": "02e1aa67-1f40-4713-e7fc-63dc2355e581"
      },
      "outputs": [],
      "source": [
        "import mols2grid\n",
        "\n",
        "grid = mols2grid.MolGrid(atp_analogs, smiles_col=\"ligand_rdkit_canonical_smiles\")\n",
        "grid.display(subset=[\"ligand_unique_ccd_code\", \"img\"])"
      ]
    },
    {
      "cell_type": "markdown",
      "metadata": {
        "id": "YP3y66wHId5R"
      },
      "source": [
        "Now we can get the pocket clusters of all systems containing ATP analogs. Here we're using `pocket_qcov__50__weak__component`, meaning a system within a cluster has some other system in that cluster with which it shares at least 50% of pocket residues when aligned."
      ]
    },
    {
      "cell_type": "code",
      "execution_count": null,
      "metadata": {
        "id": "Xc5h4erPId5R"
      },
      "outputs": [],
      "source": [
        "pocket_cluster_column = \"pocket_qcov__50__weak__component\"\n",
        "plindex = query_index(\n",
        "    columns=[\n",
        "        \"system_id\",\n",
        "        \"entry_pdb_id\",\n",
        "        \"entry_release_date\",\n",
        "        pocket_cluster_column,\n",
        "        \"system_pocket_ECOD_t_name\",\n",
        "    ],\n",
        "    filters=[\n",
        "        (\n",
        "            \"ligand_unique_ccd_code\",\n",
        "            \"in\",\n",
        "            atp_analogs_code_set,\n",
        "        ),  # only ATP-binding systems\n",
        "        (\"ligand_num_interactions\", \">\", 2),  # with >2 interactions with ATP\n",
        "        (\"system_num_ligand_chains\", \"==\", 1),  # and ATP is the only ligand\n",
        "    ],\n",
        ")"
      ]
    },
    {
      "cell_type": "code",
      "execution_count": null,
      "metadata": {
        "colab": {
          "base_uri": "https://localhost:8080/"
        },
        "id": "SQRob98HId5R",
        "outputId": "9929f9e8-db2d-4415-8226-b9ec6b97e3e1"
      },
      "outputs": [],
      "source": [
        "(\n",
        "    \"No. systems:\",\n",
        "    plindex.system_id.nunique(),\n",
        "    \"No. PDB entries:\",\n",
        "    plindex.entry_pdb_id.nunique(),\n",
        "    \"No. clusters:\",\n",
        "    plindex[pocket_cluster_column].nunique(),\n",
        ")"
      ]
    },
    {
      "cell_type": "code",
      "execution_count": null,
      "metadata": {
        "colab": {
          "base_uri": "https://localhost:8080/",
          "height": 0
        },
        "id": "RfFosI9MId5R",
        "outputId": "7164ec0e-458b-4fe0-f40f-8445a60ca2c6"
      },
      "outputs": [],
      "source": [
        "plindex[pocket_cluster_column].value_counts().head(10)"
      ]
    },
    {
      "cell_type": "markdown",
      "metadata": {
        "id": "CM8Wi0rHId5S"
      },
      "source": [
        "When we look at the ECOD topology names of the cluster \"c11\" for example, we see that these systems are GroEL equatorial domain-like domains. Interestingly, 7 systems from 2 different PDB entries don't have ECOD annotations yet as they were recently released, but are indeed [the same domain](https://doi.org/10.1038/s41467-024-45242-x)."
      ]
    },
    {
      "cell_type": "code",
      "execution_count": null,
      "metadata": {
        "colab": {
          "base_uri": "https://localhost:8080/",
          "height": 0
        },
        "id": "AdsKLjZFId5R",
        "outputId": "525cc4d1-f624-4c43-c629-c9a91d3c4c10"
      },
      "outputs": [],
      "source": [
        "plindex[plindex[pocket_cluster_column] == \"c11\"].system_pocket_ECOD_t_name.value_counts(\n",
        "    dropna=False\n",
        ")"
      ]
    },
    {
      "cell_type": "code",
      "execution_count": null,
      "metadata": {
        "colab": {
          "base_uri": "https://localhost:8080/",
          "height": 0
        },
        "id": "64pTLyV0Id5R",
        "outputId": "adab9d1b-86ea-4656-8f37-99fecc97c67f"
      },
      "outputs": [],
      "source": [
        "plindex[\n",
        "    (plindex[pocket_cluster_column] == \"c11\")\n",
        "    & (plindex[\"system_pocket_ECOD_t_name\"].isna())\n",
        "].drop_duplicates(\"entry_pdb_id\")"
      ]
    },
    {
      "cell_type": "code",
      "execution_count": null,
      "metadata": {
        "colab": {
          "base_uri": "https://localhost:8080/"
        },
        "id": "yTXxjadfId5S",
        "outputId": "7f1ca117-bec4-4769-95fd-1db538c96212"
      },
      "outputs": [],
      "source": [
        "plindex[plindex[\"system_pocket_ECOD_t_name\"].isna()][\"entry_pdb_id\"].nunique()"
      ]
    },
    {
      "cell_type": "markdown",
      "metadata": {
        "id": "oJQO5HkbId5S"
      },
      "source": [
        "### Example: Diversity sampling (optional)"
      ]
    },
    {
      "cell_type": "markdown",
      "metadata": {
        "id": "1B6LaTT_IICM"
      },
      "source": [
        "The `pli_unique_qcov__50__community` column clusters systems such that the protein and ligand make similar interactions with the pocket. This clustering combines protein sequence and structural similarity (needed to obtain the pocket alignment), as well as the ligand-pocket interactions, making it a good proxy for unique kinds of binding present in the dataset.\n",
        "\n",
        "Here's an example of how one might use `torch.utils.data.WeightedRandomSampler` to sample training systems based on their PLI community cluster."
      ]
    },
    {
      "cell_type": "code",
      "execution_count": null,
      "metadata": {
        "id": "THaMD-4VId5S"
      },
      "outputs": [],
      "source": [
        "from torch.utils.data import WeightedRandomSampler\n",
        "\n",
        "cluster_column = \"pli_unique_qcov__50__community\"\n",
        "\n",
        "# Get train systems and their cluster labels\n",
        "plindex = query_index(\n",
        "    columns=[\"system_id\", \"entry_pdb_id\", cluster_column], splits=[\"train\"]\n",
        ").drop_duplicates(\"system_id\")\n",
        "\n",
        "# Add the number of systems in each cluster to the dataframe\n",
        "plindex = plindex.merge(\n",
        "    plindex[cluster_column].value_counts().rename(\"cluster_num_systems\"),\n",
        "    left_on=cluster_column,\n",
        "    right_index=True,\n",
        ").reset_index(drop=True)\n",
        "\n",
        "# Add the number of PDB entries in each cluster to the dataframe\n",
        "plindex = plindex.merge(\n",
        "    plindex.drop_duplicates(\"entry_pdb_id\")[cluster_column]\n",
        "    .value_counts()\n",
        "    .rename(\"cluster_num_entries\"),\n",
        "    left_on=cluster_column,\n",
        "    right_index=True,\n",
        ").reset_index(drop=True)\n",
        "\n",
        "# Ignore clusters with only one PDB entry\n",
        "sample_from = plindex[plindex[\"cluster_num_entries\"] > 1].reset_index(drop=True)\n",
        "\n",
        "# Calculate the weight for each cluster\n",
        "cluster_weights = 1.0 / sample_from.cluster_num_systems.values\n",
        "\n",
        "# Create a WeightedRandomSampler and sample systems from the train set\n",
        "sampler = WeightedRandomSampler(\n",
        "    weights=cluster_weights, num_samples=len(cluster_weights)\n",
        ")\n",
        "sampled_indices = list(sampler)\n",
        "sampled_plindex = (\n",
        "    sample_from.iloc[sampled_indices]\n",
        "    .reset_index(drop=True)\n",
        "    .drop(columns=[\"cluster_num_systems\", \"cluster_num_entries\"])\n",
        ")\n",
        "\n",
        "# Add the number of sampled systems in each cluster to the sampled dataframe\n",
        "sampled_plindex = sampled_plindex.merge(\n",
        "    sampled_plindex[cluster_column].value_counts().rename(\"cluster_num_systems\"),\n",
        "    left_on=cluster_column,\n",
        "    right_index=True,\n",
        ").reset_index(drop=True)\n",
        "\n",
        "# Add the number of sampled PDB entries in each cluster to the sampled dataframe\n",
        "sampled_plindex = sampled_plindex.merge(\n",
        "    sampled_plindex.drop_duplicates(\"entry_pdb_id\")[cluster_column]\n",
        "    .value_counts()\n",
        "    .rename(\"cluster_num_entries\"),\n",
        "    left_on=cluster_column,\n",
        "    right_index=True,\n",
        ")"
      ]
    },
    {
      "cell_type": "code",
      "execution_count": null,
      "metadata": {
        "colab": {
          "base_uri": "https://localhost:8080/"
        },
        "id": "k0KcvJVuId5S",
        "outputId": "8b9d1f22-e52a-4d95-863f-58f263223b66"
      },
      "outputs": [],
      "source": [
        "print(\"No. of original systems: \", sample_from.system_id.nunique())\n",
        "print(\"No. of nonredundant sampled systems: \", sampled_plindex.system_id.nunique())\n",
        "print(\"No. of original clusters: \", sample_from[cluster_column].nunique())\n",
        "print(\"No. of sampled clusters: \", sampled_plindex[cluster_column].nunique())"
      ]
    },
    {
      "cell_type": "markdown",
      "metadata": {
        "id": "K8wjkUmjId5S"
      },
      "source": [
        "Let's see how the sampling process has affected the distribution of cluster sizes."
      ]
    },
    {
      "cell_type": "code",
      "execution_count": null,
      "metadata": {
        "colab": {
          "base_uri": "https://localhost:8080/",
          "height": 0
        },
        "id": "Jj7hhpOuId5S",
        "outputId": "ad898f0d-abb3-47ff-99e7-b663d2485c95"
      },
      "outputs": [],
      "source": [
        "fig, ax = plt.subplots(1, 2, figsize=(10, 3))\n",
        "\n",
        "cluster_sizes = (\n",
        "    sample_from.drop_duplicates(cluster_column)\n",
        "    .cluster_num_systems.value_counts()\n",
        "    .sort_index()\n",
        ")\n",
        "ax[0].hist(cluster_sizes.index, weights=cluster_sizes.values, bins=20, log=True)\n",
        "ax[0].set_xlabel(\"Cluster Size\")\n",
        "ax[0].set_ylabel(\"# Clusters (log scale)\")\n",
        "ax[0].grid(True, which=\"both\", ls=\"-\", alpha=0.2)\n",
        "\n",
        "cluster_sizes = (\n",
        "    sampled_plindex.drop_duplicates(cluster_column)\n",
        "    .cluster_num_systems.value_counts()\n",
        "    .sort_index()\n",
        ")\n",
        "ax[1].hist(cluster_sizes.index, weights=cluster_sizes.values, bins=20, log=False)\n",
        "ax[1].set_xlabel(\"Cluster Size\")\n",
        "ax[1].set_ylabel(\"# Clusters\")"
      ]
    },
    {
      "cell_type": "markdown",
      "metadata": {
        "id": "ErHpq_64yy7W"
      },
      "source": [
        "## Beyond the PLINDEX (optional)\n",
        "\n",
        "Not everything we annotated made it into the index file, as we tried to compromise between accessibility and usability. Here's how to get some more data from the additional files that are part of the dataset."
      ]
    },
    {
      "cell_type": "markdown",
      "metadata": {
        "id": "KQTiUv4Z1lIK"
      },
      "source": [
        "### Annotation JSON files\n",
        "\n",
        "With `plinder.core.index.utils.load_entries` you can load the JSON file of a particular PDB ID and access all the information we extracted and saved for that ID.\n",
        "\n"
      ]
    },
    {
      "cell_type": "code",
      "execution_count": null,
      "metadata": {
        "id": "LXdktDKUztDs"
      },
      "outputs": [],
      "source": [
        "from plinder.core.index.utils import load_entries"
      ]
    },
    {
      "cell_type": "code",
      "execution_count": null,
      "metadata": {
        "id": "SZQ8Qx9f27NS"
      },
      "outputs": [],
      "source": [
        "entries = load_entries(pdb_ids=[\"4agi\"])"
      ]
    },
    {
      "cell_type": "code",
      "execution_count": null,
      "metadata": {
        "colab": {
          "base_uri": "https://localhost:8080/"
        },
        "id": "aO7pLROc5iTk",
        "outputId": "d2639cdf-6cb1-4979-e5af-676337a4c502"
      },
      "outputs": [],
      "source": [
        "entries[\"4agi\"].keys()"
      ]
    },
    {
      "cell_type": "code",
      "execution_count": null,
      "metadata": {
        "colab": {
          "base_uri": "https://localhost:8080/"
        },
        "id": "IamidW2C5oQ0",
        "outputId": "d11a32e2-20ab-4a52-caa0-868a56271e66"
      },
      "outputs": [],
      "source": [
        "entries[\"4agi\"][\"systems\"][\"4agi__1__1.C__1.W\"].keys()"
      ]
    },
    {
      "cell_type": "code",
      "execution_count": null,
      "metadata": {
        "colab": {
          "base_uri": "https://localhost:8080/"
        },
        "id": "9uT1NK2z5uh3",
        "outputId": "5e0fad4f-b86e-41da-f997-bcba510bd217"
      },
      "outputs": [],
      "source": [
        "entries[\"4agi\"][\"systems\"][\"4agi__1__1.C__1.W\"][\"ligands\"][0].keys()"
      ]
    },
    {
      "cell_type": "markdown",
      "metadata": {
        "id": "7up3LlZz2hFd"
      },
      "source": [
        "### Annotation PyDantic classes\n",
        "\n",
        "With `plinder.data.pipeline.utils.load_entries_from_zips` you can reconstruct the PyDantic dataclasses of the `Entry`, `System` and `Ligand`s to get access to more properties (though this requires a developer install of plinder with more dependencies)"
      ]
    },
    {
      "cell_type": "code",
      "execution_count": null,
      "metadata": {
        "id": "p0LYlMOZ2_e7"
      },
      "outputs": [],
      "source": [
        "from plinder.data.pipeline.utils import load_entries_from_zips\n",
        "from pathlib import Path\n",
        "\n",
        "entries = load_entries_from_zips(data_dir=Path(cfg.data.plinder_dir), pdb_ids=[\"4agi\"])"
      ]
    },
    {
      "cell_type": "code",
      "execution_count": null,
      "metadata": {
        "id": "VJD6gCtt6EsH"
      },
      "outputs": [],
      "source": [
        "import pandas as pd"
      ]
    },
    {
      "cell_type": "code",
      "execution_count": null,
      "metadata": {
        "colab": {
          "base_uri": "https://localhost:8080/",
          "height": 582
        },
        "id": "9Qcv1G5154ug",
        "outputId": "830027e3-95ca-450a-e624-29c95fe908d6"
      },
      "outputs": [],
      "source": [
        "rows = []\n",
        "for name, (description, ftype) in entries[\"4agi\"].get_descriptions_and_types().items():\n",
        "    rows.append((name, description, ftype))\n",
        "pd.DataFrame(rows, columns=[\"Name\", \"Description\", \"Type\"])"
      ]
    },
    {
      "cell_type": "code",
      "execution_count": null,
      "metadata": {
        "colab": {
          "base_uri": "https://localhost:8080/"
        },
        "id": "2kOG8JiG6nnz",
        "outputId": "c00c3c63-f471-4b21-9df6-2c2ffdd6f84b"
      },
      "outputs": [],
      "source": [
        "entries[\"4agi\"].validation"
      ]
    },
    {
      "cell_type": "code",
      "execution_count": null,
      "metadata": {
        "colab": {
          "base_uri": "https://localhost:8080/",
          "height": 1000
        },
        "id": "U0K2gHaB64AQ",
        "outputId": "dd44d9c7-9510-46ee-95e8-1b0ef59e451f"
      },
      "outputs": [],
      "source": [
        "rows = []\n",
        "for name, (description, ftype) in (\n",
        "    entries[\"4agi\"].systems[\"4agi__1__1.C__1.W\"].get_descriptions_and_types().items()\n",
        "):\n",
        "    rows.append((name, description, ftype))\n",
        "pd.DataFrame(rows, columns=[\"Name\", \"Description\", \"Type\"])"
      ]
    },
    {
      "cell_type": "code",
      "execution_count": null,
      "metadata": {
        "colab": {
          "base_uri": "https://localhost:8080/",
          "height": 424
        },
        "id": "_RrIV--_7cPD",
        "outputId": "90590de7-638c-4e43-feb9-7f211186d6aa"
      },
      "outputs": [],
      "source": [
        "rows = []\n",
        "for name, (description, ftype) in (\n",
        "    entries[\"4agi\"]\n",
        "    .systems[\"4agi__1__1.C__1.W\"]\n",
        "    .ligands[0]\n",
        "    .get_descriptions_and_types()\n",
        "    .items()\n",
        "):\n",
        "    rows.append((name, description, ftype))\n",
        "pd.DataFrame(rows, columns=[\"Name\", \"Description\", \"Type\"])"
      ]
    },
    {
      "cell_type": "code",
      "execution_count": null,
      "metadata": {
        "colab": {
          "base_uri": "https://localhost:8080/"
        },
        "id": "f-A1kRYq6tiy",
        "outputId": "1e5ce81b-6787-4e41-8efc-0dae0874530a"
      },
      "outputs": [],
      "source": [
        "entries[\"4agi\"].systems[\"4agi__1__1.C__1.W\"].pocket_residues"
      ]
    },
    {
      "cell_type": "code",
      "execution_count": null,
      "metadata": {
        "colab": {
          "base_uri": "https://localhost:8080/"
        },
        "id": "mCWow0TG7PW5",
        "outputId": "269d88e2-36a7-4f63-ad5f-a3460344ad2e"
      },
      "outputs": [],
      "source": [
        "entries[\"4agi\"].systems[\"4agi__1__1.C__1.W\"].ligands[0].interactions"
      ]
    },
    {
      "cell_type": "code",
      "execution_count": null,
      "metadata": {
        "colab": {
          "base_uri": "https://localhost:8080/"
        },
        "id": "upuDGJUe7DjT",
        "outputId": "b19b2173-9b4c-486a-fd10-93cc3b74bc3b"
      },
      "outputs": [],
      "source": [
        "entries[\"4agi\"].chains[\"C\"].residues[22]"
      ]
    },
    {
      "cell_type": "markdown",
      "metadata": {
        "id": "Q6KDbU0dBhFM"
      },
      "source": [
        "### Similarity scores"
      ]
    },
    {
      "cell_type": "markdown",
      "metadata": {
        "id": "3ptcgiin3JKP"
      },
      "source": [
        "\n",
        "\n",
        "If you want more direct similarities between systems than the provided cluster labels, we also provide the entire set of calculated similarity scores, in three kinds of similarity datasets:\n",
        "- Similarity between ligand bound systems (`holo`)\n",
        "- Similarity between holo systems and unbound protein structures (`apo`) where \"unbound\" can also include only ion-bound and only artifact-bound.\n",
        "- Similarity between holo systems and Alphafold predicted structures (`pred`) where the search was performed on all AFDB models having a UniProt ID present in any of the holo systems.\n",
        "\n",
        "Any of these could be specified in `query_protein_similarity()`\n",
        "\n",
        "**NOTE: _The \"holo\" search database takes 68G of disk space and, depending on the metric, threshold and filters used, can take up to a terabyte of RAM to query._**\n",
        "\n",
        "The `apo` and `pred` search databases on the other hand are the result of a Foldseek + MMseqs search with a very strict coverage and identity threshold of 0.9. Thus, they are much smaller and lighter to query, and do not contain very sensitive or remote similarities. We'll see an example of querying these later on.\n",
        "\n",
        "Here is an example of using the `query_protein_similarity` function to get the similarities > 50 between a \"train\" set and a \"test\" set for the `pli_unique_qcov` metric\n",
        "\n",
        "```python\n",
        "# Example train systems\n",
        "train = [\"7jxf__1__1.A_1.B__1.G\", \"1jtu__1__1.A_1.B__1.C_1.D\",\n",
        "         \"8f9d__2__1.C_1.D__1.G\", \"6a9a__1__1.A_2.A__2.C_2.D\",\n",
        "         \"1b5e__2__1.A_1.B__1.D\"]\n",
        "# Example test systems\n",
        "test = [\"1b5d__1__1.A_1.B__1.D\", \"1s2g__1__1.A_2.C__1.D\",\n",
        "       \"4agi__1__1.C__1.W\", \"4n7m__1__1.A_1.B__1.C\",\n",
        "         \"7eek__1__1.A__1.I\"]\n",
        "\n",
        "metric = \"pli_unique_qcov\"\n",
        "threshold = 50\n",
        "query_protein_similarity(\n",
        "        search_db=\"holo\",\n",
        "        columns=[\"query_system\", \"target_system\", \"similarity\"],\n",
        "        filters=[\n",
        "                (\"query_system\", \"in\", test),\n",
        "                (\"target_system\", \"in\", train),\n",
        "                (\"metric\", \"==\", metric),\n",
        "                (\"similarity\", \">=\", threshold),\n",
        "            ],\n",
        ")\n",
        "```\n",
        "\n",
        "For ligand similarities, one can use the following approach:"
      ]
    },
    {
      "cell_type": "code",
      "execution_count": null,
      "metadata": {
        "id": "mrBpqIrt_nLW"
      },
      "outputs": [],
      "source": [
        "from plinder.core.scores import query_index\n",
        "\n",
        "plindex = query_index(\n",
        "    columns=[\"system_id\", \"ligand_rdkit_canonical_smiles\"], splits=[\"val\"]\n",
        ")"
      ]
    },
    {
      "cell_type": "code",
      "execution_count": null,
      "metadata": {
        "id": "x9H39SqzaAJF"
      },
      "outputs": [],
      "source": [
        "# Example test and train\n",
        "\n",
        "test = set(plindex.system_id.values[:10])\n",
        "train = set(plindex.system_id.values[20:50])"
      ]
    },
    {
      "cell_type": "code",
      "execution_count": null,
      "metadata": {
        "id": "6dtGQxPVAZpv"
      },
      "outputs": [],
      "source": [
        "from plinder.data import smallmolecules\n",
        "\n",
        "plindex[\"fp\"] = plindex[\"ligand_rdkit_canonical_smiles\"].map(\n",
        "    smallmolecules.mol2morgan_fp\n",
        ")\n",
        "test_set = plindex.loc[plindex[\"system_id\"].isin(test)].reset_index(drop=True)\n",
        "test_set[\"tanimoto_similarity_max\"] = smallmolecules.tanimoto_maxsim_matrix(\n",
        "    plindex.loc[plindex[\"system_id\"].isin(train)][\"fp\"].to_list(),\n",
        "    test_set[\"fp\"].to_list(),\n",
        ")"
      ]
    },
    {
      "cell_type": "code",
      "execution_count": null,
      "metadata": {
        "colab": {
          "base_uri": "https://localhost:8080/",
          "height": 429
        },
        "id": "xklTLsQSAriF",
        "outputId": "1baeac57-d371-4fc5-db90-6fcc63bd8730"
      },
      "outputs": [],
      "source": [
        "test_set[\"tanimoto_similarity_max\"]"
      ]
    },
    {
      "cell_type": "markdown",
      "metadata": {
        "id": "Wbrjn_NtIfik"
      },
      "source": [
        "# Accessing system files\n",
        "\n"
      ]
    },
    {
      "cell_type": "markdown",
      "metadata": {
        "id": "aufsXJbsIfil"
      },
      "source": [
        "We provide files for all holo PLINDER systems with <6 protein and <6 ligand chains. These can be accessed with the `PlinderSystem` object which also does the work of downloading and extracting only the relevant files."
      ]
    },
    {
      "cell_type": "code",
      "execution_count": null,
      "metadata": {
        "id": "dQ0Z8xE_Ifil"
      },
      "outputs": [],
      "source": [
        "from plinder.core import PlinderSystem\n",
        "\n",
        "plinder_system = PlinderSystem(system_id=\"4agi__1__1.C__1.W\")"
      ]
    },
    {
      "cell_type": "markdown",
      "metadata": {
        "id": "LO9JJ6EG6ZZb"
      },
      "source": [
        "We can visualise the system using py3Dmol"
      ]
    },
    {
      "cell_type": "code",
      "execution_count": null,
      "metadata": {
        "colab": {
          "base_uri": "https://localhost:8080/",
          "height": 497
        },
        "id": "yh2M1xdh5Jo4",
        "outputId": "e9c5715f-3fe8-4b8e-d26f-666e0b8b8a47"
      },
      "outputs": [],
      "source": [
        "view = py3Dmol.view()\n",
        "view.setBackgroundColor(\"white\")\n",
        "\n",
        "view.addModel(open(plinder_system.system_cif, \"r\").read(), \"cif\")\n",
        "view.setStyle({\"chain\": \"1.C\"}, {\"cartoon\": {\"color\": \"purple\"}})\n",
        "view.setStyle({\"chain\": \"1.W\"}, {\"stick\": {\"colorScheme\": \"elem\"}})\n",
        "\n",
        "view.zoomTo()\n",
        "view.show()"
      ]
    },
    {
      "cell_type": "markdown",
      "metadata": {
        "id": "WFYTbnTOIfil"
      },
      "source": [
        "### Ligand\n",
        "\n",
        "The ligands are provided in SDF format in `ligand_sdfs`.\n"
      ]
    },
    {
      "cell_type": "code",
      "execution_count": null,
      "metadata": {
        "colab": {
          "base_uri": "https://localhost:8080/"
        },
        "id": "FejB-nTaIfim",
        "outputId": "11771d23-dec3-41e2-e916-8696cd3ebf0f"
      },
      "outputs": [],
      "source": [
        "plinder_system.ligand_sdfs"
      ]
    },
    {
      "cell_type": "markdown",
      "metadata": {
        "id": "TnPVz-G_Ifim"
      },
      "source": [
        "And the corresponding SMILES strings in `smiles`."
      ]
    },
    {
      "cell_type": "code",
      "execution_count": null,
      "metadata": {
        "colab": {
          "base_uri": "https://localhost:8080/"
        },
        "id": "s5pTkWvTIfim",
        "outputId": "ee11b19f-64c0-4b42-9a36-e1b0dac6e681"
      },
      "outputs": [],
      "source": [
        "plinder_system.smiles"
      ]
    },
    {
      "cell_type": "markdown",
      "metadata": {
        "id": "VloxV03wIfim"
      },
      "source": [
        "### Receptor"
      ]
    },
    {
      "cell_type": "markdown",
      "metadata": {
        "id": "qFfuK-VQIfim"
      },
      "source": [
        "The CIF/PDB files of the receptor are stored in `receptor_cif` and `receptor_pdb` and only contain the protein chains of the system."
      ]
    },
    {
      "cell_type": "code",
      "execution_count": null,
      "metadata": {
        "colab": {
          "base_uri": "https://localhost:8080/"
        },
        "id": "Lj5VPlFeIfim",
        "outputId": "a2b00d7d-c1e9-4a70-976f-cac189d3d5d3"
      },
      "outputs": [],
      "source": [
        "plinder_system.receptor_pdb, plinder_system.receptor_cif"
      ]
    },
    {
      "cell_type": "markdown",
      "metadata": {
        "id": "UV6F2-D0Ifin"
      },
      "source": [
        "We recommend using the CIF file as PDB is an obsoleted format. However, if you must use the PDB file, an additional consideration is that the chains are renamed to single letters, which you can access with the `chain_mapping` attribute.\n"
      ]
    },
    {
      "cell_type": "code",
      "execution_count": null,
      "metadata": {
        "colab": {
          "base_uri": "https://localhost:8080/"
        },
        "id": "jCQNVNTIIfin",
        "outputId": "3670103b-994f-41f6-ae3c-88855e9b3ae8"
      },
      "outputs": [],
      "source": [
        "plinder_system.chain_mapping"
      ]
    },
    {
      "cell_type": "markdown",
      "metadata": {
        "id": "MFK3hs_kIfin"
      },
      "source": [
        "The FASTA file and sequences of the receptor are stored in `sequences_fasta` and `sequences` respectively. These are the canonical sequences of all protein chains in the system.\n"
      ]
    },
    {
      "cell_type": "code",
      "execution_count": null,
      "metadata": {
        "colab": {
          "base_uri": "https://localhost:8080/"
        },
        "id": "wXFisszjIfin",
        "outputId": "79b7da88-3f07-4f9b-a8c0-e66f86aa7a1a"
      },
      "outputs": [],
      "source": [
        "plinder_system.sequences_fasta, plinder_system.sequences"
      ]
    },
    {
      "cell_type": "markdown",
      "metadata": {
        "id": "BkG6TjyhIfin"
      },
      "source": [
        "### Linked structures\n",
        "\n",
        "Where possible, we've linked plinder systems to associated apo structures from the PDB and predicted structures from AFDB. This was done using the same kind of similarity searches used for system clustering except with strict restrictions on the sequence identity and coverage of linked structures.\n",
        "\n",
        "The `linked_structures` attribute is a pandas DataFrame with information on the links for a system which were both found and additionally scored for conformational difficulty. This additional scoring consists of superposing the found apo or predicted chain to the receptor of the system with global sequence-based alignment, transplanting the ligand to the found structure, and evaluating the resulting protein-ligand complex as though it were a predicted structure for the given system. So, the `linked_structures` DataFrame contains the similarity scores from the alignments as well as the metrics from the evaluation."
      ]
    },
    {
      "cell_type": "code",
      "execution_count": null,
      "metadata": {
        "id": "jKg-jDEFIfin"
      },
      "outputs": [],
      "source": [
        "link_info = plinder_system.linked_structures"
      ]
    },
    {
      "cell_type": "code",
      "execution_count": null,
      "metadata": {
        "colab": {
          "base_uri": "https://localhost:8080/",
          "height": 206
        },
        "id": "bA3u210iIfin",
        "outputId": "1cd63fd0-2151-44cf-b52f-033e2fdd0272"
      },
      "outputs": [],
      "source": [
        "link_info[\n",
        "    [\n",
        "        \"id\",\n",
        "        \"pocket_fident\",\n",
        "        \"lddt\",\n",
        "        \"bb_lddt\",\n",
        "        \"lddt_lp_ave\",\n",
        "        \"lddt_pli_ave\",\n",
        "        \"bisy_rmsd_ave\",\n",
        "        \"sort_score\",\n",
        "        \"kind\",\n",
        "    ]\n",
        "]"
      ]
    },
    {
      "cell_type": "markdown",
      "metadata": {
        "id": "jsUue0UrIfin"
      },
      "source": [
        "For example, here we can see that \"4uou_B\"\n",
        "- has 100% identical residues corresponding to the pocket of the system\n",
        "- has a very high lDDT and backbone lDDT scores, indicating that the structure is very similar to the receptor.\n",
        "- has a `sort_score` of 2.4, which is the resolution for an apo structure and the plDDT score for a predicted structure.\n",
        "\n",
        "Indeed the superposition + transplant results show the same story\n",
        "- a global superposition puts the ligand in the right place (seen by the `bisy_rmsd` of the ligand pose),\n",
        "- the distances between the pocket atoms are similar (seen by the `lddt_lp_ave` metric),\n",
        "- and the distances between the ligand and protein atoms are similar (seen by the `lddt_pli_ave` metric).\n",
        "\n",
        "`get_linked_structure` then gives the file path to the found structure\n",
        "\n",
        "NOTE: if you have not previously downloaded the dataset, the below command may take a couple of minutes to downloaded the relevant files"
      ]
    },
    {
      "cell_type": "code",
      "execution_count": null,
      "metadata": {
        "colab": {
          "base_uri": "https://localhost:8080/",
          "height": 35
        },
        "id": "Ppjh8kRCIfin",
        "outputId": "2e9f1ec7-c729-49b9-924e-6fd77705152d"
      },
      "outputs": [],
      "source": [
        "plinder_system.get_linked_structure(\"apo\", \"4uou_B\")"
      ]
    },
    {
      "cell_type": "markdown",
      "metadata": {
        "id": "6Y-UGA4bIfin"
      },
      "source": [
        "### Linking more structures (optional)"
      ]
    },
    {
      "cell_type": "markdown",
      "metadata": {
        "id": "vZMTgmsZIfin"
      },
      "source": [
        "We attempted to link all single protein chain holo systems to up to 5 apo structures and up to 5 predicted structures and additionally evaluated these links for conformational difficulty.\n",
        "\n",
        "All of these can be accessed with `query_links`"
      ]
    },
    {
      "cell_type": "code",
      "execution_count": null,
      "metadata": {
        "id": "kPM9rLd0Ifio"
      },
      "outputs": [],
      "source": [
        "from plinder.core.scores import query_index, query_links"
      ]
    },
    {
      "cell_type": "code",
      "execution_count": null,
      "metadata": {
        "id": "ExWmgrDMIfio"
      },
      "outputs": [],
      "source": [
        "plindex = query_index(\n",
        "    filters=[\n",
        "        (\"system_num_protein_chains\", \"==\", 1),\n",
        "    ]\n",
        ")"
      ]
    },
    {
      "cell_type": "code",
      "execution_count": null,
      "metadata": {
        "colab": {
          "base_uri": "https://localhost:8080/",
          "height": 67,
          "referenced_widgets": [
            "e1992bd7ecb746069ea704e7451298ff",
            "64d4b7265bc242f4920c71935c000edb",
            "a067eda7f5544006a6d107193e6a1270"
          ]
        },
        "id": "HBQj3D3oIfio",
        "outputId": "20f1f9ed-74cd-4185-9e15-2007fc0f3c0a"
      },
      "outputs": [],
      "source": [
        "all_scored_links = query_links(\n",
        "    filters=[(\"reference_system_id\", \"in\", set(plindex.system_id))]\n",
        ")\n",
        "(\n",
        "    len(all_scored_links),\n",
        "    all_scored_links.reference_system_id.nunique(),\n",
        "    all_scored_links.id.nunique(),\n",
        ")"
      ]
    },
    {
      "cell_type": "code",
      "execution_count": null,
      "metadata": {
        "id": "2rl2uw_XIfio"
      },
      "outputs": [],
      "source": [
        "plindex[\"has_scored_linked_structure\"] = plindex.system_id.isin(\n",
        "    all_scored_links.reference_system_id\n",
        ")"
      ]
    },
    {
      "cell_type": "code",
      "execution_count": null,
      "metadata": {
        "colab": {
          "base_uri": "https://localhost:8080/",
          "height": 241
        },
        "id": "iTnLAX8MIfio",
        "outputId": "1273082c-0a8a-46f6-a94c-21939d8d624c"
      },
      "outputs": [],
      "source": [
        "plindex.drop_duplicates(\"system_id\").groupby(\n",
        "    \"split\"\n",
        ").has_scored_linked_structure.value_counts()"
      ]
    },
    {
      "cell_type": "markdown",
      "metadata": {
        "id": "soKNcK_vIfio"
      },
      "source": [
        "This is not complete coverage across the entire training set however, and has a number of caveats:\n",
        "- _apo_ structures could not be found for all systems\n",
        "- AFDB does not contain predicted structures for viral proteins\n",
        "- We did not attempt to link multi-protein holo systems\n",
        "- We only scored up to 5 links per system for performance reasons, sorting by resolution for apo and plDDT for predicted links\n",
        "- Not all links have 100% identical pocket residues as we used a threshold of 95%\n",
        "- Coverage was only checked for the system receptor (>80%) meaning the linked structure may be much longer\n"
      ]
    },
    {
      "cell_type": "markdown",
      "metadata": {
        "id": "0wIGAO-DIfio"
      },
      "source": [
        "You may want to have more links per system, more 100% identical pocket links, or additionally have cross-docking structures as links. You can query the `apo`, `pred` (and `holo` but don't run that in Colab!) search scores directly to get such results, using the `multi_query_protein_similarity` function, which returns hits matching all given criteria:"
      ]
    },
    {
      "cell_type": "code",
      "execution_count": null,
      "metadata": {
        "id": "c7G6t7WKIfio"
      },
      "outputs": [],
      "source": [
        "from plinder.core.scores.protein import multi_query_protein_similarity"
      ]
    },
    {
      "cell_type": "code",
      "execution_count": null,
      "metadata": {
        "colab": {
          "base_uri": "https://localhost:8080/",
          "height": 175
        },
        "id": "VHsqZUH-Ifio",
        "outputId": "cc10e0c4-8500-4e59-c5fc-dbb11809cd3c"
      },
      "outputs": [],
      "source": [
        "filter_criteria: dict[str, int] = {\n",
        "    \"pocket_fident\": 100,  # 100% identical pocket residues\n",
        "    \"protein_fident_weighted_sum\": 95,  # >=95% sequence identity of aligning region\n",
        "    \"protein_fident_qcov_weighted_sum\": 80,  # >=80% sequence identity * coverage across full system receptor\n",
        "    \"pocket_lddt\": 20,  # >=20 lDDT for pocket\n",
        "}\n",
        "\n",
        "multi_query_protein_similarity(\n",
        "    system_id=\"4agi__1__1.C__1.W\", search_db=\"apo\", filter_criteria=filter_criteria\n",
        ")"
      ]
    },
    {
      "cell_type": "code",
      "execution_count": null,
      "metadata": {
        "colab": {
          "base_uri": "https://localhost:8080/",
          "height": 81
        },
        "id": "lCp5TpO_Ifio",
        "outputId": "7ceac96f-0058-47d7-bce8-38e8df1d0a0e"
      },
      "outputs": [],
      "source": [
        "multi_query_protein_similarity(\n",
        "    system_id=\"4agi__1__1.C__1.W\", search_db=\"pred\", filter_criteria=filter_criteria\n",
        ")"
      ]
    },
    {
      "cell_type": "markdown",
      "metadata": {
        "id": "ksHOGR17Ifio"
      },
      "source": [
        "And get the file path to the found structure as before:"
      ]
    },
    {
      "cell_type": "code",
      "execution_count": null,
      "metadata": {
        "colab": {
          "base_uri": "https://localhost:8080/",
          "height": 35
        },
        "id": "s3V75mU2Ifio",
        "outputId": "774e8244-4a46-4060-90ce-fdf878e4cd4d"
      },
      "outputs": [],
      "source": [
        "plinder_system.get_linked_structure(\"pred\", \"Q4WW81_A\")"
      ]
    },
    {
      "cell_type": "markdown",
      "metadata": {
        "id": "FMphuWS2Ifio"
      },
      "source": [
        "Note that the `holo` search requires the holo scores dataset which is 68GB and thus will not be demonstrated in the notebook. However, you can use the same interface to query it and get the file path to the found structure in exactly the same way. An additional consideration for `holo` search is to restrict the search to the same split as the system being queried, the `splits` parameter in the `multi_query_protein_similarity` function controls this and is set to [\"train\"] by default."
      ]
    },
    {
      "cell_type": "markdown",
      "metadata": {
        "id": "JI6zsJAl4j_G"
      },
      "source": [
        "### Augmenting your dataset with ESMFold structures (optional)\n"
      ]
    },
    {
      "cell_type": "markdown",
      "metadata": {
        "id": "qLc3kdn9Ifio"
      },
      "source": [
        "Linking can also be done with structure prediction. For example, here's how one could use ESMFold to predict a structure for the system receptor:"
      ]
    },
    {
      "cell_type": "code",
      "execution_count": null,
      "metadata": {
        "id": "YNo5OqvtIfip"
      },
      "outputs": [],
      "source": [
        "from pathlib import Path\n",
        "\n",
        "import requests\n",
        "from biotite.structure.io.pdb import PDBFile, get_structure\n",
        "from biotite.structure.io.pdbx import CIFFile, set_structure\n",
        "\n",
        "\n",
        "def get_esmfold_prediction(sequence: str, filename: Path) -> str | None:\n",
        "    url = \"https://api.esmatlas.com/foldSequence/v1/pdb/\"\n",
        "\n",
        "    try:\n",
        "        response = requests.post(url, data=sequence)\n",
        "        response.raise_for_status()\n",
        "        pdb_text = response.text\n",
        "        with open(filename, \"w\") as f:\n",
        "            f.write(pdb_text)\n",
        "        structure = get_structure(\n",
        "            PDBFile.read(filename),\n",
        "            model=1,\n",
        "        )\n",
        "        write_file = CIFFile()\n",
        "        set_structure(write_file, structure)\n",
        "        write_file.write(filename.as_posix())\n",
        "        return filename.as_posix()\n",
        "    except requests.exceptions.RequestException as e:\n",
        "        print(f\"An error occurred: {e}\")\n",
        "        return None"
      ]
    },
    {
      "cell_type": "code",
      "execution_count": null,
      "metadata": {
        "colab": {
          "base_uri": "https://localhost:8080/",
          "height": 35
        },
        "id": "8Z4xHeMIIfip",
        "outputId": "da0c8b6c-f380-4fd3-9677-9a4298493bd8"
      },
      "outputs": [],
      "source": [
        "filename = \"esmfold_example.cif\"\n",
        "get_esmfold_prediction(plinder_system.sequences[\"1.C\"], Path(filename))"
      ]
    },
    {
      "cell_type": "code",
      "execution_count": null,
      "metadata": {
        "colab": {
          "base_uri": "https://localhost:8080/",
          "height": 497
        },
        "id": "ELgVZ0vVUgFG",
        "outputId": "9eb15230-733f-406c-d25f-c2f65c3d6c70"
      },
      "outputs": [],
      "source": [
        "view = py3Dmol.view()\n",
        "view.setBackgroundColor(\"white\")\n",
        "\n",
        "view.addModel(open(\"esmfold_example.cif\", \"r\").read(), \"cif\")\n",
        "view.setStyle({\"chain\": \"A\"}, {\"cartoon\": {\"color\": \"blue\"}})\n",
        "\n",
        "view.addModel(open(plinder_system.system_cif, \"r\").read(), \"cif\")\n",
        "view.setStyle({\"chain\": \"1.C\"}, {\"cartoon\": {\"color\": \"purple\"}})\n",
        "view.setStyle({\"chain\": \"1.W\"}, {\"stick\": {\"colorScheme\": \"elem\"}})\n",
        "\n",
        "view.zoomTo()\n",
        "view.show()"
      ]
    },
    {
      "cell_type": "markdown",
      "metadata": {
        "id": "C0aZoNniDdXX"
      },
      "source": [
        "**NOTE: _Please note the rules for augmentation when training a model to participate in the leaderboard_**\n",
        "\n",
        "> If starting structures/conformations need to be generated for the model, then this can only be done from the training and validation sequences and SMILES. Note that this is only the case for train & validation - no external folding methods or starting structures are allowed for the test set under any circumstance! Only the predicted structures/conformers themselves may be used in this way, the embeddings or models used to generate such predictions may not. E.g. it is not valid to “distill” a method that was not trained on PLINDER."
      ]
    },
    {
      "cell_type": "markdown",
      "metadata": {
        "id": "GzYPRV4QIfip"
      },
      "source": [
        "# Aligning, masking, and featurizing\n",
        "\n",
        "To enable using the system and linked structure files in training deep learning models, we've implemented a number of useful functions to align, mask, and featurize proteins and ligands.\n",
        "\n",
        "For this, we convert our system to a `Structure` object."
      ]
    },
    {
      "cell_type": "code",
      "execution_count": null,
      "metadata": {
        "colab": {
          "base_uri": "https://localhost:8080/"
        },
        "id": "kTQWKO6ZIfip",
        "outputId": "205973ec-580f-4622-d070-c8b5a75c3dbe"
      },
      "outputs": [],
      "source": [
        "system_structure = plinder_system.holo_structure"
      ]
    },
    {
      "cell_type": "markdown",
      "metadata": {
        "id": "latNWz0jIfip"
      },
      "source": [
        "## Ligand"
      ]
    },
    {
      "cell_type": "code",
      "execution_count": null,
      "metadata": {
        "colab": {
          "base_uri": "https://localhost:8080/"
        },
        "id": "_pAiH7weIfip",
        "outputId": "141f4f20-e83d-46e0-cfea-eed7e22e6dff"
      },
      "outputs": [],
      "source": [
        "for name in system_structure.get_properties():\n",
        "    if \"ligand\" in name:\n",
        "        print(name)"
      ]
    },
    {
      "cell_type": "markdown",
      "metadata": {
        "id": "r4c-21wZIfiq"
      },
      "source": [
        "The ligands are provided using dictionaries.\n",
        "\n",
        "These dictionaries contain information for each ligand:\n",
        "- `input_ligand_templates`: 2D RDKit mols generated from the RDKit canonical SMILES\n",
        "- `input_ligand_conformers`: 3D (random) conformers generated for each input mol\n",
        "- `input_ligand_conformers_coords`: positional coordintates for 3D conformers\n",
        "- `resolved_ligand_mols`: RDKit mols of solved (holo) ligand structures\n",
        "- `resolved_ligand_mols_coords`: positional coordintates for holo ligand structures\n",
        "- `ligand_template2resolved_atom_order_stacks`: paired stacked arrays (template vs holo) mapping atom order by index\n",
        "- `ligand_chain_ordered`: ordered list of all ligands by their keys"
      ]
    },
    {
      "cell_type": "markdown",
      "metadata": {
        "id": "BTbJ3omAIfiq"
      },
      "source": [
        "### Ligand atom id mapping mapping\n",
        "\n",
        "Unlike the protein sequence - there is no canonical order to ligand atoms in the molecule.\n",
        "It can be further complicated by automorphisms present in the structure due to symmetry, i.e. there is more than one match that is possible between the structures.\n",
        "\n",
        "This is important when calculating ligand structure loss, as the most optimal atom order can change between the different inference results. Typically, it is accepted to take the atom ordering resulting in the best objective score and use that for the loss calculation.\n",
        "\n",
        "Occasionally futher ambiguity arises to to part of the ligand structure being unresolved in the holo structure - this can lead to multiple available matches. We use RascalMCES algorithm from RDKit to provide all the possible matches between the atom order in the input structure (from SMILES) to the resolved holo structure.\n",
        "\n",
        "This is provided as stacks of atom order arrays that reorder the template and holo indices to provide matches. Each stack is a unique order transformation and should be iterated."
      ]
    },
    {
      "cell_type": "code",
      "execution_count": null,
      "metadata": {
        "id": "uEQwEFpt4vLY"
      },
      "outputs": [],
      "source": [
        "from rdkit.Chem.Draw import IPythonConsole\n",
        "\n",
        "IPythonConsole.drawOptions.addAtomIndices = True\n",
        "# IPythonConsole.ipython_3d = False"
      ]
    },
    {
      "cell_type": "code",
      "execution_count": null,
      "metadata": {
        "colab": {
          "base_uri": "https://localhost:8080/",
          "height": 167
        },
        "id": "xD8eBuuF42Ch",
        "outputId": "05920a3b-0e28-4989-8ef4-dc0301628755"
      },
      "outputs": [],
      "source": [
        "system_structure.input_ligand_templates[system_structure.ligand_chain_ordered[0]]"
      ]
    },
    {
      "cell_type": "code",
      "execution_count": null,
      "metadata": {
        "colab": {
          "base_uri": "https://localhost:8080/",
          "height": 167
        },
        "id": "tGo_oPUkIfiq",
        "outputId": "0a071f8b-4fc9-4c3c-929a-ca662e7cbe94"
      },
      "outputs": [],
      "source": [
        "system_structure.input_ligand_conformers[system_structure.ligand_chain_ordered[0]]"
      ]
    },
    {
      "cell_type": "code",
      "execution_count": null,
      "metadata": {
        "colab": {
          "base_uri": "https://localhost:8080/",
          "height": 167
        },
        "id": "WKIah-PTIfiq",
        "outputId": "a1aba17c-2b39-4ea0-f8a7-d02718f50427"
      },
      "outputs": [],
      "source": [
        "system_structure.resolved_ligand_mols[system_structure.ligand_chain_ordered[0]]"
      ]
    },
    {
      "cell_type": "markdown",
      "metadata": {
        "id": "VLeWRiXZ5Pcp"
      },
      "source": [
        "### Ligand conformer coordinates\n",
        "\n",
        "As you can tell, the input 2D and 3D conformer indices match, but the resolved ligand is different.\n",
        "Thus to perform a correct comparison for their coordinates one should use atom order stacks.\n"
      ]
    },
    {
      "cell_type": "code",
      "execution_count": null,
      "metadata": {
        "colab": {
          "base_uri": "https://localhost:8080/"
        },
        "id": "HbnEseui5U4D",
        "outputId": "8dae0b29-d969-4e53-8af3-01cbc23a1e0c"
      },
      "outputs": [],
      "source": [
        "(\n",
        "    input_atom_order_stack,\n",
        "    holo_atom_order_stack,\n",
        ") = system_structure.ligand_template2resolved_atom_order_stacks[\n",
        "    system_structure.ligand_chain_ordered[0]\n",
        "]\n",
        "input_atom_order_stack, holo_atom_order_stack"
      ]
    },
    {
      "cell_type": "code",
      "execution_count": null,
      "metadata": {
        "colab": {
          "base_uri": "https://localhost:8080/"
        },
        "id": "W0rWW5x0Ifiq",
        "outputId": "75bf9954-8585-480f-b05b-d905da6ad2e8"
      },
      "outputs": [],
      "source": [
        "system_structure.input_ligand_conformers_coords[\n",
        "    system_structure.ligand_chain_ordered[0]\n",
        "][input_atom_order_stack]"
      ]
    },
    {
      "cell_type": "code",
      "execution_count": null,
      "metadata": {
        "colab": {
          "base_uri": "https://localhost:8080/"
        },
        "id": "o2jWEImf5lEH",
        "outputId": "793c8c6b-de7a-486e-fa77-7fab2a13bfd7"
      },
      "outputs": [],
      "source": [
        "system_structure.resolved_ligand_mols_coords[system_structure.ligand_chain_ordered[0]][\n",
        "    holo_atom_order_stack\n",
        "]"
      ]
    },
    {
      "cell_type": "markdown",
      "metadata": {
        "id": "iwLrbdpbIfip"
      },
      "source": [
        "## Protein"
      ]
    },
    {
      "cell_type": "code",
      "execution_count": null,
      "metadata": {
        "colab": {
          "base_uri": "https://localhost:8080/"
        },
        "id": "s1JNbHHbIfip",
        "outputId": "dc75b836-468d-4827-b653-f29521bd87cc"
      },
      "outputs": [],
      "source": [
        "for name in system_structure.get_properties():\n",
        "    if \"protein\" in name:\n",
        "        print(name)"
      ]
    },
    {
      "cell_type": "markdown",
      "metadata": {
        "id": "UHkkwFjtIfip"
      },
      "source": [
        "### Masking\n",
        "The properties `protein_backbone_mask` and `protein_calpha_mask` are boolean masks that can be used to select backbone or calpha atoms from biotite `AtomArray`. The indices of `True` corresponds to backbone or calpha indices."
      ]
    },
    {
      "cell_type": "code",
      "execution_count": null,
      "metadata": {
        "colab": {
          "base_uri": "https://localhost:8080/"
        },
        "id": "dLziJbrHIfip",
        "outputId": "2f95e4f8-7cff-4d83-e37e-c96036917d3b"
      },
      "outputs": [],
      "source": [
        "print(\n",
        "    \"Total number of atoms:\",\n",
        "    len(system_structure.protein_atom_array),\n",
        ")\n",
        "print(\"Number of backbone atoms:\", system_structure.protein_backbone_mask.sum())\n",
        "print(\n",
        "    \"Number of calpha atoms:\",\n",
        "    system_structure.protein_calpha_mask.sum(),\n",
        ")"
      ]
    },
    {
      "cell_type": "code",
      "execution_count": null,
      "metadata": {
        "colab": {
          "base_uri": "https://localhost:8080/"
        },
        "id": "27go7s9SIfip",
        "outputId": "771025af-8546-436e-9d7e-6f9adb4ad961"
      },
      "outputs": [],
      "source": [
        "calpha_atom_array = system_structure.protein_atom_array[\n",
        "    system_structure.protein_calpha_mask\n",
        "]\n",
        "calpha_atom_array.coord.shape"
      ]
    },
    {
      "cell_type": "markdown",
      "metadata": {
        "id": "TiGIS-AAIfip"
      },
      "source": [
        "You can also filter by arbitrary properties of the `AtomArray` using the `filter` method. This returns a new `Structure` object."
      ]
    },
    {
      "cell_type": "code",
      "execution_count": null,
      "metadata": {
        "colab": {
          "base_uri": "https://localhost:8080/"
        },
        "id": "b2Y2xid1Ifip",
        "outputId": "274d8513-352f-4d48-8d34-6f890191adaa"
      },
      "outputs": [],
      "source": [
        "calpha_structure = system_structure.filter(\n",
        "    property=\"atom_name\",\n",
        "    mask=\"CA\",\n",
        ")"
      ]
    },
    {
      "cell_type": "code",
      "execution_count": null,
      "metadata": {
        "colab": {
          "base_uri": "https://localhost:8080/"
        },
        "id": "iZv-45wrIfip",
        "outputId": "d95b4136-e764-4fef-cbf9-13edb464b8fb"
      },
      "outputs": [],
      "source": [
        "calpha_structure.protein_atom_array.coord.shape"
      ]
    },
    {
      "cell_type": "markdown",
      "metadata": {
        "id": "4K1IqbXz66-Z"
      },
      "source": [
        "## Linked protein input structures"
      ]
    },
    {
      "cell_type": "markdown",
      "metadata": {
        "id": "QLMjFn1T76Kj"
      },
      "source": [
        "For realistic inference scenarios we need to initialize our protein structures using a linked structure (introduced above). In most cases, these will not be a perfect match to the _holo_ structure - the number of residues, residue numbering, and sometime the sequnce can be different. It's important to be able to match these structures to ensure that we can map between them. In the example below, we will take a holo structure and it's linked predicted (pred) form with different number of residues and try to match and crop the resulting structures."
      ]
    },
    {
      "cell_type": "markdown",
      "metadata": {},
      "source": []
    },
    {
      "cell_type": "code",
      "execution_count": null,
      "metadata": {
        "id": "GJbBmPSc66ht"
      },
      "outputs": [],
      "source": [
        "plinder_system = PlinderSystem(system_id=\"4cj6__1__1.A__1.B\")\n",
        "holo = plinder_system.holo_structure\n",
        "predicted = plinder_system.alternate_structures[\"P12271_A\"]\n",
        "print(\n",
        "    \"Number of residues in holo: \",\n",
        "    holo.protein_atom_array.shape[0],\n",
        "    \"\\n\" \"Number of residues in predicted: \",\n",
        "    predicted.protein_atom_array.shape[0],\n",
        ")"
      ]
    },
    {
      "cell_type": "code",
      "execution_count": null,
      "metadata": {},
      "outputs": [],
      "source": [
        "view = py3Dmol.view()\n",
        "view.setBackgroundColor(\"white\")\n",
        "\n",
        "view.addModel(plinder_system.system_cif, \"cif\")\n",
        "view.setStyle({\"chain\": \"1.A\"}, {\"cartoon\": {\"color\": \"blue\"}})\n",
        "view.setStyle({\"chain\": \"1.B\"}, {\"stick\": {\"colorScheme\": \"elem\"}})\n",
        "\n",
        "cif_file = pdbx.CIFFile()\n",
        "pdbx.set_structure(cif_file, predicted.protein_atom_array)\n",
        "with tempfile.NamedTemporaryFile() as tmp:\n",
        "    cif_file.write(tmp.name)\n",
        "    view.addModel(tmp.read().decode(), \"cif\")\n",
        "    view.setStyle({\"model\": -1}, {\"cartoon\": {\"color\": \"red\"}})\n",
        "view.zoomTo()\n",
        "view.show()"
      ]
    },
    {
      "cell_type": "markdown",
      "metadata": {},
      "source": [
        "Now, let's align the holo and predicted structures to figure out the correspondence between their residues. For this we use the `align_common_sequence` function of the holo `Structure` object, which aligns two structures based on their shared sequences. It has the following parameters:\n",
        "\n",
        "```\n",
        "other: Structure\n",
        "    The other structure to align to\n",
        "copy: bool\n",
        "    Whether to make a copy or edit in-place\n",
        "remove_differing_atoms: bool\n",
        "    Whether to remove differing atoms between the two structure\n",
        "renumber_residues: bool [False]\n",
        "    If True, renumber residues in the two structures to match and starting from 1. \n",
        "    If False, sets the resulting residue indices to the one from the aligned sequence\n",
        "remove_differing_annotations: bool [False]\n",
        "    Whether to remove differing annotations, like b-factor, etc\n",
        "```\n",
        "In this example, we will match, make copies and crop the structures.\n",
        "\n",
        "**NOTE**: To use this function the proteins to be aligned must have the same chain ids. So, we first set the chain id of the predicted structure to that of the holo structure."
      ]
    },
    {
      "cell_type": "code",
      "execution_count": null,
      "metadata": {},
      "outputs": [],
      "source": [
        "predicted.set_chain(holo.protein_chain_ordered[0])\n",
        "holo_cropped, predicted_cropped = holo.align_common_sequence(predicted)"
      ]
    },
    {
      "cell_type": "code",
      "execution_count": null,
      "metadata": {},
      "outputs": [],
      "source": [
        "predicted_cropped_superposed, raw_rmsd, refined_rmsd = predicted_cropped.superimpose(\n",
        "    holo_cropped\n",
        ")\n",
        "print(raw_rmsd, refined_rmsd)"
      ]
    },
    {
      "cell_type": "code",
      "execution_count": null,
      "metadata": {},
      "outputs": [],
      "source": [
        "view = py3Dmol.view()\n",
        "view.setBackgroundColor(\"white\")\n",
        "\n",
        "cif_file = pdbx.CIFFile()\n",
        "pdbx.set_structure(cif_file, holo_cropped.protein_atom_array)\n",
        "with tempfile.NamedTemporaryFile() as tmp:\n",
        "    cif_file.write(tmp.name)\n",
        "    view.addModel(tmp.read().decode(), \"cif\")\n",
        "    view.setStyle({\"model\": -1}, {\"cartoon\": {\"color\": \"blue\"}})\n",
        "\n",
        "cif_file = pdbx.CIFFile()\n",
        "pdbx.set_structure(cif_file, predicted_cropped_superposed.protein_atom_array)\n",
        "with tempfile.NamedTemporaryFile() as tmp:\n",
        "    cif_file.write(tmp.name)\n",
        "    view.addModel(tmp.read().decode(), \"cif\")\n",
        "    view.setStyle({\"model\": -1}, {\"cartoon\": {\"color\": \"red\"}})\n",
        "view.zoomTo()\n",
        "view.show()"
      ]
    },
    {
      "cell_type": "markdown",
      "metadata": {},
      "source": [
        "We can see that the wiggly disordered region on the predicted protein structure has been cropped out."
      ]
    },
    {
      "cell_type": "code",
      "execution_count": null,
      "metadata": {},
      "outputs": [],
      "source": [
        "print(\n",
        "    \"Number of residues in holo: \",\n",
        "    holo_cropped.protein_atom_array.shape[0],\n",
        "    \"\\n\" \"Number of residues in predicted: \",\n",
        "    predicted_cropped.protein_atom_array.shape[0],\n",
        ")"
      ]
    },
    {
      "cell_type": "markdown",
      "metadata": {
        "id": "5IqY52amJwWd"
      },
      "source": [
        "# Datasets and Dataloaders"
      ]
    },
    {
      "cell_type": "markdown",
      "metadata": {
        "id": "UAa0cDCe7yJW"
      },
      "source": [
        "#### Interacting with the PLINDER dataset\n",
        "`PlinderDataset` provides an interface to interact with _PLINDER_ data as a dataset. It is a subclass of `torch.utils.data.Dataset`, as such subclassing it and extending should be familiar to most users. Flexibility and general applicability is our top concern when designing this interface and `PlinderDataset` allows users to not only define their own split but to also bring their own featurizer.\n",
        "It can be initialized with the following parameters\n",
        "```\n",
        "Parameters\n",
        "    ----------\n",
        "    df : pd.DataFrame | None\n",
        "        the split to use\n",
        "    split : str\n",
        "        the split to sample from\n",
        "    split_parquet_path : str | Path, default=None\n",
        "        split parquet file\n",
        "    input_structure_priority : str, default=\"apo\"\n",
        "        Which alternate structure to proritize\n",
        "    featurizer: Callable[\n",
        "            [Structure, int], dict[str, torch.Tensor]\n",
        "    ] = structure_featurizer,\n",
        "        Transformation to turn structure to input tensors\n",
        "    padding_value : int\n",
        "        Value for padding uneven array\n",
        "    **kwargs : Any\n",
        "        Any other keyword args\n",
        "```\n",
        "\n",
        "For an example of how to write your own featurizer see [Featurizer Example](https://github.com/plinder-org/plinder/blob/c36eef9b02823ce572de905c094f6c85c03800ca/src/plinder/core/loader/featurizer.py#L16). The signature is shown below:\n",
        "```\n",
        "def structure_featurizer(\n",
        "    structure: Structure, pad_value: int = -100\n",
        "    ) -> dict[str, Any]:\n",
        "```\n",
        "The input is a `Structure` object and it returns dictionary of padded tensor features."
      ]
    },
    {
      "cell_type": "code",
      "execution_count": null,
      "metadata": {
        "id": "hhiddZeYIfiq"
      },
      "outputs": [],
      "source": [
        "from plinder.core.loader.dataset import PlinderDataset, get_torch_loader"
      ]
    },
    {
      "cell_type": "markdown",
      "metadata": {
        "id": "ASy-B13yRhSM"
      },
      "source": [
        "This is where you may want to load a `train` dataset, but for the purposes of demonstration - we will start with `val` due to smaller memory footprint, and load only single protein chain systems."
      ]
    },
    {
      "cell_type": "code",
      "execution_count": null,
      "metadata": {
        "id": "9tl92kUwIfiq"
      },
      "outputs": [],
      "source": [
        "val_dataset = PlinderDataset(\n",
        "    split=\"val\", filters=[(\"system_num_protein_chains\", \"==\", 1)]\n",
        ")"
      ]
    },
    {
      "cell_type": "code",
      "execution_count": null,
      "metadata": {
        "colab": {
          "base_uri": "https://localhost:8080/"
        },
        "id": "FXnNmGetIfiq",
        "outputId": "9781812d-3ea3-4f48-a3b1-880ed4befe54"
      },
      "outputs": [],
      "source": [
        "val_dataset[2]"
      ]
    },
    {
      "cell_type": "code",
      "execution_count": null,
      "metadata": {
        "id": "6ug1wJHYIfiq"
      },
      "outputs": [],
      "source": [
        "val_loader = get_torch_loader(val_dataset)"
      ]
    },
    {
      "cell_type": "code",
      "execution_count": null,
      "metadata": {
        "colab": {
          "base_uri": "https://localhost:8080/"
        },
        "id": "ebvr-pbWIfiq",
        "outputId": "f5ef33ad-196a-4fb6-a03c-acecf8816e59"
      },
      "outputs": [],
      "source": [
        "for data in val_loader:\n",
        "    test_torch = data\n",
        "    break"
      ]
    },
    {
      "cell_type": "markdown",
      "metadata": {
        "id": "uspc9bnxBz1-"
      },
      "source": [
        "# Evaluation"
      ]
    },
    {
      "cell_type": "markdown",
      "metadata": {
        "id": "QQOo9vEXLN4F"
      },
      "source": [
        "## `plinder_eval`\n",
        "\n",
        "We provide a wrapper around the OpenStructure scorer as well as PoseBusters to make it easy to evaluate predictions against PLINDER systems and generate scores for the leaderboard.\n",
        "\n",
        "\n",
        "This can be accessed through the command-line tool `plinder_eval`\n",
        "\n",
        "\n",
        "\n"
      ]
    },
    {
      "cell_type": "code",
      "execution_count": null,
      "metadata": {
        "colab": {
          "base_uri": "https://localhost:8080/"
        },
        "id": "i7MdxIHsT5qy",
        "outputId": "33c49f18-50c3-47b8-812e-7a706edd8c87"
      },
      "outputs": [],
      "source": [
        "!plinder_eval --help"
      ]
    },
    {
      "cell_type": "markdown",
      "metadata": {
        "id": "Q1GC2eM7Tqlr"
      },
      "source": [
        "This expects a CSV file with each row representating a protein-ligand pose, and the following columns:\n",
        "\n",
        "- `id`: An identifier for the prediction (same across different ranked poses of the same prediction)\n",
        "- `reference_system_id`: `plinder` system ID to use as reference\n",
        "- `receptor_file`: Path to predicted receptor CIF file. Leave blank if rigid docking, the system's receptor file will be used.\n",
        "- `rank`: The rank of the predicted pose (1-indexed)\n",
        "- `ligand_file`: Path to the SDF file of the predicted pose\n",
        "\n",
        "And produces a `scores.parquet` file with evaluated metrics for all the poses. For individual systems you can also use the Python function `plinder.eval.docking.write_scores.evaluate`."
      ]
    },
    {
      "cell_type": "markdown",
      "metadata": {
        "id": "70AZ8_PZTq7U"
      },
      "source": [
        "### Example: vina\n",
        "For example, here's how one could use AutoDock Vina to generate some docked poses from one of the apo/pred structures and then evaluate them:"
      ]
    },
    {
      "cell_type": "code",
      "execution_count": null,
      "metadata": {},
      "outputs": [],
      "source": [
        "!mamba install -q vina"
      ]
    },
    {
      "cell_type": "code",
      "execution_count": null,
      "metadata": {
        "id": "CPGS8YV5LXnA"
      },
      "outputs": [],
      "source": [
        "from biotite.structure import centroid, from_template\n",
        "import numpy as np\n",
        "from biotite.application.autodock import VinaApp\n",
        "from biotite.structure.io import load_structure\n",
        "from biotite.structure.io.mol import MOLFiles\n",
        "from pathlib import Path\n",
        "\n",
        "\n",
        "def vina(\n",
        "    ligand, receptor, pocket_center, output_folder: Path, size=10, max_num_poses=5\n",
        "):\n",
        "    app = VinaApp(\n",
        "        ligand,\n",
        "        receptor,\n",
        "        center=pocket_center,\n",
        "        size=[size, size, size],\n",
        "    )\n",
        "    app.set_max_number_of_models(max_num_poses)\n",
        "    app.start()\n",
        "    app.join()\n",
        "    docked_ligand = from_template(ligand, app.get_ligand_coord())\n",
        "    docked_ligand = docked_ligand[..., ~np.isnan(docked_ligand.coord[0]).any(axis=-1)]\n",
        "    output_files = []\n",
        "    for i in range(docked_ligand.shape[0]):\n",
        "        sdf_file = MOLFile()\n",
        "        sdf_file.set_structure(docked_ligand[i])\n",
        "        output_file = output_folder / f\"docked_ligand_{i}.sdf\"\n",
        "        sdf_file.write(output_file)\n",
        "        output_files.append(output_file)\n",
        "    return output_files"
      ]
    },
    {
      "cell_type": "code",
      "execution_count": null,
      "metadata": {},
      "outputs": [],
      "source": [
        "plinder_system = PlinderSystem(system_id=\"4cj6__1__1.A__1.B\")\n",
        "apo_structure = plinder_system.alternate_structures[\"P12271_A\"]\n",
        "input_protein = apo_structure.protein_atom_array\n",
        "input_ligand = plinder_system.holo_structure.input_ligand_conformer_atom_array[\"1.B\"]\n",
        "\n",
        "output_folder = Path(\"vina_output\")\n",
        "output_folder.mkdir(exist_ok=True)\n",
        "docking_poses = vina(\n",
        "    ligand=input_ligand,\n",
        "    receptor=input_protein,\n",
        "    pocket_center=centroid(input_protein),\n",
        "    output_folder=output_folder,\n",
        "    max_num_poses=5,\n",
        "    size=20,\n",
        ")"
      ]
    },
    {
      "cell_type": "code",
      "execution_count": null,
      "metadata": {
        "id": "KqJ0h17JQyW2"
      },
      "outputs": [],
      "source": [
        "from plinder.eval.docking.write_scores import evaluate\n",
        "\n",
        "metrics = []\n",
        "for pose in docking_poses:\n",
        "    metrics.append(\n",
        "        evaluate(\n",
        "            model_system_id=apo_structure.id,\n",
        "            reference_system_id=plinder_system.system_id,\n",
        "            receptor_file=apo_structure.protein_path,\n",
        "            ligand_files=[pose],\n",
        "            flexible=False,\n",
        "            posebusters=False,\n",
        "            posebusters_full=False,\n",
        "        )\n",
        "    )"
      ]
    },
    {
      "cell_type": "code",
      "execution_count": null,
      "metadata": {
        "colab": {
          "base_uri": "https://localhost:8080/",
          "height": 195
        },
        "id": "DdHsJ7SWUHtJ",
        "outputId": "126a73ae-ebe6-477b-db1a-890862970698"
      },
      "outputs": [],
      "source": [
        "import pandas as pd\n",
        "\n",
        "metrics_df = pd.DataFrame(metrics)\n",
        "metrics_df[[\"reference\", \"lddt_pli_ave\", \"lddt_lp_ave\", \"bisy_rmsd_ave\"]]"
      ]
    },
    {
      "cell_type": "code",
      "execution_count": null,
      "metadata": {
        "colab": {
          "base_uri": "https://localhost:8080/"
        },
        "id": "IaJFE8thUeJ6",
        "outputId": "ba0ed122-0ede-43e1-f5e0-a005959b4cce"
      },
      "outputs": [],
      "source": [
        "metrics_full = []\n",
        "for pose in docking_poses:\n",
        "    metrics_full.append(\n",
        "        evaluate(\n",
        "            model_system_id=apo_structure.id,\n",
        "            reference_system_id=plinder_system.system_id,\n",
        "            receptor_file=apo_structure.protein_path,\n",
        "            ligand_files=[pose],\n",
        "            flexible=True,\n",
        "            posebusters=True,\n",
        "            posebusters_full=False,\n",
        "        )\n",
        "    )"
      ]
    },
    {
      "cell_type": "code",
      "execution_count": null,
      "metadata": {
        "id": "UVaETLc_VgKq"
      },
      "outputs": [],
      "source": [
        "metrics_df = pd.DataFrame(metrics_full)\n",
        "metrics_df[\n",
        "    [\n",
        "        \"reference\",\n",
        "        \"lddt\",\n",
        "        \"bb_lddt\",\n",
        "        \"per_chain_lddt_ave\",\n",
        "        \"per_chain_bb_lddt_ave\",\n",
        "        \"lddt_pli_ave\",\n",
        "        \"lddt_lp_ave\",\n",
        "        \"bisy_rmsd_ave\",\n",
        "    ]\n",
        "]"
      ]
    },
    {
      "cell_type": "code",
      "execution_count": null,
      "metadata": {
        "colab": {
          "base_uri": "https://localhost:8080/",
          "height": 212
        },
        "id": "4kBv6F2VaAb2",
        "outputId": "7ff9e3f7-7200-4214-a7e4-aa8f7fba6b03"
      },
      "outputs": [],
      "source": [
        "metrics_df[[c for c in metrics_df.columns if c.startswith(\"posebusters\")]]"
      ]
    },
    {
      "cell_type": "code",
      "execution_count": null,
      "metadata": {
        "colab": {
          "base_uri": "https://localhost:8080/",
          "height": 514
        },
        "id": "Jy9bfAoAasOI",
        "outputId": "1dad43d9-11ce-4557-d523-c82e60123d43"
      },
      "outputs": [],
      "source": [
        "view = py3Dmol.view()\n",
        "view.setBackgroundColor(\"white\")\n",
        "view.setStyle({\"stick\": {\"color\": \"green\"}})\n",
        "view.addModel(open(apo_structure.protein_path, \"r\").read(), \"cif\")\n",
        "view.setStyle({\"chain\": \"A\"}, {\"cartoon\": {\"color\": \"blue\"}})\n",
        "view.addModel(open(docking_poses[-1], \"r\").read(), \"sdf\")\n",
        "view.setStyle({\"model\": -1}, {\"stick\": {\"colorScheme\": \"elem\"}})"
      ]
    },
    {
      "cell_type": "code",
      "execution_count": null,
      "metadata": {
        "colab": {
          "base_uri": "https://localhost:8080/",
          "height": 532
        },
        "id": "CaAWYVjAbI7F",
        "outputId": "d98bbe93-76ed-467a-cc8a-a9da4a84cf66"
      },
      "outputs": [],
      "source": [
        "view = py3Dmol.view()\n",
        "view.setBackgroundColor(\"white\")\n",
        "view.addModel(open(plinder_system.system_cif, \"r\").read(), \"cif\")\n",
        "view.setStyle(\n",
        "    {\"chain\": plinder_system.holo_structure.protein_chain_ordered[0]},\n",
        "    {\"cartoon\": {\"color\": \"purple\"}},\n",
        ")\n",
        "view.setStyle(\n",
        "    {\"chain\": plinder_system.holo_structure.ligand_chain_ordered[0]},\n",
        "    {\"stick\": {\"color\": \"green\"}},\n",
        ")\n",
        "view.zoomTo()\n",
        "view.show()"
      ]
    },
    {
      "cell_type": "markdown",
      "metadata": {
        "id": "4Xx5xwEfZqSM"
      },
      "source": [
        "## `plinder_stratify`"
      ]
    },
    {
      "cell_type": "markdown",
      "metadata": {
        "id": "jAdNXtoDeJKU"
      },
      "source": [
        "(This command will not need to be run by a user, the `test_set.parquet` and `val_set.parquet` file will be provided with the split release)\n",
        "\n",
        "```bash\n",
        "plinder_stratify --split_file split.parquet --output_dir results --train_label train --test_label val\n",
        "```\n",
        "\n",
        "Makes `val_set.parquet` which\n",
        "\n",
        "- Labels the maximum similarity of each val system to the training set across all the similarity metrics\n",
        "- Stratifies the val set based on training set similarity into `novel_pocket_pli`, `novel_ligand`, `novel_protein`, `novel_all` and `not_novel`\n",
        "- Labels val systems with high quality.\n"
      ]
    },
    {
      "cell_type": "code",
      "execution_count": null,
      "metadata": {},
      "outputs": [],
      "source": [
        "val_stratification = pd.read_parquet(\n",
        "    Path(cfg.data.plinder_dir)\n",
        "    / \"splits\"\n",
        "    / \"stratification\"\n",
        "    / \"train_vs_val_data\"\n",
        "    / \"val_set.parquet\"\n",
        ")\n",
        "val_stratification.head()"
      ]
    },
    {
      "cell_type": "code",
      "execution_count": null,
      "metadata": {},
      "outputs": [],
      "source": [
        "val_stratification[[c for c in val_stratification.columns if \"novel\" in c]].sum()"
      ]
    },
    {
      "cell_type": "markdown",
      "metadata": {
        "id": "6qzjdtmiZngu"
      },
      "source": [
        "## `plinder_plot`\n",
        "\n",
        "```bash\n",
        "plinder_plot --scores_file scores.parquet --data_file val_set.parquet --output_dir results\n",
        "```\n",
        "\n",
        "Plots performance of a model stratified by training set similarity.\n",
        "\n",
        "![plot](https://www.biorxiv.org/content/biorxiv/early/2024/07/19/2024.07.17.603955.1/F5.large.jpg)"
      ]
    }
  ],
  "metadata": {
    "colab": {
      "include_colab_link": true,
      "provenance": [],
      "toc_visible": true
    },
    "kernelspec": {
      "display_name": "Python 3",
      "language": "python",
      "name": "python3"
    },
    "language_info": {
      "codemirror_mode": {
        "name": "ipython",
        "version": 3
      },
      "file_extension": ".py",
      "mimetype": "text/x-python",
      "name": "python",
      "nbconvert_exporter": "python",
      "pygments_lexer": "ipython3",
      "version": "3.10.14"
    },
    "widgets": {
      "application/vnd.jupyter.widget-state+json": {
        "0c212aa62df24017badc78892e3473da": {
          "model_module": "@jupyter-widgets/controls",
          "model_module_version": "1.5.0",
          "model_name": "ProgressStyleModel",
          "state": {
            "_model_module": "@jupyter-widgets/controls",
            "_model_module_version": "1.5.0",
            "_model_name": "ProgressStyleModel",
            "_view_count": null,
            "_view_module": "@jupyter-widgets/base",
            "_view_module_version": "1.2.0",
            "_view_name": "StyleView",
            "bar_color": "black",
            "description_width": ""
          }
        },
        "124e1e0316524ef3afb6ffe11907e0ea": {
          "model_module": "@jupyter-widgets/base",
          "model_module_version": "1.2.0",
          "model_name": "LayoutModel",
          "state": {
            "_model_module": "@jupyter-widgets/base",
            "_model_module_version": "1.2.0",
            "_model_name": "LayoutModel",
            "_view_count": null,
            "_view_module": "@jupyter-widgets/base",
            "_view_module_version": "1.2.0",
            "_view_name": "LayoutView",
            "align_content": null,
            "align_items": null,
            "align_self": null,
            "border": null,
            "bottom": null,
            "display": null,
            "flex": null,
            "flex_flow": null,
            "grid_area": null,
            "grid_auto_columns": null,
            "grid_auto_flow": null,
            "grid_auto_rows": null,
            "grid_column": null,
            "grid_gap": null,
            "grid_row": null,
            "grid_template_areas": null,
            "grid_template_columns": null,
            "grid_template_rows": null,
            "height": null,
            "justify_content": null,
            "justify_items": null,
            "left": null,
            "margin": null,
            "max_height": null,
            "max_width": null,
            "min_height": null,
            "min_width": null,
            "object_fit": null,
            "object_position": null,
            "order": null,
            "overflow": null,
            "overflow_x": null,
            "overflow_y": null,
            "padding": null,
            "right": null,
            "top": null,
            "visibility": null,
            "width": null
          }
        },
        "1f98accf4ef34bfb8636a40420c8bf0d": {
          "model_module": "@jupyter-widgets/controls",
          "model_module_version": "1.5.0",
          "model_name": "FloatProgressModel",
          "state": {
            "_dom_classes": [],
            "_model_module": "@jupyter-widgets/controls",
            "_model_module_version": "1.5.0",
            "_model_name": "FloatProgressModel",
            "_view_count": null,
            "_view_module": "@jupyter-widgets/controls",
            "_view_module_version": "1.5.0",
            "_view_name": "ProgressView",
            "bar_style": "",
            "description": "",
            "description_tooltip": null,
            "layout": "IPY_MODEL_f504cc39fb51482db68e41b8ab400396",
            "max": 100,
            "min": 0,
            "orientation": "horizontal",
            "style": "IPY_MODEL_0c212aa62df24017badc78892e3473da",
            "value": 100
          }
        },
        "306dde3bc89242be8a5e4dc75379e8ac": {
          "model_module": "mols2grid",
          "model_module_version": "^2.0.0",
          "model_name": "MolGridModel",
          "state": {
            "_dom_classes": [],
            "_model_module": "mols2grid",
            "_model_module_version": "^2.0.0",
            "_model_name": "MolGridModel",
            "_view_count": null,
            "_view_module": "mols2grid",
            "_view_module_version": "^2.0.0",
            "_view_name": "MolGridView",
            "callback_kwargs": "{}",
            "filter_mask": [],
            "grid_id": "default",
            "layout": "IPY_MODEL_124e1e0316524ef3afb6ffe11907e0ea",
            "selection": "{}"
          }
        },
        "64d4b7265bc242f4920c71935c000edb": {
          "model_module": "@jupyter-widgets/base",
          "model_module_version": "1.2.0",
          "model_name": "LayoutModel",
          "state": {
            "_model_module": "@jupyter-widgets/base",
            "_model_module_version": "1.2.0",
            "_model_name": "LayoutModel",
            "_view_count": null,
            "_view_module": "@jupyter-widgets/base",
            "_view_module_version": "1.2.0",
            "_view_name": "LayoutView",
            "align_content": null,
            "align_items": null,
            "align_self": null,
            "border": null,
            "bottom": null,
            "display": null,
            "flex": null,
            "flex_flow": null,
            "grid_area": null,
            "grid_auto_columns": null,
            "grid_auto_flow": null,
            "grid_auto_rows": null,
            "grid_column": null,
            "grid_gap": null,
            "grid_row": null,
            "grid_template_areas": null,
            "grid_template_columns": null,
            "grid_template_rows": null,
            "height": null,
            "justify_content": null,
            "justify_items": null,
            "left": null,
            "margin": null,
            "max_height": null,
            "max_width": null,
            "min_height": null,
            "min_width": null,
            "object_fit": null,
            "object_position": null,
            "order": null,
            "overflow": null,
            "overflow_x": null,
            "overflow_y": null,
            "padding": null,
            "right": null,
            "top": null,
            "visibility": null,
            "width": "auto"
          }
        },
        "9bff8e8d9fab4a138ce25ff2e78e5679": {
          "model_module": "@jupyter-widgets/controls",
          "model_module_version": "1.5.0",
          "model_name": "FloatProgressModel",
          "state": {
            "_dom_classes": [],
            "_model_module": "@jupyter-widgets/controls",
            "_model_module_version": "1.5.0",
            "_model_name": "FloatProgressModel",
            "_view_count": null,
            "_view_module": "@jupyter-widgets/controls",
            "_view_module_version": "1.5.0",
            "_view_name": "ProgressView",
            "bar_style": "",
            "description": "",
            "description_tooltip": null,
            "layout": "IPY_MODEL_cc4b6102040a41779cf8fd916fadb66d",
            "max": 100,
            "min": 0,
            "orientation": "horizontal",
            "style": "IPY_MODEL_db20931741084dbca197878951b98983",
            "value": 100
          }
        },
        "a067eda7f5544006a6d107193e6a1270": {
          "model_module": "@jupyter-widgets/controls",
          "model_module_version": "1.5.0",
          "model_name": "ProgressStyleModel",
          "state": {
            "_model_module": "@jupyter-widgets/controls",
            "_model_module_version": "1.5.0",
            "_model_name": "ProgressStyleModel",
            "_view_count": null,
            "_view_module": "@jupyter-widgets/base",
            "_view_module_version": "1.2.0",
            "_view_name": "StyleView",
            "bar_color": "black",
            "description_width": ""
          }
        },
        "cc4b6102040a41779cf8fd916fadb66d": {
          "model_module": "@jupyter-widgets/base",
          "model_module_version": "1.2.0",
          "model_name": "LayoutModel",
          "state": {
            "_model_module": "@jupyter-widgets/base",
            "_model_module_version": "1.2.0",
            "_model_name": "LayoutModel",
            "_view_count": null,
            "_view_module": "@jupyter-widgets/base",
            "_view_module_version": "1.2.0",
            "_view_name": "LayoutView",
            "align_content": null,
            "align_items": null,
            "align_self": null,
            "border": null,
            "bottom": null,
            "display": null,
            "flex": null,
            "flex_flow": null,
            "grid_area": null,
            "grid_auto_columns": null,
            "grid_auto_flow": null,
            "grid_auto_rows": null,
            "grid_column": null,
            "grid_gap": null,
            "grid_row": null,
            "grid_template_areas": null,
            "grid_template_columns": null,
            "grid_template_rows": null,
            "height": null,
            "justify_content": null,
            "justify_items": null,
            "left": null,
            "margin": null,
            "max_height": null,
            "max_width": null,
            "min_height": null,
            "min_width": null,
            "object_fit": null,
            "object_position": null,
            "order": null,
            "overflow": null,
            "overflow_x": null,
            "overflow_y": null,
            "padding": null,
            "right": null,
            "top": null,
            "visibility": null,
            "width": "auto"
          }
        },
        "db20931741084dbca197878951b98983": {
          "model_module": "@jupyter-widgets/controls",
          "model_module_version": "1.5.0",
          "model_name": "ProgressStyleModel",
          "state": {
            "_model_module": "@jupyter-widgets/controls",
            "_model_module_version": "1.5.0",
            "_model_name": "ProgressStyleModel",
            "_view_count": null,
            "_view_module": "@jupyter-widgets/base",
            "_view_module_version": "1.2.0",
            "_view_name": "StyleView",
            "bar_color": "black",
            "description_width": ""
          }
        },
        "e1992bd7ecb746069ea704e7451298ff": {
          "model_module": "@jupyter-widgets/controls",
          "model_module_version": "1.5.0",
          "model_name": "FloatProgressModel",
          "state": {
            "_dom_classes": [],
            "_model_module": "@jupyter-widgets/controls",
            "_model_module_version": "1.5.0",
            "_model_name": "FloatProgressModel",
            "_view_count": null,
            "_view_module": "@jupyter-widgets/controls",
            "_view_module_version": "1.5.0",
            "_view_name": "ProgressView",
            "bar_style": "",
            "description": "",
            "description_tooltip": null,
            "layout": "IPY_MODEL_64d4b7265bc242f4920c71935c000edb",
            "max": 100,
            "min": 0,
            "orientation": "horizontal",
            "style": "IPY_MODEL_a067eda7f5544006a6d107193e6a1270",
            "value": 100
          }
        },
        "f504cc39fb51482db68e41b8ab400396": {
          "model_module": "@jupyter-widgets/base",
          "model_module_version": "1.2.0",
          "model_name": "LayoutModel",
          "state": {
            "_model_module": "@jupyter-widgets/base",
            "_model_module_version": "1.2.0",
            "_model_name": "LayoutModel",
            "_view_count": null,
            "_view_module": "@jupyter-widgets/base",
            "_view_module_version": "1.2.0",
            "_view_name": "LayoutView",
            "align_content": null,
            "align_items": null,
            "align_self": null,
            "border": null,
            "bottom": null,
            "display": null,
            "flex": null,
            "flex_flow": null,
            "grid_area": null,
            "grid_auto_columns": null,
            "grid_auto_flow": null,
            "grid_auto_rows": null,
            "grid_column": null,
            "grid_gap": null,
            "grid_row": null,
            "grid_template_areas": null,
            "grid_template_columns": null,
            "grid_template_rows": null,
            "height": null,
            "justify_content": null,
            "justify_items": null,
            "left": null,
            "margin": null,
            "max_height": null,
            "max_width": null,
            "min_height": null,
            "min_width": null,
            "object_fit": null,
            "object_position": null,
            "order": null,
            "overflow": null,
            "overflow_x": null,
            "overflow_y": null,
            "padding": null,
            "right": null,
            "top": null,
            "visibility": null,
            "width": "auto"
          }
        }
      }
    }
  },
  "nbformat": 4,
  "nbformat_minor": 0
}
