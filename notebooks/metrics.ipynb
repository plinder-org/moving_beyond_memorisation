{
  "nbformat": 4,
  "nbformat_minor": 0,
  "metadata": {
    "colab": {
      "provenance": [],
      "collapsed_sections": [
        "Dsc7lQGACfgY"
      ],
      "include_colab_link": true
    },
    "kernelspec": {
      "name": "python3",
      "display_name": "Python 3"
    },
    "language_info": {
      "name": "python"
    }
  },
  "cells": [
    {
      "cell_type": "markdown",
      "metadata": {
        "id": "view-in-github",
        "colab_type": "text"
      },
      "source": [
        "<a href=\"https://colab.research.google.com/github/xrobin/moving_beyond_memorisation/blob/main/2_Scoring_with_OpenStructure.ipynb\" target=\"_parent\"><img src=\"https://colab.research.google.com/assets/colab-badge.svg\" alt=\"Open In Colab\"/></a>"
      ]
    },
    {
      "cell_type": "markdown",
      "source": [
        "Run this cell, wait for the kernel to restart and then run the next cell:"
      ],
      "metadata": {
        "id": "CNY4UaP64BeO"
      }
    },
    {
      "cell_type": "markdown",
      "source": [
        "# Setup"
      ],
      "metadata": {
        "id": "v804grnK7qNu"
      }
    },
    {
      "cell_type": "code",
      "source": [
        "!pip install -q git+https://github.com/conda-incubator/condacolab.git@0.1.x\n",
        "import condacolab\n",
        "condacolab.install()"
      ],
      "metadata": {
        "id": "SzpxLc-1WBde",
        "colab": {
          "base_uri": "https://localhost:8080/"
        },
        "outputId": "b423f55a-5fc4-43b8-f96f-5e432c379ddd"
      },
      "execution_count": 1,
      "outputs": [
        {
          "output_type": "stream",
          "name": "stdout",
          "text": [
            "  Installing build dependencies ... \u001b[?25l\u001b[?25hdone\n",
            "  Getting requirements to build wheel ... \u001b[?25l\u001b[?25hdone\n",
            "  Preparing metadata (pyproject.toml) ... \u001b[?25l\u001b[?25hdone\n",
            "  Building wheel for condacolab (pyproject.toml) ... \u001b[?25l\u001b[?25hdone\n",
            "⏬ Downloading https://github.com/conda-forge/miniforge/releases/download/23.11.0-0/Mambaforge-23.11.0-0-Linux-x86_64.sh...\n",
            "📦 Installing...\n",
            "📌 Adjusting configuration...\n",
            "🩹 Patching environment...\n",
            "⏲ Done in 0:00:15\n",
            "🔁 Restarting kernel...\n"
          ]
        }
      ]
    },
    {
      "cell_type": "code",
      "source": [
        "!mamba install -q pip scipy networkx conda-forge::boost aivant::openstructure anaconda::py-boost"
      ],
      "metadata": {
        "id": "9FFyheOIjk5x",
        "colab": {
          "base_uri": "https://localhost:8080/"
        },
        "outputId": "1caa29e6-bc9c-4fd3-aca8-3d015b64716f"
      },
      "execution_count": 2,
      "outputs": [
        {
          "output_type": "stream",
          "name": "stdout",
          "text": [
            "Preparing transaction: ...working... done\n",
            "Verifying transaction: ...working... done\n",
            "Executing transaction: ...working... done\n"
          ]
        }
      ]
    },
    {
      "cell_type": "code",
      "source": [
        "!ost --version"
      ],
      "metadata": {
        "id": "H29yNNtIGYrt",
        "colab": {
          "base_uri": "https://localhost:8080/"
        },
        "outputId": "f47eb459-7b92-416b-b329-fefc9056e507"
      },
      "execution_count": 1,
      "outputs": [
        {
          "output_type": "stream",
          "name": "stdout",
          "text": [
            "OpenStructure 2.8.0\n"
          ]
        }
      ]
    },
    {
      "cell_type": "code",
      "source": [
        "import ost\n",
        "print(ost.__version__)"
      ],
      "metadata": {
        "id": "yTlzmUgzY60M",
        "colab": {
          "base_uri": "https://localhost:8080/"
        },
        "outputId": "6fd5c735-edf5-4a00-c224-2665a13aaed6"
      },
      "execution_count": 2,
      "outputs": [
        {
          "output_type": "stream",
          "name": "stdout",
          "text": [
            "2.8.0\n"
          ]
        }
      ]
    },
    {
      "cell_type": "code",
      "source": [
        "# Check conop\n",
        "from ost import conop\n",
        "print(conop.GetDefaultLib().FindCompound(\"A1LU6\").name)"
      ],
      "metadata": {
        "id": "P-qoUbaNoR50",
        "colab": {
          "base_uri": "https://localhost:8080/"
        },
        "outputId": "069f07db-caef-4a84-f2b9-59e37b8e052e"
      },
      "execution_count": 3,
      "outputs": [
        {
          "output_type": "stream",
          "name": "stdout",
          "text": [
            "5-(3-azanyl-1~{H}-indazol-6-yl)-1-[(3-chlorophenyl)methyl]pyridin-2-one\n"
          ]
        }
      ]
    },
    {
      "cell_type": "markdown",
      "source": [
        "# Protein-protein complex scoring"
      ],
      "metadata": {
        "id": "ahad2yEcB3jR"
      }
    },
    {
      "cell_type": "markdown",
      "source": [
        "## Data loading"
      ],
      "metadata": {
        "id": "4ZVzxoEuQohF"
      }
    },
    {
      "cell_type": "code",
      "source": [
        "!mkdir -p T1187/\n",
        "!wget https://raw.githubusercontent.com/xrobin/moving_beyond_memorisation/refs/heads/main/2_Scoring_with_OpenStructure_Data/ppi_scoring/T1187o.pdb -O T1187/T1187o.pdb\n",
        "!wget https://raw.githubusercontent.com/xrobin/moving_beyond_memorisation/refs/heads/main/2_Scoring_with_OpenStructure_Data/ppi_scoring/T1187TS447_1o_superposed.pdb -O T1187/T1187TS447_1o_superposed.pdb\n",
        "!ls T1187/"
      ],
      "metadata": {
        "colab": {
          "base_uri": "https://localhost:8080/"
        },
        "id": "OVn0KzQsRCk7",
        "outputId": "e7fae1b0-fe3b-4d6b-ecab-21d4dda68e5f"
      },
      "execution_count": 4,
      "outputs": [
        {
          "output_type": "stream",
          "name": "stdout",
          "text": [
            "--2024-09-23 10:03:09--  https://raw.githubusercontent.com/xrobin/moving_beyond_memorisation/refs/heads/main/2_Scoring_with_OpenStructure_Data/ppi_scoring/T1187o.pdb\n",
            "Resolving raw.githubusercontent.com (raw.githubusercontent.com)... 185.199.108.133, 185.199.109.133, 185.199.110.133, ...\n",
            "Connecting to raw.githubusercontent.com (raw.githubusercontent.com)|185.199.108.133|:443... connected.\n",
            "HTTP request sent, awaiting response... 200 OK\n",
            "Length: 219049 (214K) [text/plain]\n",
            "Saving to: ‘T1187/T1187o.pdb’\n",
            "\n",
            "\rT1187/T1187o.pdb      0%[                    ]       0  --.-KB/s               \rT1187/T1187o.pdb    100%[===================>] 213.92K  --.-KB/s    in 0.03s   \n",
            "\n",
            "2024-09-23 10:03:09 (6.11 MB/s) - ‘T1187/T1187o.pdb’ saved [219049/219049]\n",
            "\n",
            "--2024-09-23 10:03:09--  https://raw.githubusercontent.com/xrobin/moving_beyond_memorisation/refs/heads/main/2_Scoring_with_OpenStructure_Data/ppi_scoring/T1187TS447_1o_superposed.pdb\n",
            "Resolving raw.githubusercontent.com (raw.githubusercontent.com)... 185.199.108.133, 185.199.109.133, 185.199.110.133, ...\n",
            "Connecting to raw.githubusercontent.com (raw.githubusercontent.com)|185.199.108.133|:443... connected.\n",
            "HTTP request sent, awaiting response... 200 OK\n",
            "Length: 219193 (214K) [text/plain]\n",
            "Saving to: ‘T1187/T1187TS447_1o_superposed.pdb’\n",
            "\n",
            "T1187/T1187TS447_1o 100%[===================>] 214.06K  --.-KB/s    in 0.04s   \n",
            "\n",
            "2024-09-23 10:03:10 (5.81 MB/s) - ‘T1187/T1187TS447_1o_superposed.pdb’ saved [219193/219193]\n",
            "\n",
            "T1187o.pdb  T1187TS447_1o_superposed.pdb\n"
          ]
        }
      ]
    },
    {
      "cell_type": "code",
      "source": [
        "from ost import io\n",
        "# Target\n",
        "target_structure = io.LoadPDB(\"T1187/T1187o.pdb\")\n",
        "# Model\n",
        "model_structure = io.LoadPDB(\"T1187/T1187TS447_1o_superposed.pdb\")"
      ],
      "metadata": {
        "id": "ugmtvkFVQqvi"
      },
      "execution_count": 5,
      "outputs": []
    },
    {
      "cell_type": "markdown",
      "source": [
        "## Scoring with Python interactively"
      ],
      "metadata": {
        "id": "6dVkEW7MPJGx"
      }
    },
    {
      "cell_type": "code",
      "source": [
        "\n",
        "\n",
        "from ost.mol.alg import scoring\n",
        "\n",
        "# The Scorer object processes the input structures and performs basic cleanup.\n",
        "scorer = scoring.Scorer(model_structure, target_structure)\n",
        "\n",
        "# HTML documentation available as:\n",
        "# https://openstructure.org/docs/2.8/mol/alg/scoring/#ost.mol.alg.scoring.Scorer\n",
        "# raw doc string can be displayed with:\n",
        "# help(scoring.Scorer)\n",
        "\n",
        "\n",
        "# Here we only scratch the surface and investigate a couple of relevant scores.\n",
        "# All scores are lazily evaluated and available as attributes.\n",
        "\n",
        "# the following scores operate on the full assembly which requires to derive a\n",
        "# one-to-one correspondance between model and reference chains, aka chain\n",
        "# mapping - OpenStructure does this fully automatically\n",
        "print(\"lDDT\", scorer.lddt)\n",
        "print(\"lDDT (backbone only):\", scorer.bb_lddt)\n",
        "print(\"QS-score:\", scorer.qs_global)\n",
        "\n",
        "# here is the used mapping:\n",
        "print(\"mapping (keys: trg chain, values: mdl chain):\",\n",
        "      scorer.mapping.GetFlatMapping())\n",
        "\n",
        "# Pinder strictly operates on dimers which is basically the CAPRI use-case\n",
        "# This is what DockQ and the 3 underlying scores (fnat, irmsd, lrmsd) are\n",
        "# designed for. Let's first check the interfaces in our structure:\n",
        "print(\"Interfaces evaluated by DockQ:\", scorer.dockq_interfaces)\n",
        "help(scoring.Scorer.dockq_interfaces)\n",
        "print(\"With their respective DockQ scores:\", scorer.dockq_scores)\n",
        "print(\"fnat:\", scorer.fnat)\n",
        "print(\"irmsd:\", scorer.irmsd)\n",
        "print(\"lrmsd:\", scorer.lrmsd)"
      ],
      "metadata": {
        "colab": {
          "base_uri": "https://localhost:8080/"
        },
        "id": "Jc1CRs-2QZph",
        "outputId": "5743a5e7-2bef-45fe-827f-6e1674f53cc8"
      },
      "execution_count": 6,
      "outputs": [
        {
          "output_type": "stream",
          "name": "stdout",
          "text": [
            "lDDT 0.8176616554189962\n",
            "lDDT (backbone only): 0.8698029973410684\n",
            "QS-score: 0.7031908212851736\n",
            "mapping (keys: trg chain, values: mdl chain): {'B': 'A', 'A': 'B'}\n",
            "Interfaces evaluated by DockQ: [('A', 'B', 'B', 'A')]\n",
            "Help on property:\n",
            "\n",
            "    Interfaces in :attr:`dockq_target_interfaces` that can be mapped\n",
            "    to model\n",
            "    \n",
            "    Target chain names are lexicographically sorted\n",
            "    \n",
            "    :type: :class:`list` of :class:`tuple` with 4 elements each:\n",
            "           (trg_ch1, trg_ch2, mdl_ch1, mdl_ch2)\n",
            "\n",
            "With their respective DockQ scores: [0.442]\n",
            "fnat: [0.4166666666666667]\n",
            "irmsd: [2.601]\n",
            "lrmsd: [6.095]\n"
          ]
        }
      ]
    },
    {
      "cell_type": "markdown",
      "source": [
        "## Scoring from the command line\n"
      ],
      "metadata": {
        "id": "HNXNIOpQPO8w"
      }
    },
    {
      "cell_type": "code",
      "source": [
        "!ost compare-structures -m T1187/T1187TS447_1o_superposed.pdb -mf pdb -r T1187/T1187o.pdb --lddt --bb-lddt --qs-score --dockq --out my_out.json"
      ],
      "metadata": {
        "colab": {
          "base_uri": "https://localhost:8080/"
        },
        "id": "4XPwV3ieQhPB",
        "outputId": "35e11dba-f822-45a6-fb91-f6e328c83f31"
      },
      "execution_count": 7,
      "outputs": [
        {
          "output_type": "stream",
          "name": "stdout",
          "text": [
            "Cleaning up input structures\n",
            "Computing chain mapping\n",
            "Computing all-atom lDDT\n",
            "Computing backbone lDDT\n",
            "Computing global QS-score\n",
            "Computing per-interface QS-score\n",
            "Computing DockQ\n"
          ]
        }
      ]
    },
    {
      "cell_type": "markdown",
      "source": [
        "# Protein-ligand complex scoring"
      ],
      "metadata": {
        "id": "lLAvECm9CJb7"
      }
    },
    {
      "cell_type": "markdown",
      "source": [
        "## Data loading"
      ],
      "metadata": {
        "id": "PUHmiVqYCR_C"
      }
    },
    {
      "cell_type": "code",
      "source": [
        "!mkdir -p 9CE4/\n",
        "!wget https://raw.githubusercontent.com/xrobin/moving_beyond_memorisation/refs/heads/main/2_Scoring_with_OpenStructure_Data/pli_scoring/9CE4_A.pdb?token=GHSAT0AAAAAACXZFLBPGUJT75QK262ZMAHSZXNOKJQ -O 9CE4/9CE4_A.pdb\n",
        "!wget https://raw.githubusercontent.com/xrobin/moving_beyond_memorisation/refs/heads/main/2_Scoring_with_OpenStructure_Data/pli_scoring/9CE4_lig.sdf?token=GHSAT0AAAAAACXZFLBOJFQDOZJKFOJTM4J6ZXNOKBA -O 9CE4/9CE4_lig.sdf\n",
        "!wget https://raw.githubusercontent.com/xrobin/moving_beyond_memorisation/refs/heads/main/2_Scoring_with_OpenStructure_Data/pli_scoring/996_model1.pdb?token=GHSAT0AAAAAACXZFLBPHIDZP3GIB5RJ3AREZXNOI6Q -O 9CE4/996_model1.pdb\n",
        "!wget https://raw.githubusercontent.com/xrobin/moving_beyond_memorisation/refs/heads/main/2_Scoring_with_OpenStructure_Data/pli_scoring/996_model1_ligand1.sdf?token=GHSAT0AAAAAACXZFLBP5KJ36JXD7NOBDLPSZXNOKPQ -O 9CE4/996_model1_ligand1.sdf\n",
        "!ls 9CE4/"
      ],
      "metadata": {
        "colab": {
          "base_uri": "https://localhost:8080/"
        },
        "id": "8qPW-lEehHby",
        "outputId": "e7c2bcaf-a107-40c1-cb8a-e2e020383863"
      },
      "execution_count": 8,
      "outputs": [
        {
          "output_type": "stream",
          "name": "stdout",
          "text": [
            "--2024-09-23 10:03:15--  https://raw.githubusercontent.com/xrobin/moving_beyond_memorisation/refs/heads/main/2_Scoring_with_OpenStructure_Data/pli_scoring/9CE4_A.pdb?token=GHSAT0AAAAAACXZFLBPGUJT75QK262ZMAHSZXNOKJQ\n",
            "Resolving raw.githubusercontent.com (raw.githubusercontent.com)... 185.199.108.133, 185.199.109.133, 185.199.110.133, ...\n",
            "Connecting to raw.githubusercontent.com (raw.githubusercontent.com)|185.199.108.133|:443... connected.\n",
            "HTTP request sent, awaiting response... 200 OK\n",
            "Length: 172861 (169K) [text/plain]\n",
            "Saving to: ‘9CE4/9CE4_A.pdb’\n",
            "\n",
            "9CE4/9CE4_A.pdb     100%[===================>] 168.81K  --.-KB/s    in 0.03s   \n",
            "\n",
            "2024-09-23 10:03:15 (4.78 MB/s) - ‘9CE4/9CE4_A.pdb’ saved [172861/172861]\n",
            "\n",
            "--2024-09-23 10:03:15--  https://raw.githubusercontent.com/xrobin/moving_beyond_memorisation/refs/heads/main/2_Scoring_with_OpenStructure_Data/pli_scoring/9CE4_lig.sdf?token=GHSAT0AAAAAACXZFLBOJFQDOZJKFOJTM4J6ZXNOKBA\n",
            "Resolving raw.githubusercontent.com (raw.githubusercontent.com)... 185.199.108.133, 185.199.109.133, 185.199.110.133, ...\n",
            "Connecting to raw.githubusercontent.com (raw.githubusercontent.com)|185.199.108.133|:443... connected.\n",
            "HTTP request sent, awaiting response... 200 OK\n",
            "Length: 2032 (2.0K) [text/plain]\n",
            "Saving to: ‘9CE4/9CE4_lig.sdf’\n",
            "\n",
            "9CE4/9CE4_lig.sdf   100%[===================>]   1.98K  --.-KB/s    in 0s      \n",
            "\n",
            "2024-09-23 10:03:15 (21.9 MB/s) - ‘9CE4/9CE4_lig.sdf’ saved [2032/2032]\n",
            "\n",
            "--2024-09-23 10:03:15--  https://raw.githubusercontent.com/xrobin/moving_beyond_memorisation/refs/heads/main/2_Scoring_with_OpenStructure_Data/pli_scoring/996_model1.pdb?token=GHSAT0AAAAAACXZFLBPHIDZP3GIB5RJ3AREZXNOI6Q\n",
            "Resolving raw.githubusercontent.com (raw.githubusercontent.com)... 185.199.109.133, 185.199.111.133, 185.199.108.133, ...\n",
            "Connecting to raw.githubusercontent.com (raw.githubusercontent.com)|185.199.109.133|:443... connected.\n",
            "HTTP request sent, awaiting response... 200 OK\n",
            "Length: 176425 (172K) [text/plain]\n",
            "Saving to: ‘9CE4/996_model1.pdb’\n",
            "\n",
            "9CE4/996_model1.pdb 100%[===================>] 172.29K  --.-KB/s    in 0.03s   \n",
            "\n",
            "2024-09-23 10:03:16 (5.25 MB/s) - ‘9CE4/996_model1.pdb’ saved [176425/176425]\n",
            "\n",
            "--2024-09-23 10:03:16--  https://raw.githubusercontent.com/xrobin/moving_beyond_memorisation/refs/heads/main/2_Scoring_with_OpenStructure_Data/pli_scoring/996_model1_ligand1.sdf?token=GHSAT0AAAAAACXZFLBP5KJ36JXD7NOBDLPSZXNOKPQ\n",
            "Resolving raw.githubusercontent.com (raw.githubusercontent.com)... 185.199.110.133, 185.199.108.133, 185.199.109.133, ...\n",
            "Connecting to raw.githubusercontent.com (raw.githubusercontent.com)|185.199.110.133|:443... connected.\n",
            "HTTP request sent, awaiting response... 200 OK\n",
            "Length: 3542 (3.5K) [text/plain]\n",
            "Saving to: ‘9CE4/996_model1_ligand1.sdf’\n",
            "\n",
            "9CE4/996_model1_lig 100%[===================>]   3.46K  --.-KB/s    in 0s      \n",
            "\n",
            "2024-09-23 10:03:16 (35.2 MB/s) - ‘9CE4/996_model1_ligand1.sdf’ saved [3542/3542]\n",
            "\n",
            "996_model1_ligand1.sdf\t996_model1.pdb\t9CE4_A.pdb  9CE4_lig.sdf\n"
          ]
        }
      ]
    },
    {
      "cell_type": "code",
      "source": [
        "!ls -l 9CE4/"
      ],
      "metadata": {
        "colab": {
          "base_uri": "https://localhost:8080/"
        },
        "id": "-PQhOQURAnbW",
        "outputId": "2d81949d-1e46-4b00-b132-e5aa731131a8"
      },
      "execution_count": 9,
      "outputs": [
        {
          "output_type": "stream",
          "name": "stdout",
          "text": [
            "total 356\n",
            "-rw-r--r-- 1 root root   3542 Sep 23 10:03 996_model1_ligand1.sdf\n",
            "-rw-r--r-- 1 root root 176425 Sep 23 10:03 996_model1.pdb\n",
            "-rw-r--r-- 1 root root 172861 Sep 23 10:03 9CE4_A.pdb\n",
            "-rw-r--r-- 1 root root   2032 Sep 23 10:03 9CE4_lig.sdf\n"
          ]
        }
      ]
    },
    {
      "cell_type": "code",
      "source": [
        "from ost import io\n",
        "# Target\n",
        "target_structure = io.LoadPDB(\"9CE4/9CE4_A.pdb\")\n",
        "target_ligand = io.LoadSDF(\"9CE4/9CE4_lig.sdf\")\n",
        "# Model\n",
        "model_structure = io.LoadPDB(\"9CE4/996_model1.pdb\")\n",
        "model_ligand = io.LoadSDF(\"9CE4/996_model1_ligand1.sdf\")\n"
      ],
      "metadata": {
        "id": "dzM2VEJEGN60"
      },
      "execution_count": 10,
      "outputs": []
    },
    {
      "cell_type": "markdown",
      "source": [
        "## Data cleanup\n",
        "\n"
      ],
      "metadata": {
        "id": "xKI7YNt2CXfH"
      }
    },
    {
      "cell_type": "markdown",
      "source": [
        "For ligand scoring in Python, structures must be cleaned up hydrogen atoms removed before executing the scorer. Protein structures are cleaned with Molck (the Molecular checker), and ligands with a simple selection."
      ],
      "metadata": {
        "id": "shaxW_NqD_Vt"
      }
    },
    {
      "cell_type": "code",
      "source": [
        "# Cleanup a copy of the protein structures\n",
        "from ost import conop\n",
        "from ost.mol.alg import Molck, MolckSettings\n",
        "cleaned_model_structure = model_structure.Copy()\n",
        "cleaned_target_structure = target_structure.Copy()\n",
        "molck_settings = MolckSettings(rm_unk_atoms=True,  # Remove unknown atoms\n",
        "                               rm_non_std=False,  # Keep non standard residues\n",
        "                               rm_hyd_atoms=True,  # Remove Hydrogens\n",
        "                               rm_oxt_atoms=False,  # Keep terminal oxygens\n",
        "                               rm_zero_occ_atoms=False,  # Keep atoms with 0 occupancy\n",
        "                               colored=False,\n",
        "                               map_nonstd_res=False,\n",
        "                               assign_elem=True)\n",
        "Molck(cleaned_model_structure, conop.GetDefaultLib(), molck_settings)\n",
        "Molck(cleaned_target_structure, conop.GetDefaultLib(), molck_settings)"
      ],
      "metadata": {
        "id": "YxmbEtoRnQGf"
      },
      "execution_count": 11,
      "outputs": []
    },
    {
      "cell_type": "code",
      "source": [
        "# Cleanup the ligands\n",
        "# Remove hydrogens\n",
        "cleaned_model_ligand = model_ligand.Select(\"ele != H and ele != D\")\n",
        "cleaned_target_ligand = target_ligand.Select(\"ele != H and ele != D\")\n"
      ],
      "metadata": {
        "id": "Kf3JUZS8ne2w"
      },
      "execution_count": 12,
      "outputs": []
    },
    {
      "cell_type": "code",
      "source": [
        "from ost.mol.alg.ligand_scoring import LDDTPLIScorer, SCRMSDScorer\n",
        "\n",
        "help(LDDTPLIScorer)\n",
        "help(SCRMSDScorer)"
      ],
      "metadata": {
        "id": "tZL-Xsx3AczX",
        "colab": {
          "base_uri": "https://localhost:8080/"
        },
        "outputId": "537a779e-296d-401c-e692-aa3931aae175"
      },
      "execution_count": 13,
      "outputs": [
        {
          "output_type": "stream",
          "name": "stdout",
          "text": [
            "Help on class LDDTPLIScorer in module ost.mol.alg.ligand_scoring_lddtpli:\n",
            "\n",
            "class LDDTPLIScorer(ost.mol.alg.ligand_scoring_base.LigandScorer)\n",
            " |  LDDTPLIScorer(model, target, model_ligands=None, target_ligands=None, resnum_alignments=False, rename_ligand_chain=False, substructure_match=False, coverage_delta=0.2, max_symmetries=100000.0, lddt_pli_radius=6.0, add_mdl_contacts=False, lddt_pli_thresholds=[0.5, 1.0, 2.0, 4.0], lddt_pli_binding_site_radius=None)\n",
            " |  \n",
            " |  :class:`LigandScorer` implementing lDDT-PLI.\n",
            " |  \n",
            " |  lDDT-PLI is an lDDT score considering contacts between ligand and\n",
            " |  receptor. Where receptor consists of protein and nucleic acid chains that\n",
            " |  pass the criteria for :class:`chain mapping <ost.mol.alg.chain_mapping>`.\n",
            " |  This means ignoring other ligands, waters, short polymers as well as any\n",
            " |  incorrectly connected chains that may be in proximity.\n",
            " |  \n",
            " |  :class:`LDDTPLIScorer` computes a score for a specific pair of target/model\n",
            " |  ligands. Given a target/model ligand pair, all possible mappings of\n",
            " |  model chains onto their chemically equivalent target chains are enumerated.\n",
            " |  For each of these enumerations, all possible symmetries, i.e. atom-atom\n",
            " |  assignments of the ligand as given by :class:`LigandScorer`, are evaluated\n",
            " |  and an lDDT-PLI score is computed. The best possible lDDT-PLI score is\n",
            " |  returned.\n",
            " |  \n",
            " |  By default, classic lDDT is computed. That means, contacts within\n",
            " |  *lddt_pli_radius* are identified in the target and checked if they're\n",
            " |  conserved in the model. Added contacts are not penalized. That means if\n",
            " |  the ligand is nicely placed in the correct pocket, but that pocket now\n",
            " |  suddenly interacts with MORE residues in the model, you still get a high\n",
            " |  score. You can penalize for these added contacts with the\n",
            " |  *add_mdl_contacts* flag. This additionally considers contacts within\n",
            " |  *lddt_pli_radius* in the model but only if the involved atoms can\n",
            " |  be mapped to the target. This is a requirement to 1) extract the respective\n",
            " |  reference distance from the target 2) avoid usage of contacts for which\n",
            " |  we have no experimental evidence. One special case are\n",
            " |  contacts from chains that are NOT mapped to the target binding site. It is\n",
            " |  very well possible that we have experimental evidence for this chain though\n",
            " |  its just too far away from the target binding site.\n",
            " |  We therefore try to map these contacts to the chain in the target with\n",
            " |  equivalent sequence that is closest to the target binding site. If the\n",
            " |  respective atoms can be mapped there, the contact is considered not\n",
            " |  fulfilled and added as penalty.\n",
            " |  \n",
            " |  Populates :attr:`LigandScorer.aux_data` with following :class:`dict` keys:\n",
            " |  \n",
            " |  * lddt_pli: The score\n",
            " |  * lddt_pli_n_contacts: Number of contacts considered in lDDT computation\n",
            " |  * target_ligand: The actual target ligand for which the score was computed\n",
            " |  * model_ligand: The actual model ligand for which the score was computed\n",
            " |  * bs_ref_res: :class:`set` of residues with potentially non-zero\n",
            " |    contribution to score. That is every residue with at least one\n",
            " |    atom within *lddt_pli_radius* + max(*lddt_pli_thresholds*) of\n",
            " |    the ligand.\n",
            " |  * bs_mdl_res: Same for model\n",
            " |  \n",
            " |  :param model: Passed to parent constructor - see :class:`LigandScorer`.\n",
            " |  :type model: :class:`ost.mol.EntityHandle`/:class:`ost.mol.EntityView`\n",
            " |  :param target: Passed to parent constructor - see :class:`LigandScorer`.\n",
            " |  :type target: :class:`ost.mol.EntityHandle`/:class:`ost.mol.EntityView`\n",
            " |  :param model_ligands: Passed to parent constructor - see\n",
            " |                        :class:`LigandScorer`.\n",
            " |  :type model_ligands: :class:`list`\n",
            " |  :param target_ligands: Passed to parent constructor - see\n",
            " |                         :class:`LigandScorer`.\n",
            " |  :type target_ligands: :class:`list`\n",
            " |  :param resnum_alignments: Passed to parent constructor - see\n",
            " |                            :class:`LigandScorer`.\n",
            " |  :type resnum_alignments: :class:`bool`\n",
            " |  :param rename_ligand_chain: Passed to parent constructor - see\n",
            " |                              :class:`LigandScorer`.\n",
            " |  :type rename_ligand_chain: :class:`bool`\n",
            " |  :param substructure_match: Passed to parent constructor - see\n",
            " |                             :class:`LigandScorer`.\n",
            " |  :type substructure_match: :class:`bool`\n",
            " |  :param coverage_delta: Passed to parent constructor - see\n",
            " |                         :class:`LigandScorer`.\n",
            " |  :type coverage_delta: :class:`float`\n",
            " |  :param max_symmetries: Passed to parent constructor - see\n",
            " |                         :class:`LigandScorer`.\n",
            " |  :type max_symmetries: :class:`int`\n",
            " |  :param lddt_pli_radius: lDDT inclusion radius for lDDT-PLI.\n",
            " |  :type lddt_pli_radius: :class:`float`\n",
            " |  :param add_mdl_contacts: Whether to add mdl contacts.\n",
            " |  :type add_mdl_contacts: :class:`bool`\n",
            " |  :param lddt_pli_thresholds: Distance difference thresholds for lDDT.\n",
            " |  :type lddt_pli_thresholds: :class:`list` of :class:`float`\n",
            " |  :param lddt_pli_binding_site_radius: Pro param - dont use. Providing a value\n",
            " |                                       Restores behaviour from previous\n",
            " |                                       implementation that first extracted a\n",
            " |                                       binding site with strict distance\n",
            " |                                       threshold and computed lDDT-PLI only on\n",
            " |                                       those target residues whereas the\n",
            " |                                       current implementation includes every\n",
            " |                                       atom within *lddt_pli_radius*.\n",
            " |  :type lddt_pli_binding_site_radius: :class:`float`\n",
            " |  \n",
            " |  Method resolution order:\n",
            " |      LDDTPLIScorer\n",
            " |      ost.mol.alg.ligand_scoring_base.LigandScorer\n",
            " |      builtins.object\n",
            " |  \n",
            " |  Methods defined here:\n",
            " |  \n",
            " |  __init__(self, model, target, model_ligands=None, target_ligands=None, resnum_alignments=False, rename_ligand_chain=False, substructure_match=False, coverage_delta=0.2, max_symmetries=100000.0, lddt_pli_radius=6.0, add_mdl_contacts=False, lddt_pli_thresholds=[0.5, 1.0, 2.0, 4.0], lddt_pli_binding_site_radius=None)\n",
            " |      Initialize self.  See help(type(self)) for accurate signature.\n",
            " |  \n",
            " |  ----------------------------------------------------------------------\n",
            " |  Methods inherited from ost.mol.alg.ligand_scoring_base.LigandScorer:\n",
            " |  \n",
            " |  get_model_ligand_state_report(self, mdl_lig_idx)\n",
            " |      Get summary of states observed with respect to all target ligands\n",
            " |      \n",
            " |      Mainly for debug purposes \n",
            " |      \n",
            " |      :param mdl_lig_idx: Index of model ligand for which report should be\n",
            " |                          generated\n",
            " |      :type mdl_lig_idx: :class:`int`\n",
            " |  \n",
            " |  get_target_ligand_state_report(self, trg_lig_idx)\n",
            " |      Get summary of states observed with respect to all model ligands\n",
            " |      \n",
            " |      Mainly for debug purposes \n",
            " |      \n",
            " |      :param trg_lig_idx: Index of target ligand for which report should be\n",
            " |                          generated\n",
            " |      :type trg_lig_idx: :class:`int`\n",
            " |  \n",
            " |  guess_model_ligand_unassigned_reason(self, mdl_lig_idx)\n",
            " |      Makes an educated guess why model ligand is not assigned\n",
            " |      \n",
            " |      This either returns actual error states or custom states that are\n",
            " |      derived from them.\n",
            " |      \n",
            " |      :param mdl_lig_idx: Index of model ligand\n",
            " |      :type mdl_lig_idx: :class:`int`\n",
            " |      :returns: :class:`tuple` with two elements: 1) keyword 2) human readable\n",
            " |                sentence describing the issue, (\"unknown\",\"unknown\") if\n",
            " |                nothing obvious can be found.\n",
            " |      :raises: :class:`RuntimeError` if specified model ligand is assigned\n",
            " |  \n",
            " |  guess_target_ligand_unassigned_reason(self, trg_lig_idx)\n",
            " |      Makes an educated guess why target ligand is not assigned\n",
            " |      \n",
            " |      This either returns actual error states or custom states that are\n",
            " |      derived from them.\n",
            " |      \n",
            " |      :param trg_lig_idx: Index of target ligand\n",
            " |      :type trg_lig_idx: :class:`int`\n",
            " |      :returns: :class:`tuple` with two elements: 1) keyword 2) human readable\n",
            " |                sentence describing the issue, (\"unknown\",\"unknown\") if\n",
            " |                nothing obvious can be found.\n",
            " |      :raises: :class:`RuntimeError` if specified target ligand is assigned\n",
            " |  \n",
            " |  ----------------------------------------------------------------------\n",
            " |  Readonly properties inherited from ost.mol.alg.ligand_scoring_base.LigandScorer:\n",
            " |  \n",
            " |  assignment\n",
            " |      Ligand assignment based on computed scores\n",
            " |      \n",
            " |      Implements a greedy algorithm to assign target and model ligands\n",
            " |      with each other. Starts from each valid ligand pair as indicated\n",
            " |      by a state of 0 in :attr:`state_matrix`. Each iteration first selects\n",
            " |      high coverage pairs. Given max_coverage defined as the highest\n",
            " |      coverage observed in the available pairs, all pairs with coverage\n",
            " |      in [max_coverage-*coverage_delta*, max_coverage] are selected.\n",
            " |      The best scoring pair among those is added to the assignment\n",
            " |      and the whole process is repeated until there are no ligands to\n",
            " |      assign anymore.\n",
            " |      \n",
            " |      :rtype: :class:`list` of :class:`tuple` (trg_lig_idx, mdl_lig_idx)\n",
            " |  \n",
            " |  aux\n",
            " |      Get a dictionary of score details, keyed by model ligand\n",
            " |      \n",
            " |      Extract dict with something like:\n",
            " |      ``scorer.score[lig.GetChain().GetName()][lig.GetNumber()]``.\n",
            " |      The returned info dicts are based on :attr:`~assignment`. The content is\n",
            " |      documented in the respective child class.\n",
            " |      \n",
            " |      :rtype: :class:`dict`\n",
            " |  \n",
            " |  aux_matrix\n",
            " |      Get the matrix of scorer specific auxiliary data.\n",
            " |      \n",
            " |      Target ligands are in rows, model ligands in columns.\n",
            " |      \n",
            " |      Auxiliary data consists of arbitrary data dicts which allow a child\n",
            " |      class to provide additional information for a scored ligand pair.\n",
            " |      empty dictionaries indicate that the child class simply didn't return\n",
            " |      anything or that no value could be computed (e.g. different ligands).\n",
            " |      In other words: values are only valid if respective location in the\n",
            " |      :attr:`~state_matrix` is 0.\n",
            " |      \n",
            " |      :rtype: :class:`~numpy.ndarray`\n",
            " |  \n",
            " |  coverage_matrix\n",
            " |      Get the matrix of model ligand atom coverage in the target.\n",
            " |      \n",
            " |      Target ligands are in rows, model ligands in columns.\n",
            " |      \n",
            " |      NaN values indicate that no value could be computed (i.e. different\n",
            " |      ligands). In other words: values are only valid if the respective\n",
            " |      location in :attr:`~state_matrix` is 0. If `substructure_match=False`,\n",
            " |      only full match isomorphisms are considered, and therefore only values\n",
            " |      of 1.0 can be observed.\n",
            " |      \n",
            " |      :rtype: :class:`~numpy.ndarray`\n",
            " |  \n",
            " |  model_ligand_states\n",
            " |      Encodes states of model ligands\n",
            " |      \n",
            " |      Non-zero state in any of the model ligands invalidates the full\n",
            " |      respective column in :attr:`~state_matrix`.\n",
            " |      \n",
            " |      :rtype: :class:`~numpy.ndarray`\n",
            " |  \n",
            " |  score\n",
            " |      Get a dictionary of score values, keyed by model ligand\n",
            " |      \n",
            " |      Extract score with something like:\n",
            " |      ``scorer.score[lig.GetChain().GetName()][lig.GetNumber()]``.\n",
            " |      The returned scores are based on :attr:`~assignment`.\n",
            " |      \n",
            " |      :rtype: :class:`dict`\n",
            " |  \n",
            " |  score_matrix\n",
            " |      Get the matrix of scores.\n",
            " |      \n",
            " |      Target ligands are in rows, model ligands in columns.\n",
            " |      \n",
            " |      NaN values indicate that no value could be computed (i.e. different\n",
            " |      ligands). In other words: values are only valid if the respective\n",
            " |      location in :attr:`~state_matrix` is 0. \n",
            " |      \n",
            " |      :rtype: :class:`~numpy.ndarray`\n",
            " |  \n",
            " |  state_matrix\n",
            " |      Encodes states of ligand pairs\n",
            " |      \n",
            " |      Ligand pairs can be matched and a valid score can be expected if\n",
            " |      respective location in this matrix is 0.\n",
            " |      Target ligands are in rows, model ligands in columns. States are encoded\n",
            " |      as integers <= 9. Larger numbers encode errors for child classes.\n",
            " |      Use something like ``self.state_decoding[3]`` to get a decscription.       \n",
            " |      \n",
            " |      :rtype: :class:`~numpy.ndarray`\n",
            " |  \n",
            " |  target_ligand_states\n",
            " |      Encodes states of target ligands\n",
            " |      \n",
            " |      Non-zero state in any of the target ligands invalidates the full\n",
            " |      respective row in :attr:`~state_matrix`.\n",
            " |      \n",
            " |      :rtype: :class:`~numpy.ndarray`\n",
            " |  \n",
            " |  unassigned_model_ligands\n",
            " |      Get indices of model ligands which are not assigned \n",
            " |      \n",
            " |      :rtype: :class:`list` of :class:`int`\n",
            " |  \n",
            " |  unassigned_model_ligands_reasons\n",
            " |  \n",
            " |  unassigned_target_ligands\n",
            " |      Get indices of target ligands which are not assigned \n",
            " |      \n",
            " |      :rtype: :class:`list` of :class:`int`\n",
            " |  \n",
            " |  unassigned_target_ligands_reasons\n",
            " |  \n",
            " |  ----------------------------------------------------------------------\n",
            " |  Data descriptors inherited from ost.mol.alg.ligand_scoring_base.LigandScorer:\n",
            " |  \n",
            " |  __dict__\n",
            " |      dictionary for instance variables (if defined)\n",
            " |  \n",
            " |  __weakref__\n",
            " |      list of weak references to the object (if defined)\n",
            "\n",
            "Help on class SCRMSDScorer in module ost.mol.alg.ligand_scoring_scrmsd:\n",
            "\n",
            "class SCRMSDScorer(ost.mol.alg.ligand_scoring_base.LigandScorer)\n",
            " |  SCRMSDScorer(model, target, model_ligands=None, target_ligands=None, resnum_alignments=False, rename_ligand_chain=False, substructure_match=False, coverage_delta=0.2, max_symmetries=100000.0, bs_radius=4.0, lddt_lp_radius=15.0, model_bs_radius=25, binding_sites_topn=100000, full_bs_search=False)\n",
            " |  \n",
            " |  :class:`LigandScorer` implementing symmetry corrected RMSD.\n",
            " |  \n",
            " |  :class:`SCRMSDScorer` computes a score for a specific pair of target/model\n",
            " |  ligands.\n",
            " |  \n",
            " |  The returned RMSD is based on a binding site superposition.\n",
            " |  The binding site of the target structure is defined as all residues with at\n",
            " |  least one atom within *bs_radius* around the target ligand.\n",
            " |  It only contains protein and nucleic acid residues from chains that\n",
            " |  pass the criteria for the\n",
            " |  :class:`chain mapping <ost.mol.alg.chain_mapping>`. This means ignoring\n",
            " |  other ligands, waters, short polymers as well as any incorrectly connected\n",
            " |  chains that may be in proximity.\n",
            " |  The respective model binding site for superposition is identified by\n",
            " |  naively enumerating all possible mappings of model chains onto their\n",
            " |  chemically equivalent target counterparts from the target binding site.\n",
            " |  The *binding_sites_topn* with respect to lDDT score are evaluated and \n",
            " |  an RMSD is computed.\n",
            " |  You can either try to map ALL model chains onto the target binding site by\n",
            " |  enabling *full_bs_search* or restrict the model chains for a specific\n",
            " |  target/model ligand pair to the chains with at least one atom within\n",
            " |  *model_bs_radius* around the model ligand. The latter can be significantly\n",
            " |  faster in case of large complexes.\n",
            " |  Symmetry correction is achieved by simply computing an RMSD value for\n",
            " |  each symmetry, i.e. atom-atom assignments of the ligand as given by\n",
            " |  :class:`LigandScorer`. The lowest RMSD value is returned\n",
            " |  \n",
            " |  Populates :attr:`LigandScorer.aux_data` with following :class:`dict` keys:\n",
            " |  \n",
            " |  * rmsd: The score\n",
            " |  * lddt_lp: lDDT of the binding site used for superposition\n",
            " |  * bs_ref_res: :class:`list` of binding site residues in target\n",
            " |  * bs_ref_res_mapped: :class:`list` of target binding site residues that\n",
            " |    are mapped to model\n",
            " |  * bs_mdl_res_mapped: :class:`list` of same length with respective model\n",
            " |    residues\n",
            " |  * bb_rmsd: Backbone RMSD (CA, C3' for nucleotides) for mapped residues\n",
            " |    given transform\n",
            " |  * target_ligand: The actual target ligand for which the score was computed\n",
            " |  * model_ligand: The actual model ligand for which the score was computed\n",
            " |  * chain_mapping: :class:`dict` with a chain mapping of chains involved in\n",
            " |    binding site - key: trg chain name, value: mdl chain name\n",
            " |  * transform: :class:`geom.Mat4` to transform model binding site onto target\n",
            " |    binding site\n",
            " |  * inconsistent_residues: :class:`list` of :class:`tuple` representing\n",
            " |    residues with inconsistent residue names upon mapping (which is given by\n",
            " |    bs_ref_res_mapped and bs_mdl_res_mapped). Tuples have two elements:\n",
            " |    1) trg residue 2) mdl residue\n",
            " |  \n",
            " |  :param model: Passed to parent constructor - see :class:`LigandScorer`.\n",
            " |  :type model: :class:`ost.mol.EntityHandle`/:class:`ost.mol.EntityView`\n",
            " |  :param target: Passed to parent constructor - see :class:`LigandScorer`.\n",
            " |  :type target: :class:`ost.mol.EntityHandle`/:class:`ost.mol.EntityView`\n",
            " |  :param model_ligands: Passed to parent constructor - see\n",
            " |                        :class:`LigandScorer`.\n",
            " |  :type model_ligands: :class:`list`\n",
            " |  :param target_ligands: Passed to parent constructor - see\n",
            " |                         :class:`LigandScorer`.\n",
            " |  :type target_ligands: :class:`list`\n",
            " |  :param resnum_alignments: Passed to parent constructor - see\n",
            " |                            :class:`LigandScorer`.\n",
            " |  :type resnum_alignments: :class:`bool`\n",
            " |  :param rename_ligand_chain: Passed to parent constructor - see\n",
            " |                              :class:`LigandScorer`.\n",
            " |  :type rename_ligand_chain: :class:`bool`\n",
            " |  :param substructure_match: Passed to parent constructor - see\n",
            " |                             :class:`LigandScorer`.\n",
            " |  :type substructure_match: :class:`bool`\n",
            " |  :param coverage_delta: Passed to parent constructor - see\n",
            " |                         :class:`LigandScorer`.\n",
            " |  :type coverage_delta: :class:`float`\n",
            " |  :param max_symmetries: Passed to parent constructor - see\n",
            " |                         :class:`LigandScorer`.\n",
            " |  :type max_symmetries: :class:`int`\n",
            " |  :param bs_radius: Inclusion radius for the binding site. Residues with\n",
            " |                 atoms within this distance of the ligand will be considered\n",
            " |                 for inclusion in the binding site.\n",
            " |  :type bs_radius: :class:`float`\n",
            " |  :param lddt_lp_radius: lDDT inclusion radius for lDDT-LP.\n",
            " |  :type lddt_lp_radius: :class:`float`\n",
            " |  :param model_bs_radius: inclusion radius for model binding sites.\n",
            " |                          Only used when full_bs_search=False, otherwise the\n",
            " |                          radius is effectively infinite. Only chains with\n",
            " |                          atoms within this distance of a model ligand will\n",
            " |                          be considered in the chain mapping.\n",
            " |  :type model_bs_radius: :class:`float`\n",
            " |  :param binding_sites_topn: maximum number of model binding site\n",
            " |                             representations to assess per target binding\n",
            " |                             site.\n",
            " |  :type binding_sites_topn: :class:`int`\n",
            " |  :param full_bs_search: If True, all potential binding sites in the model\n",
            " |                         are searched for each target binding site. If False,\n",
            " |                         the search space in the model is reduced to chains\n",
            " |                         around (`model_bs_radius` Å) model ligands.\n",
            " |                         This speeds up computations, but may result in\n",
            " |                         ligands not being scored if the predicted ligand\n",
            " |                         pose is too far from the actual binding site.\n",
            " |  :type full_bs_search: :class:`bool`\n",
            " |  \n",
            " |  Method resolution order:\n",
            " |      SCRMSDScorer\n",
            " |      ost.mol.alg.ligand_scoring_base.LigandScorer\n",
            " |      builtins.object\n",
            " |  \n",
            " |  Methods defined here:\n",
            " |  \n",
            " |  __init__(self, model, target, model_ligands=None, target_ligands=None, resnum_alignments=False, rename_ligand_chain=False, substructure_match=False, coverage_delta=0.2, max_symmetries=100000.0, bs_radius=4.0, lddt_lp_radius=15.0, model_bs_radius=25, binding_sites_topn=100000, full_bs_search=False)\n",
            " |      Initialize self.  See help(type(self)) for accurate signature.\n",
            " |  \n",
            " |  ----------------------------------------------------------------------\n",
            " |  Methods inherited from ost.mol.alg.ligand_scoring_base.LigandScorer:\n",
            " |  \n",
            " |  get_model_ligand_state_report(self, mdl_lig_idx)\n",
            " |      Get summary of states observed with respect to all target ligands\n",
            " |      \n",
            " |      Mainly for debug purposes \n",
            " |      \n",
            " |      :param mdl_lig_idx: Index of model ligand for which report should be\n",
            " |                          generated\n",
            " |      :type mdl_lig_idx: :class:`int`\n",
            " |  \n",
            " |  get_target_ligand_state_report(self, trg_lig_idx)\n",
            " |      Get summary of states observed with respect to all model ligands\n",
            " |      \n",
            " |      Mainly for debug purposes \n",
            " |      \n",
            " |      :param trg_lig_idx: Index of target ligand for which report should be\n",
            " |                          generated\n",
            " |      :type trg_lig_idx: :class:`int`\n",
            " |  \n",
            " |  guess_model_ligand_unassigned_reason(self, mdl_lig_idx)\n",
            " |      Makes an educated guess why model ligand is not assigned\n",
            " |      \n",
            " |      This either returns actual error states or custom states that are\n",
            " |      derived from them.\n",
            " |      \n",
            " |      :param mdl_lig_idx: Index of model ligand\n",
            " |      :type mdl_lig_idx: :class:`int`\n",
            " |      :returns: :class:`tuple` with two elements: 1) keyword 2) human readable\n",
            " |                sentence describing the issue, (\"unknown\",\"unknown\") if\n",
            " |                nothing obvious can be found.\n",
            " |      :raises: :class:`RuntimeError` if specified model ligand is assigned\n",
            " |  \n",
            " |  guess_target_ligand_unassigned_reason(self, trg_lig_idx)\n",
            " |      Makes an educated guess why target ligand is not assigned\n",
            " |      \n",
            " |      This either returns actual error states or custom states that are\n",
            " |      derived from them.\n",
            " |      \n",
            " |      :param trg_lig_idx: Index of target ligand\n",
            " |      :type trg_lig_idx: :class:`int`\n",
            " |      :returns: :class:`tuple` with two elements: 1) keyword 2) human readable\n",
            " |                sentence describing the issue, (\"unknown\",\"unknown\") if\n",
            " |                nothing obvious can be found.\n",
            " |      :raises: :class:`RuntimeError` if specified target ligand is assigned\n",
            " |  \n",
            " |  ----------------------------------------------------------------------\n",
            " |  Readonly properties inherited from ost.mol.alg.ligand_scoring_base.LigandScorer:\n",
            " |  \n",
            " |  assignment\n",
            " |      Ligand assignment based on computed scores\n",
            " |      \n",
            " |      Implements a greedy algorithm to assign target and model ligands\n",
            " |      with each other. Starts from each valid ligand pair as indicated\n",
            " |      by a state of 0 in :attr:`state_matrix`. Each iteration first selects\n",
            " |      high coverage pairs. Given max_coverage defined as the highest\n",
            " |      coverage observed in the available pairs, all pairs with coverage\n",
            " |      in [max_coverage-*coverage_delta*, max_coverage] are selected.\n",
            " |      The best scoring pair among those is added to the assignment\n",
            " |      and the whole process is repeated until there are no ligands to\n",
            " |      assign anymore.\n",
            " |      \n",
            " |      :rtype: :class:`list` of :class:`tuple` (trg_lig_idx, mdl_lig_idx)\n",
            " |  \n",
            " |  aux\n",
            " |      Get a dictionary of score details, keyed by model ligand\n",
            " |      \n",
            " |      Extract dict with something like:\n",
            " |      ``scorer.score[lig.GetChain().GetName()][lig.GetNumber()]``.\n",
            " |      The returned info dicts are based on :attr:`~assignment`. The content is\n",
            " |      documented in the respective child class.\n",
            " |      \n",
            " |      :rtype: :class:`dict`\n",
            " |  \n",
            " |  aux_matrix\n",
            " |      Get the matrix of scorer specific auxiliary data.\n",
            " |      \n",
            " |      Target ligands are in rows, model ligands in columns.\n",
            " |      \n",
            " |      Auxiliary data consists of arbitrary data dicts which allow a child\n",
            " |      class to provide additional information for a scored ligand pair.\n",
            " |      empty dictionaries indicate that the child class simply didn't return\n",
            " |      anything or that no value could be computed (e.g. different ligands).\n",
            " |      In other words: values are only valid if respective location in the\n",
            " |      :attr:`~state_matrix` is 0.\n",
            " |      \n",
            " |      :rtype: :class:`~numpy.ndarray`\n",
            " |  \n",
            " |  coverage_matrix\n",
            " |      Get the matrix of model ligand atom coverage in the target.\n",
            " |      \n",
            " |      Target ligands are in rows, model ligands in columns.\n",
            " |      \n",
            " |      NaN values indicate that no value could be computed (i.e. different\n",
            " |      ligands). In other words: values are only valid if the respective\n",
            " |      location in :attr:`~state_matrix` is 0. If `substructure_match=False`,\n",
            " |      only full match isomorphisms are considered, and therefore only values\n",
            " |      of 1.0 can be observed.\n",
            " |      \n",
            " |      :rtype: :class:`~numpy.ndarray`\n",
            " |  \n",
            " |  model_ligand_states\n",
            " |      Encodes states of model ligands\n",
            " |      \n",
            " |      Non-zero state in any of the model ligands invalidates the full\n",
            " |      respective column in :attr:`~state_matrix`.\n",
            " |      \n",
            " |      :rtype: :class:`~numpy.ndarray`\n",
            " |  \n",
            " |  score\n",
            " |      Get a dictionary of score values, keyed by model ligand\n",
            " |      \n",
            " |      Extract score with something like:\n",
            " |      ``scorer.score[lig.GetChain().GetName()][lig.GetNumber()]``.\n",
            " |      The returned scores are based on :attr:`~assignment`.\n",
            " |      \n",
            " |      :rtype: :class:`dict`\n",
            " |  \n",
            " |  score_matrix\n",
            " |      Get the matrix of scores.\n",
            " |      \n",
            " |      Target ligands are in rows, model ligands in columns.\n",
            " |      \n",
            " |      NaN values indicate that no value could be computed (i.e. different\n",
            " |      ligands). In other words: values are only valid if the respective\n",
            " |      location in :attr:`~state_matrix` is 0. \n",
            " |      \n",
            " |      :rtype: :class:`~numpy.ndarray`\n",
            " |  \n",
            " |  state_matrix\n",
            " |      Encodes states of ligand pairs\n",
            " |      \n",
            " |      Ligand pairs can be matched and a valid score can be expected if\n",
            " |      respective location in this matrix is 0.\n",
            " |      Target ligands are in rows, model ligands in columns. States are encoded\n",
            " |      as integers <= 9. Larger numbers encode errors for child classes.\n",
            " |      Use something like ``self.state_decoding[3]`` to get a decscription.       \n",
            " |      \n",
            " |      :rtype: :class:`~numpy.ndarray`\n",
            " |  \n",
            " |  target_ligand_states\n",
            " |      Encodes states of target ligands\n",
            " |      \n",
            " |      Non-zero state in any of the target ligands invalidates the full\n",
            " |      respective row in :attr:`~state_matrix`.\n",
            " |      \n",
            " |      :rtype: :class:`~numpy.ndarray`\n",
            " |  \n",
            " |  unassigned_model_ligands\n",
            " |      Get indices of model ligands which are not assigned \n",
            " |      \n",
            " |      :rtype: :class:`list` of :class:`int`\n",
            " |  \n",
            " |  unassigned_model_ligands_reasons\n",
            " |  \n",
            " |  unassigned_target_ligands\n",
            " |      Get indices of target ligands which are not assigned \n",
            " |      \n",
            " |      :rtype: :class:`list` of :class:`int`\n",
            " |  \n",
            " |  unassigned_target_ligands_reasons\n",
            " |  \n",
            " |  ----------------------------------------------------------------------\n",
            " |  Data descriptors inherited from ost.mol.alg.ligand_scoring_base.LigandScorer:\n",
            " |  \n",
            " |  __dict__\n",
            " |      dictionary for instance variables (if defined)\n",
            " |  \n",
            " |  __weakref__\n",
            " |      list of weak references to the object (if defined)\n",
            "\n"
          ]
        }
      ]
    },
    {
      "cell_type": "markdown",
      "source": [
        "## Scoring with Python interactively"
      ],
      "metadata": {
        "id": "8JAWbIo_O2gv"
      }
    },
    {
      "cell_type": "code",
      "source": [
        "# Score with LDDT-PLI\n",
        "scorer = LDDTPLIScorer(\n",
        "    target = cleaned_target_structure,\n",
        "    target_ligands = [cleaned_target_ligand],\n",
        "    model = cleaned_model_structure,\n",
        "    model_ligands = [cleaned_model_ligand],\n",
        "    # Extra arguments\n",
        "    resnum_alignments=True,\n",
        "    )\n",
        "chain_name = cleaned_model_ligand.chains[0].name\n",
        "residue_number = cleaned_model_ligand.residues[0].number\n",
        "print(\"LDDT-PLI: \", scorer.score[chain_name][residue_number])\n",
        "\n",
        "# Score with RMSD\n",
        "scorer = SCRMSDScorer(\n",
        "    target = cleaned_target_structure,\n",
        "    target_ligands = [cleaned_target_ligand],\n",
        "    model = cleaned_model_structure,\n",
        "    model_ligands = [cleaned_model_ligand],\n",
        "    # Extra arguments\n",
        "    resnum_alignments=True,\n",
        "    )\n",
        "print(\"BiSyRMSD: \", scorer.score[chain_name][residue_number])\n",
        "print(\"LDDT-LP: \", scorer.aux[chain_name][residue_number][\"lddt_lp\"])\n"
      ],
      "metadata": {
        "id": "BgrWoTKOkhr3",
        "colab": {
          "base_uri": "https://localhost:8080/"
        },
        "outputId": "e8bda8ed-373b-47fc-d81d-f98e05a3b3d1"
      },
      "execution_count": 14,
      "outputs": [
        {
          "output_type": "stream",
          "name": "stdout",
          "text": [
            "LDDT-PLI:  0.7669142\n",
            "BiSyRMSD:  1.943465\n",
            "LDDT-LP:  0.9311297811187265\n"
          ]
        }
      ]
    },
    {
      "cell_type": "markdown",
      "source": [
        "## Scoring from the command line"
      ],
      "metadata": {
        "id": "Dsc7lQGACfgY"
      }
    },
    {
      "cell_type": "code",
      "source": [
        "! ost compare-ligand-structures \\\n",
        "    --reference 9CE4/9CE4_A.pdb \\\n",
        "    --reference-ligands 9CE4/9CE4_lig.sdf \\\n",
        "    --model 9CE4/996_model1.pdb \\\n",
        "    --model-ligands 9CE4/996_model1_ligand1.sdf \\\n",
        "    --output T1186LG350_1.json \\\n",
        "    --lddt-pli \\\n",
        "    --rmsd"
      ],
      "metadata": {
        "id": "5XfKIQZdpmrR",
        "colab": {
          "base_uri": "https://localhost:8080/"
        },
        "outputId": "dfc7dee9-525f-41c1-f548-dfe0330434eb"
      },
      "execution_count": 15,
      "outputs": [
        {
          "output_type": "stream",
          "name": "stdout",
          "text": [
            "imported 1 chains, 0 residues, 0 atoms\n",
            "imported 1 chains, 0 residues, 0 atoms\n"
          ]
        }
      ]
    }
  ]
}